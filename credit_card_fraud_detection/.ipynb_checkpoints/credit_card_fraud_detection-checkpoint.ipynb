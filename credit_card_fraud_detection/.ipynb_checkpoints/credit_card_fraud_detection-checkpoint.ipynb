{
 "cells": [
  {
   "cell_type": "markdown",
   "metadata": {},
   "source": [
    "## Credit Card Fraud Detection\n",
    "\n",
    "Autora: Jéssica Ramos\n",
    "\n",
    "Dataset: https://www.kaggle.com/mlg-ulb/creditcardfraud"
   ]
  },
  {
   "cell_type": "markdown",
   "metadata": {},
   "source": [
    "### Problema"
   ]
  },
  {
   "cell_type": "markdown",
   "metadata": {},
   "source": [
    "**Problema:** Classificar transações de cartão de crédito como de alto ou baixo risco de fraude.\n",
    "\n",
    "**Proposta:** Criar um modelo de classificação que atribua uma probabilidade de fraude para cada transação. A partir dessa probabilidade, será definido um threshold que classificará a transação como \"alto risco\" ou \"baixo risco\"."
   ]
  },
  {
   "cell_type": "markdown",
   "metadata": {},
   "source": [
    "### Entendendo a base"
   ]
  },
  {
   "cell_type": "code",
   "execution_count": 1,
   "metadata": {},
   "outputs": [],
   "source": [
    "import numpy as np\n",
    "import pandas as pd\n",
    "import seaborn as sns\n",
    "import math"
   ]
  },
  {
   "cell_type": "code",
   "execution_count": 2,
   "metadata": {},
   "outputs": [
    {
     "data": {
      "text/html": [
       "<div>\n",
       "<style scoped>\n",
       "    .dataframe tbody tr th:only-of-type {\n",
       "        vertical-align: middle;\n",
       "    }\n",
       "\n",
       "    .dataframe tbody tr th {\n",
       "        vertical-align: top;\n",
       "    }\n",
       "\n",
       "    .dataframe thead th {\n",
       "        text-align: right;\n",
       "    }\n",
       "</style>\n",
       "<table border=\"1\" class=\"dataframe\">\n",
       "  <thead>\n",
       "    <tr style=\"text-align: right;\">\n",
       "      <th></th>\n",
       "      <th>Time</th>\n",
       "      <th>V1</th>\n",
       "      <th>V2</th>\n",
       "      <th>V3</th>\n",
       "      <th>V4</th>\n",
       "      <th>V5</th>\n",
       "      <th>V6</th>\n",
       "      <th>V7</th>\n",
       "      <th>V8</th>\n",
       "      <th>V9</th>\n",
       "      <th>V10</th>\n",
       "      <th>V11</th>\n",
       "      <th>V12</th>\n",
       "      <th>V13</th>\n",
       "      <th>V14</th>\n",
       "      <th>V15</th>\n",
       "      <th>V16</th>\n",
       "      <th>V17</th>\n",
       "      <th>V18</th>\n",
       "      <th>V19</th>\n",
       "      <th>V20</th>\n",
       "      <th>V21</th>\n",
       "      <th>V22</th>\n",
       "      <th>V23</th>\n",
       "      <th>V24</th>\n",
       "      <th>V25</th>\n",
       "      <th>V26</th>\n",
       "      <th>V27</th>\n",
       "      <th>V28</th>\n",
       "      <th>Amount</th>\n",
       "      <th>Class</th>\n",
       "    </tr>\n",
       "  </thead>\n",
       "  <tbody>\n",
       "    <tr>\n",
       "      <th>0</th>\n",
       "      <td>0.00000</td>\n",
       "      <td>-1.35981</td>\n",
       "      <td>-0.07278</td>\n",
       "      <td>2.53635</td>\n",
       "      <td>1.37816</td>\n",
       "      <td>-0.33832</td>\n",
       "      <td>0.46239</td>\n",
       "      <td>0.23960</td>\n",
       "      <td>0.09870</td>\n",
       "      <td>0.36379</td>\n",
       "      <td>0.09079</td>\n",
       "      <td>-0.55160</td>\n",
       "      <td>-0.61780</td>\n",
       "      <td>-0.99139</td>\n",
       "      <td>-0.31117</td>\n",
       "      <td>1.46818</td>\n",
       "      <td>-0.47040</td>\n",
       "      <td>0.20797</td>\n",
       "      <td>0.02579</td>\n",
       "      <td>0.40399</td>\n",
       "      <td>0.25141</td>\n",
       "      <td>-0.01831</td>\n",
       "      <td>0.27784</td>\n",
       "      <td>-0.11047</td>\n",
       "      <td>0.06693</td>\n",
       "      <td>0.12854</td>\n",
       "      <td>-0.18911</td>\n",
       "      <td>0.13356</td>\n",
       "      <td>-0.02105</td>\n",
       "      <td>149.62000</td>\n",
       "      <td>0</td>\n",
       "    </tr>\n",
       "    <tr>\n",
       "      <th>1</th>\n",
       "      <td>0.00000</td>\n",
       "      <td>1.19186</td>\n",
       "      <td>0.26615</td>\n",
       "      <td>0.16648</td>\n",
       "      <td>0.44815</td>\n",
       "      <td>0.06002</td>\n",
       "      <td>-0.08236</td>\n",
       "      <td>-0.07880</td>\n",
       "      <td>0.08510</td>\n",
       "      <td>-0.25543</td>\n",
       "      <td>-0.16697</td>\n",
       "      <td>1.61273</td>\n",
       "      <td>1.06524</td>\n",
       "      <td>0.48910</td>\n",
       "      <td>-0.14377</td>\n",
       "      <td>0.63556</td>\n",
       "      <td>0.46392</td>\n",
       "      <td>-0.11480</td>\n",
       "      <td>-0.18336</td>\n",
       "      <td>-0.14578</td>\n",
       "      <td>-0.06908</td>\n",
       "      <td>-0.22578</td>\n",
       "      <td>-0.63867</td>\n",
       "      <td>0.10129</td>\n",
       "      <td>-0.33985</td>\n",
       "      <td>0.16717</td>\n",
       "      <td>0.12589</td>\n",
       "      <td>-0.00898</td>\n",
       "      <td>0.01472</td>\n",
       "      <td>2.69000</td>\n",
       "      <td>0</td>\n",
       "    </tr>\n",
       "    <tr>\n",
       "      <th>2</th>\n",
       "      <td>1.00000</td>\n",
       "      <td>-1.35835</td>\n",
       "      <td>-1.34016</td>\n",
       "      <td>1.77321</td>\n",
       "      <td>0.37978</td>\n",
       "      <td>-0.50320</td>\n",
       "      <td>1.80050</td>\n",
       "      <td>0.79146</td>\n",
       "      <td>0.24768</td>\n",
       "      <td>-1.51465</td>\n",
       "      <td>0.20764</td>\n",
       "      <td>0.62450</td>\n",
       "      <td>0.06608</td>\n",
       "      <td>0.71729</td>\n",
       "      <td>-0.16595</td>\n",
       "      <td>2.34586</td>\n",
       "      <td>-2.89008</td>\n",
       "      <td>1.10997</td>\n",
       "      <td>-0.12136</td>\n",
       "      <td>-2.26186</td>\n",
       "      <td>0.52498</td>\n",
       "      <td>0.24800</td>\n",
       "      <td>0.77168</td>\n",
       "      <td>0.90941</td>\n",
       "      <td>-0.68928</td>\n",
       "      <td>-0.32764</td>\n",
       "      <td>-0.13910</td>\n",
       "      <td>-0.05535</td>\n",
       "      <td>-0.05975</td>\n",
       "      <td>378.66000</td>\n",
       "      <td>0</td>\n",
       "    </tr>\n",
       "    <tr>\n",
       "      <th>3</th>\n",
       "      <td>1.00000</td>\n",
       "      <td>-0.96627</td>\n",
       "      <td>-0.18523</td>\n",
       "      <td>1.79299</td>\n",
       "      <td>-0.86329</td>\n",
       "      <td>-0.01031</td>\n",
       "      <td>1.24720</td>\n",
       "      <td>0.23761</td>\n",
       "      <td>0.37744</td>\n",
       "      <td>-1.38702</td>\n",
       "      <td>-0.05495</td>\n",
       "      <td>-0.22649</td>\n",
       "      <td>0.17823</td>\n",
       "      <td>0.50776</td>\n",
       "      <td>-0.28792</td>\n",
       "      <td>-0.63142</td>\n",
       "      <td>-1.05965</td>\n",
       "      <td>-0.68409</td>\n",
       "      <td>1.96578</td>\n",
       "      <td>-1.23262</td>\n",
       "      <td>-0.20804</td>\n",
       "      <td>-0.10830</td>\n",
       "      <td>0.00527</td>\n",
       "      <td>-0.19032</td>\n",
       "      <td>-1.17558</td>\n",
       "      <td>0.64738</td>\n",
       "      <td>-0.22193</td>\n",
       "      <td>0.06272</td>\n",
       "      <td>0.06146</td>\n",
       "      <td>123.50000</td>\n",
       "      <td>0</td>\n",
       "    </tr>\n",
       "    <tr>\n",
       "      <th>4</th>\n",
       "      <td>2.00000</td>\n",
       "      <td>-1.15823</td>\n",
       "      <td>0.87774</td>\n",
       "      <td>1.54872</td>\n",
       "      <td>0.40303</td>\n",
       "      <td>-0.40719</td>\n",
       "      <td>0.09592</td>\n",
       "      <td>0.59294</td>\n",
       "      <td>-0.27053</td>\n",
       "      <td>0.81774</td>\n",
       "      <td>0.75307</td>\n",
       "      <td>-0.82284</td>\n",
       "      <td>0.53820</td>\n",
       "      <td>1.34585</td>\n",
       "      <td>-1.11967</td>\n",
       "      <td>0.17512</td>\n",
       "      <td>-0.45145</td>\n",
       "      <td>-0.23703</td>\n",
       "      <td>-0.03819</td>\n",
       "      <td>0.80349</td>\n",
       "      <td>0.40854</td>\n",
       "      <td>-0.00943</td>\n",
       "      <td>0.79828</td>\n",
       "      <td>-0.13746</td>\n",
       "      <td>0.14127</td>\n",
       "      <td>-0.20601</td>\n",
       "      <td>0.50229</td>\n",
       "      <td>0.21942</td>\n",
       "      <td>0.21515</td>\n",
       "      <td>69.99000</td>\n",
       "      <td>0</td>\n",
       "    </tr>\n",
       "  </tbody>\n",
       "</table>\n",
       "</div>"
      ],
      "text/plain": [
       "     Time       V1       V2      V3       V4       V5       V6       V7  \\\n",
       "0 0.00000 -1.35981 -0.07278 2.53635  1.37816 -0.33832  0.46239  0.23960   \n",
       "1 0.00000  1.19186  0.26615 0.16648  0.44815  0.06002 -0.08236 -0.07880   \n",
       "2 1.00000 -1.35835 -1.34016 1.77321  0.37978 -0.50320  1.80050  0.79146   \n",
       "3 1.00000 -0.96627 -0.18523 1.79299 -0.86329 -0.01031  1.24720  0.23761   \n",
       "4 2.00000 -1.15823  0.87774 1.54872  0.40303 -0.40719  0.09592  0.59294   \n",
       "\n",
       "        V8       V9      V10      V11      V12      V13      V14      V15  \\\n",
       "0  0.09870  0.36379  0.09079 -0.55160 -0.61780 -0.99139 -0.31117  1.46818   \n",
       "1  0.08510 -0.25543 -0.16697  1.61273  1.06524  0.48910 -0.14377  0.63556   \n",
       "2  0.24768 -1.51465  0.20764  0.62450  0.06608  0.71729 -0.16595  2.34586   \n",
       "3  0.37744 -1.38702 -0.05495 -0.22649  0.17823  0.50776 -0.28792 -0.63142   \n",
       "4 -0.27053  0.81774  0.75307 -0.82284  0.53820  1.34585 -1.11967  0.17512   \n",
       "\n",
       "       V16      V17      V18      V19      V20      V21      V22      V23  \\\n",
       "0 -0.47040  0.20797  0.02579  0.40399  0.25141 -0.01831  0.27784 -0.11047   \n",
       "1  0.46392 -0.11480 -0.18336 -0.14578 -0.06908 -0.22578 -0.63867  0.10129   \n",
       "2 -2.89008  1.10997 -0.12136 -2.26186  0.52498  0.24800  0.77168  0.90941   \n",
       "3 -1.05965 -0.68409  1.96578 -1.23262 -0.20804 -0.10830  0.00527 -0.19032   \n",
       "4 -0.45145 -0.23703 -0.03819  0.80349  0.40854 -0.00943  0.79828 -0.13746   \n",
       "\n",
       "       V24      V25      V26      V27      V28    Amount  Class  \n",
       "0  0.06693  0.12854 -0.18911  0.13356 -0.02105 149.62000      0  \n",
       "1 -0.33985  0.16717  0.12589 -0.00898  0.01472   2.69000      0  \n",
       "2 -0.68928 -0.32764 -0.13910 -0.05535 -0.05975 378.66000      0  \n",
       "3 -1.17558  0.64738 -0.22193  0.06272  0.06146 123.50000      0  \n",
       "4  0.14127 -0.20601  0.50229  0.21942  0.21515  69.99000      0  "
      ]
     },
     "execution_count": 2,
     "metadata": {},
     "output_type": "execute_result"
    }
   ],
   "source": [
    "pd.set_option('display.max_columns', None)\n",
    "pd.set_option('display.float_format', lambda x: '%.5f' % x)\n",
    "\n",
    "# leitura do dataset\n",
    "data = pd.read_csv('./data/creditcard.csv')\n",
    "data.head()"
   ]
  },
  {
   "cell_type": "markdown",
   "metadata": {},
   "source": [
    "**Colunas do dataset:**\n",
    "\n",
    "- Time: Segundos entre a primeira transação do dataset e a transação em questão.\n",
    "- V1 a V28: Componentes principais obtidos das variáveis originais.\n",
    "- Amount: Valor da transação.\n",
    "- Class: A classificação da transação, sendo 1 = fraude e 0 = não fraude."
   ]
  },
  {
   "cell_type": "code",
   "execution_count": 3,
   "metadata": {},
   "outputs": [
    {
     "data": {
      "text/html": [
       "<div>\n",
       "<style scoped>\n",
       "    .dataframe tbody tr th:only-of-type {\n",
       "        vertical-align: middle;\n",
       "    }\n",
       "\n",
       "    .dataframe tbody tr th {\n",
       "        vertical-align: top;\n",
       "    }\n",
       "\n",
       "    .dataframe thead th {\n",
       "        text-align: right;\n",
       "    }\n",
       "</style>\n",
       "<table border=\"1\" class=\"dataframe\">\n",
       "  <thead>\n",
       "    <tr style=\"text-align: right;\">\n",
       "      <th></th>\n",
       "      <th>Time</th>\n",
       "      <th>V1</th>\n",
       "      <th>V2</th>\n",
       "      <th>V3</th>\n",
       "      <th>V4</th>\n",
       "      <th>V5</th>\n",
       "      <th>V6</th>\n",
       "      <th>V7</th>\n",
       "      <th>V8</th>\n",
       "      <th>V9</th>\n",
       "      <th>V10</th>\n",
       "      <th>V11</th>\n",
       "      <th>V12</th>\n",
       "      <th>V13</th>\n",
       "      <th>V14</th>\n",
       "      <th>V15</th>\n",
       "      <th>V16</th>\n",
       "      <th>V17</th>\n",
       "      <th>V18</th>\n",
       "      <th>V19</th>\n",
       "      <th>V20</th>\n",
       "      <th>V21</th>\n",
       "      <th>V22</th>\n",
       "      <th>V23</th>\n",
       "      <th>V24</th>\n",
       "      <th>V25</th>\n",
       "      <th>V26</th>\n",
       "      <th>V27</th>\n",
       "      <th>V28</th>\n",
       "      <th>Amount</th>\n",
       "      <th>Class</th>\n",
       "    </tr>\n",
       "  </thead>\n",
       "  <tbody>\n",
       "    <tr>\n",
       "      <th>count</th>\n",
       "      <td>284807.00000</td>\n",
       "      <td>284807.00000</td>\n",
       "      <td>284807.00000</td>\n",
       "      <td>284807.00000</td>\n",
       "      <td>284807.00000</td>\n",
       "      <td>284807.00000</td>\n",
       "      <td>284807.00000</td>\n",
       "      <td>284807.00000</td>\n",
       "      <td>284807.00000</td>\n",
       "      <td>284807.00000</td>\n",
       "      <td>284807.00000</td>\n",
       "      <td>284807.00000</td>\n",
       "      <td>284807.00000</td>\n",
       "      <td>284807.00000</td>\n",
       "      <td>284807.00000</td>\n",
       "      <td>284807.00000</td>\n",
       "      <td>284807.00000</td>\n",
       "      <td>284807.00000</td>\n",
       "      <td>284807.00000</td>\n",
       "      <td>284807.00000</td>\n",
       "      <td>284807.00000</td>\n",
       "      <td>284807.00000</td>\n",
       "      <td>284807.00000</td>\n",
       "      <td>284807.00000</td>\n",
       "      <td>284807.00000</td>\n",
       "      <td>284807.00000</td>\n",
       "      <td>284807.00000</td>\n",
       "      <td>284807.00000</td>\n",
       "      <td>284807.00000</td>\n",
       "      <td>284807.00000</td>\n",
       "      <td>284807.00000</td>\n",
       "    </tr>\n",
       "    <tr>\n",
       "      <th>mean</th>\n",
       "      <td>94813.85958</td>\n",
       "      <td>0.00000</td>\n",
       "      <td>0.00000</td>\n",
       "      <td>-0.00000</td>\n",
       "      <td>0.00000</td>\n",
       "      <td>-0.00000</td>\n",
       "      <td>0.00000</td>\n",
       "      <td>-0.00000</td>\n",
       "      <td>-0.00000</td>\n",
       "      <td>-0.00000</td>\n",
       "      <td>0.00000</td>\n",
       "      <td>0.00000</td>\n",
       "      <td>-0.00000</td>\n",
       "      <td>0.00000</td>\n",
       "      <td>0.00000</td>\n",
       "      <td>0.00000</td>\n",
       "      <td>0.00000</td>\n",
       "      <td>-0.00000</td>\n",
       "      <td>0.00000</td>\n",
       "      <td>0.00000</td>\n",
       "      <td>0.00000</td>\n",
       "      <td>0.00000</td>\n",
       "      <td>0.00000</td>\n",
       "      <td>0.00000</td>\n",
       "      <td>0.00000</td>\n",
       "      <td>0.00000</td>\n",
       "      <td>0.00000</td>\n",
       "      <td>-0.00000</td>\n",
       "      <td>-0.00000</td>\n",
       "      <td>88.34962</td>\n",
       "      <td>0.00173</td>\n",
       "    </tr>\n",
       "    <tr>\n",
       "      <th>std</th>\n",
       "      <td>47488.14595</td>\n",
       "      <td>1.95870</td>\n",
       "      <td>1.65131</td>\n",
       "      <td>1.51626</td>\n",
       "      <td>1.41587</td>\n",
       "      <td>1.38025</td>\n",
       "      <td>1.33227</td>\n",
       "      <td>1.23709</td>\n",
       "      <td>1.19435</td>\n",
       "      <td>1.09863</td>\n",
       "      <td>1.08885</td>\n",
       "      <td>1.02071</td>\n",
       "      <td>0.99920</td>\n",
       "      <td>0.99527</td>\n",
       "      <td>0.95860</td>\n",
       "      <td>0.91532</td>\n",
       "      <td>0.87625</td>\n",
       "      <td>0.84934</td>\n",
       "      <td>0.83818</td>\n",
       "      <td>0.81404</td>\n",
       "      <td>0.77093</td>\n",
       "      <td>0.73452</td>\n",
       "      <td>0.72570</td>\n",
       "      <td>0.62446</td>\n",
       "      <td>0.60565</td>\n",
       "      <td>0.52128</td>\n",
       "      <td>0.48223</td>\n",
       "      <td>0.40363</td>\n",
       "      <td>0.33008</td>\n",
       "      <td>250.12011</td>\n",
       "      <td>0.04153</td>\n",
       "    </tr>\n",
       "    <tr>\n",
       "      <th>min</th>\n",
       "      <td>0.00000</td>\n",
       "      <td>-56.40751</td>\n",
       "      <td>-72.71573</td>\n",
       "      <td>-48.32559</td>\n",
       "      <td>-5.68317</td>\n",
       "      <td>-113.74331</td>\n",
       "      <td>-26.16051</td>\n",
       "      <td>-43.55724</td>\n",
       "      <td>-73.21672</td>\n",
       "      <td>-13.43407</td>\n",
       "      <td>-24.58826</td>\n",
       "      <td>-4.79747</td>\n",
       "      <td>-18.68371</td>\n",
       "      <td>-5.79188</td>\n",
       "      <td>-19.21433</td>\n",
       "      <td>-4.49894</td>\n",
       "      <td>-14.12985</td>\n",
       "      <td>-25.16280</td>\n",
       "      <td>-9.49875</td>\n",
       "      <td>-7.21353</td>\n",
       "      <td>-54.49772</td>\n",
       "      <td>-34.83038</td>\n",
       "      <td>-10.93314</td>\n",
       "      <td>-44.80774</td>\n",
       "      <td>-2.83663</td>\n",
       "      <td>-10.29540</td>\n",
       "      <td>-2.60455</td>\n",
       "      <td>-22.56568</td>\n",
       "      <td>-15.43008</td>\n",
       "      <td>0.00000</td>\n",
       "      <td>0.00000</td>\n",
       "    </tr>\n",
       "    <tr>\n",
       "      <th>25%</th>\n",
       "      <td>54201.50000</td>\n",
       "      <td>-0.92037</td>\n",
       "      <td>-0.59855</td>\n",
       "      <td>-0.89036</td>\n",
       "      <td>-0.84864</td>\n",
       "      <td>-0.69160</td>\n",
       "      <td>-0.76830</td>\n",
       "      <td>-0.55408</td>\n",
       "      <td>-0.20863</td>\n",
       "      <td>-0.64310</td>\n",
       "      <td>-0.53543</td>\n",
       "      <td>-0.76249</td>\n",
       "      <td>-0.40557</td>\n",
       "      <td>-0.64854</td>\n",
       "      <td>-0.42557</td>\n",
       "      <td>-0.58288</td>\n",
       "      <td>-0.46804</td>\n",
       "      <td>-0.48375</td>\n",
       "      <td>-0.49885</td>\n",
       "      <td>-0.45630</td>\n",
       "      <td>-0.21172</td>\n",
       "      <td>-0.22839</td>\n",
       "      <td>-0.54235</td>\n",
       "      <td>-0.16185</td>\n",
       "      <td>-0.35459</td>\n",
       "      <td>-0.31715</td>\n",
       "      <td>-0.32698</td>\n",
       "      <td>-0.07084</td>\n",
       "      <td>-0.05296</td>\n",
       "      <td>5.60000</td>\n",
       "      <td>0.00000</td>\n",
       "    </tr>\n",
       "    <tr>\n",
       "      <th>50%</th>\n",
       "      <td>84692.00000</td>\n",
       "      <td>0.01811</td>\n",
       "      <td>0.06549</td>\n",
       "      <td>0.17985</td>\n",
       "      <td>-0.01985</td>\n",
       "      <td>-0.05434</td>\n",
       "      <td>-0.27419</td>\n",
       "      <td>0.04010</td>\n",
       "      <td>0.02236</td>\n",
       "      <td>-0.05143</td>\n",
       "      <td>-0.09292</td>\n",
       "      <td>-0.03276</td>\n",
       "      <td>0.14003</td>\n",
       "      <td>-0.01357</td>\n",
       "      <td>0.05060</td>\n",
       "      <td>0.04807</td>\n",
       "      <td>0.06641</td>\n",
       "      <td>-0.06568</td>\n",
       "      <td>-0.00364</td>\n",
       "      <td>0.00373</td>\n",
       "      <td>-0.06248</td>\n",
       "      <td>-0.02945</td>\n",
       "      <td>0.00678</td>\n",
       "      <td>-0.01119</td>\n",
       "      <td>0.04098</td>\n",
       "      <td>0.01659</td>\n",
       "      <td>-0.05214</td>\n",
       "      <td>0.00134</td>\n",
       "      <td>0.01124</td>\n",
       "      <td>22.00000</td>\n",
       "      <td>0.00000</td>\n",
       "    </tr>\n",
       "    <tr>\n",
       "      <th>75%</th>\n",
       "      <td>139320.50000</td>\n",
       "      <td>1.31564</td>\n",
       "      <td>0.80372</td>\n",
       "      <td>1.02720</td>\n",
       "      <td>0.74334</td>\n",
       "      <td>0.61193</td>\n",
       "      <td>0.39856</td>\n",
       "      <td>0.57044</td>\n",
       "      <td>0.32735</td>\n",
       "      <td>0.59714</td>\n",
       "      <td>0.45392</td>\n",
       "      <td>0.73959</td>\n",
       "      <td>0.61824</td>\n",
       "      <td>0.66250</td>\n",
       "      <td>0.49315</td>\n",
       "      <td>0.64882</td>\n",
       "      <td>0.52330</td>\n",
       "      <td>0.39967</td>\n",
       "      <td>0.50081</td>\n",
       "      <td>0.45895</td>\n",
       "      <td>0.13304</td>\n",
       "      <td>0.18638</td>\n",
       "      <td>0.52855</td>\n",
       "      <td>0.14764</td>\n",
       "      <td>0.43953</td>\n",
       "      <td>0.35072</td>\n",
       "      <td>0.24095</td>\n",
       "      <td>0.09105</td>\n",
       "      <td>0.07828</td>\n",
       "      <td>77.16500</td>\n",
       "      <td>0.00000</td>\n",
       "    </tr>\n",
       "    <tr>\n",
       "      <th>max</th>\n",
       "      <td>172792.00000</td>\n",
       "      <td>2.45493</td>\n",
       "      <td>22.05773</td>\n",
       "      <td>9.38256</td>\n",
       "      <td>16.87534</td>\n",
       "      <td>34.80167</td>\n",
       "      <td>73.30163</td>\n",
       "      <td>120.58949</td>\n",
       "      <td>20.00721</td>\n",
       "      <td>15.59499</td>\n",
       "      <td>23.74514</td>\n",
       "      <td>12.01891</td>\n",
       "      <td>7.84839</td>\n",
       "      <td>7.12688</td>\n",
       "      <td>10.52677</td>\n",
       "      <td>8.87774</td>\n",
       "      <td>17.31511</td>\n",
       "      <td>9.25353</td>\n",
       "      <td>5.04107</td>\n",
       "      <td>5.59197</td>\n",
       "      <td>39.42090</td>\n",
       "      <td>27.20284</td>\n",
       "      <td>10.50309</td>\n",
       "      <td>22.52841</td>\n",
       "      <td>4.58455</td>\n",
       "      <td>7.51959</td>\n",
       "      <td>3.51735</td>\n",
       "      <td>31.61220</td>\n",
       "      <td>33.84781</td>\n",
       "      <td>25691.16000</td>\n",
       "      <td>1.00000</td>\n",
       "    </tr>\n",
       "  </tbody>\n",
       "</table>\n",
       "</div>"
      ],
      "text/plain": [
       "              Time           V1           V2           V3           V4  \\\n",
       "count 284807.00000 284807.00000 284807.00000 284807.00000 284807.00000   \n",
       "mean   94813.85958      0.00000      0.00000     -0.00000      0.00000   \n",
       "std    47488.14595      1.95870      1.65131      1.51626      1.41587   \n",
       "min        0.00000    -56.40751    -72.71573    -48.32559     -5.68317   \n",
       "25%    54201.50000     -0.92037     -0.59855     -0.89036     -0.84864   \n",
       "50%    84692.00000      0.01811      0.06549      0.17985     -0.01985   \n",
       "75%   139320.50000      1.31564      0.80372      1.02720      0.74334   \n",
       "max   172792.00000      2.45493     22.05773      9.38256     16.87534   \n",
       "\n",
       "                V5           V6           V7           V8           V9  \\\n",
       "count 284807.00000 284807.00000 284807.00000 284807.00000 284807.00000   \n",
       "mean      -0.00000      0.00000     -0.00000     -0.00000     -0.00000   \n",
       "std        1.38025      1.33227      1.23709      1.19435      1.09863   \n",
       "min     -113.74331    -26.16051    -43.55724    -73.21672    -13.43407   \n",
       "25%       -0.69160     -0.76830     -0.55408     -0.20863     -0.64310   \n",
       "50%       -0.05434     -0.27419      0.04010      0.02236     -0.05143   \n",
       "75%        0.61193      0.39856      0.57044      0.32735      0.59714   \n",
       "max       34.80167     73.30163    120.58949     20.00721     15.59499   \n",
       "\n",
       "               V10          V11          V12          V13          V14  \\\n",
       "count 284807.00000 284807.00000 284807.00000 284807.00000 284807.00000   \n",
       "mean       0.00000      0.00000     -0.00000      0.00000      0.00000   \n",
       "std        1.08885      1.02071      0.99920      0.99527      0.95860   \n",
       "min      -24.58826     -4.79747    -18.68371     -5.79188    -19.21433   \n",
       "25%       -0.53543     -0.76249     -0.40557     -0.64854     -0.42557   \n",
       "50%       -0.09292     -0.03276      0.14003     -0.01357      0.05060   \n",
       "75%        0.45392      0.73959      0.61824      0.66250      0.49315   \n",
       "max       23.74514     12.01891      7.84839      7.12688     10.52677   \n",
       "\n",
       "               V15          V16          V17          V18          V19  \\\n",
       "count 284807.00000 284807.00000 284807.00000 284807.00000 284807.00000   \n",
       "mean       0.00000      0.00000     -0.00000      0.00000      0.00000   \n",
       "std        0.91532      0.87625      0.84934      0.83818      0.81404   \n",
       "min       -4.49894    -14.12985    -25.16280     -9.49875     -7.21353   \n",
       "25%       -0.58288     -0.46804     -0.48375     -0.49885     -0.45630   \n",
       "50%        0.04807      0.06641     -0.06568     -0.00364      0.00373   \n",
       "75%        0.64882      0.52330      0.39967      0.50081      0.45895   \n",
       "max        8.87774     17.31511      9.25353      5.04107      5.59197   \n",
       "\n",
       "               V20          V21          V22          V23          V24  \\\n",
       "count 284807.00000 284807.00000 284807.00000 284807.00000 284807.00000   \n",
       "mean       0.00000      0.00000      0.00000      0.00000      0.00000   \n",
       "std        0.77093      0.73452      0.72570      0.62446      0.60565   \n",
       "min      -54.49772    -34.83038    -10.93314    -44.80774     -2.83663   \n",
       "25%       -0.21172     -0.22839     -0.54235     -0.16185     -0.35459   \n",
       "50%       -0.06248     -0.02945      0.00678     -0.01119      0.04098   \n",
       "75%        0.13304      0.18638      0.52855      0.14764      0.43953   \n",
       "max       39.42090     27.20284     10.50309     22.52841      4.58455   \n",
       "\n",
       "               V25          V26          V27          V28       Amount  \\\n",
       "count 284807.00000 284807.00000 284807.00000 284807.00000 284807.00000   \n",
       "mean       0.00000      0.00000     -0.00000     -0.00000     88.34962   \n",
       "std        0.52128      0.48223      0.40363      0.33008    250.12011   \n",
       "min      -10.29540     -2.60455    -22.56568    -15.43008      0.00000   \n",
       "25%       -0.31715     -0.32698     -0.07084     -0.05296      5.60000   \n",
       "50%        0.01659     -0.05214      0.00134      0.01124     22.00000   \n",
       "75%        0.35072      0.24095      0.09105      0.07828     77.16500   \n",
       "max        7.51959      3.51735     31.61220     33.84781  25691.16000   \n",
       "\n",
       "             Class  \n",
       "count 284807.00000  \n",
       "mean       0.00173  \n",
       "std        0.04153  \n",
       "min        0.00000  \n",
       "25%        0.00000  \n",
       "50%        0.00000  \n",
       "75%        0.00000  \n",
       "max        1.00000  "
      ]
     },
     "execution_count": 3,
     "metadata": {},
     "output_type": "execute_result"
    }
   ],
   "source": [
    "# medidas descritivas\n",
    "data.describe()"
   ]
  },
  {
   "cell_type": "markdown",
   "metadata": {},
   "source": [
    "Todas as variáveis estão completas. 0.173% da base é composta de transações fraudulentas."
   ]
  },
  {
   "cell_type": "markdown",
   "metadata": {},
   "source": [
    "#### Distribuição das variáveis nos grupos"
   ]
  },
  {
   "cell_type": "code",
   "execution_count": 4,
   "metadata": {},
   "outputs": [],
   "source": [
    "def boxplot(variable):\n",
    "    sns.catplot(data = data, x = 'Class', y = variable, kind = 'box').set(title = variable)"
   ]
  },
  {
   "cell_type": "code",
   "execution_count": 5,
   "metadata": {},
   "outputs": [
    {
     "data": {
      "image/png": "[encoded data removed]",
      "text/plain": [
       "<Figure size 360x360 with 1 Axes>"
      ]
     },
     "metadata": {
      "needs_background": "light"
     },
     "output_type": "display_data"
    }
   ],
   "source": [
    "boxplot('Amount')"
   ]
  },
  {
   "cell_type": "markdown",
   "metadata": {},
   "source": [
    "A variável `Amount` é bastante assimétrica à direita. Vou aplicar uma transformação de log para ser mais fácil visualizar a distribuição. Como existe o valor 0 em amount, vou também adicionar 1 unidade no valor da variável."
   ]
  },
  {
   "cell_type": "code",
   "execution_count": 6,
   "metadata": {},
   "outputs": [
    {
     "data": {
      "image/png": "[encoded data removed]",
      "text/plain": [
       "<Figure size 360x360 with 1 Axes>"
      ]
     },
     "metadata": {
      "needs_background": "light"
     },
     "output_type": "display_data"
    }
   ],
   "source": [
    "data['log_Amount'] = data['Amount'].apply(lambda x: math.log(x+1))\n",
    "\n",
    "boxplot('log_Amount')"
   ]
  },
  {
   "cell_type": "markdown",
   "metadata": {},
   "source": [
    "As transações fraudulentas têm valores mais dispersos do que as transações legítimas."
   ]
  },
  {
   "cell_type": "markdown",
   "metadata": {},
   "source": [
    "As demais variáveis não têm interpertação direta associada, mas vou plotar os boxplots para ter uma ideia de separação entre os grupos."
   ]
  },
  {
   "cell_type": "code",
   "execution_count": 7,
   "metadata": {},
   "outputs": [
    {
     "data": {
      "image/png": "[encoded data removed]",
      "text/plain": [
       "<Figure size 360x360 with 1 Axes>"
      ]
     },
     "metadata": {
      "needs_background": "light"
     },
     "output_type": "display_data"
    }
   ],
   "source": [
    "boxplot('V1')"
   ]
  },
  {
   "cell_type": "code",
   "execution_count": 8,
   "metadata": {},
   "outputs": [
    {
     "data": {
      "image/png": "[encoded data removed]",
      "text/plain": [
       "<Figure size 360x360 with 1 Axes>"
      ]
     },
     "metadata": {
      "needs_background": "light"
     },
     "output_type": "display_data"
    }
   ],
   "source": [
    "boxplot('V2')"
   ]
  },
  {
   "cell_type": "code",
   "execution_count": 9,
   "metadata": {},
   "outputs": [
    {
     "data": {
      "image/png": "[encoded data removed]",
      "text/plain": [
       "<Figure size 360x360 with 1 Axes>"
      ]
     },
     "metadata": {
      "needs_background": "light"
     },
     "output_type": "display_data"
    }
   ],
   "source": [
    "boxplot('V3')"
   ]
  },
  {
   "cell_type": "code",
   "execution_count": 10,
   "metadata": {},
   "outputs": [
    {
     "data": {
      "image/png": "[encoded data removed]",
      "text/plain": [
       "<Figure size 360x360 with 1 Axes>"
      ]
     },
     "metadata": {
      "needs_background": "light"
     },
     "output_type": "display_data"
    }
   ],
   "source": [
    "boxplot('V4')"
   ]
  },
  {
   "cell_type": "code",
   "execution_count": 11,
   "metadata": {},
   "outputs": [
    {
     "data": {
      "image/png": "[encoded data removed]",
      "text/plain": [
       "<Figure size 360x360 with 1 Axes>"
      ]
     },
     "metadata": {
      "needs_background": "light"
     },
     "output_type": "display_data"
    }
   ],
   "source": [
    "boxplot('V5')"
   ]
  },
  {
   "cell_type": "code",
   "execution_count": 12,
   "metadata": {},
   "outputs": [
    {
     "data": {
      "image/png": "[encoded data removed]",
      "text/plain": [
       "<Figure size 360x360 with 1 Axes>"
      ]
     },
     "metadata": {
      "needs_background": "light"
     },
     "output_type": "display_data"
    }
   ],
   "source": [
    "boxplot('V6')"
   ]
  },
  {
   "cell_type": "code",
   "execution_count": 13,
   "metadata": {},
   "outputs": [
    {
     "data": {
      "image/png": "[encoded data removed]",
      "text/plain": [
       "<Figure size 360x360 with 1 Axes>"
      ]
     },
     "metadata": {
      "needs_background": "light"
     },
     "output_type": "display_data"
    }
   ],
   "source": [
    "boxplot('V7')"
   ]
  },
  {
   "cell_type": "code",
   "execution_count": 14,
   "metadata": {},
   "outputs": [
    {
     "data": {
      "image/png": "[encoded data removed]",
      "text/plain": [
       "<Figure size 360x360 with 1 Axes>"
      ]
     },
     "metadata": {
      "needs_background": "light"
     },
     "output_type": "display_data"
    }
   ],
   "source": [
    "boxplot('V8')"
   ]
  },
  {
   "cell_type": "code",
   "execution_count": 15,
   "metadata": {},
   "outputs": [
    {
     "data": {
      "image/png": "[encoded data removed]",
      "text/plain": [
       "<Figure size 360x360 with 1 Axes>"
      ]
     },
     "metadata": {
      "needs_background": "light"
     },
     "output_type": "display_data"
    }
   ],
   "source": [
    "boxplot('V9')"
   ]
  },
  {
   "cell_type": "code",
   "execution_count": 16,
   "metadata": {},
   "outputs": [
    {
     "data": {
      "image/png": "[encoded data removed]",
      "text/plain": [
       "<Figure size 360x360 with 1 Axes>"
      ]
     },
     "metadata": {
      "needs_background": "light"
     },
     "output_type": "display_data"
    }
   ],
   "source": [
    "boxplot('V10')"
   ]
  },
  {
   "cell_type": "code",
   "execution_count": 17,
   "metadata": {},
   "outputs": [
    {
     "data": {
      "image/png": "[encoded data removed]",
      "text/plain": [
       "<Figure size 360x360 with 1 Axes>"
      ]
     },
     "metadata": {
      "needs_background": "light"
     },
     "output_type": "display_data"
    }
   ],
   "source": [
    "boxplot('V11')"
   ]
  },
  {
   "cell_type": "code",
   "execution_count": 18,
   "metadata": {},
   "outputs": [
    {
     "data": {
      "image/png": "[encoded data removed]",
      "text/plain": [
       "<Figure size 360x360 with 1 Axes>"
      ]
     },
     "metadata": {
      "needs_background": "light"
     },
     "output_type": "display_data"
    }
   ],
   "source": [
    "boxplot('V12')"
   ]
  },
  {
   "cell_type": "code",
   "execution_count": 19,
   "metadata": {},
   "outputs": [
    {
     "data": {
      "image/png": "[encoded data removed]",
      "text/plain": [
       "<Figure size 360x360 with 1 Axes>"
      ]
     },
     "metadata": {
      "needs_background": "light"
     },
     "output_type": "display_data"
    }
   ],
   "source": [
    "boxplot('V13')"
   ]
  },
  {
   "cell_type": "code",
   "execution_count": 20,
   "metadata": {},
   "outputs": [
    {
     "data": {
      "image/png": "[encoded data removed]",
      "text/plain": [
       "<Figure size 360x360 with 1 Axes>"
      ]
     },
     "metadata": {
      "needs_background": "light"
     },
     "output_type": "display_data"
    }
   ],
   "source": [
    "boxplot('V14')"
   ]
  },
  {
   "cell_type": "code",
   "execution_count": 21,
   "metadata": {},
   "outputs": [
    {
     "data": {
      "image/png": "[encoded data removed]",
      "text/plain": [
       "<Figure size 360x360 with 1 Axes>"
      ]
     },
     "metadata": {
      "needs_background": "light"
     },
     "output_type": "display_data"
    }
   ],
   "source": [
    "boxplot('V15')"
   ]
  },
  {
   "cell_type": "code",
   "execution_count": 22,
   "metadata": {},
   "outputs": [
    {
     "data": {
      "image/png": "[encoded data removed]",
      "text/plain": [
       "<Figure size 360x360 with 1 Axes>"
      ]
     },
     "metadata": {
      "needs_background": "light"
     },
     "output_type": "display_data"
    }
   ],
   "source": [
    "boxplot('V16')"
   ]
  },
  {
   "cell_type": "code",
   "execution_count": 23,
   "metadata": {},
   "outputs": [
    {
     "data": {
      "image/png": "[encoded data removed]",
      "text/plain": [
       "<Figure size 360x360 with 1 Axes>"
      ]
     },
     "metadata": {
      "needs_background": "light"
     },
     "output_type": "display_data"
    }
   ],
   "source": [
    "boxplot('V17')"
   ]
  },
  {
   "cell_type": "code",
   "execution_count": 24,
   "metadata": {},
   "outputs": [
    {
     "data": {
      "image/png": "[encoded data removed]",
      "text/plain": [
       "<Figure size 360x360 with 1 Axes>"
      ]
     },
     "metadata": {
      "needs_background": "light"
     },
     "output_type": "display_data"
    }
   ],
   "source": [
    "boxplot('V18')"
   ]
  },
  {
   "cell_type": "code",
   "execution_count": 25,
   "metadata": {},
   "outputs": [
    {
     "data": {
      "image/png": "[encoded data removed]",
      "text/plain": [
       "<Figure size 360x360 with 1 Axes>"
      ]
     },
     "metadata": {
      "needs_background": "light"
     },
     "output_type": "display_data"
    }
   ],
   "source": [
    "boxplot('V19')"
   ]
  },
  {
   "cell_type": "code",
   "execution_count": 26,
   "metadata": {},
   "outputs": [
    {
     "data": {
      "image/png": "[encoded data removed]",
      "text/plain": [
       "<Figure size 360x360 with 1 Axes>"
      ]
     },
     "metadata": {
      "needs_background": "light"
     },
     "output_type": "display_data"
    }
   ],
   "source": [
    "boxplot('V20')"
   ]
  },
  {
   "cell_type": "code",
   "execution_count": 27,
   "metadata": {},
   "outputs": [
    {
     "data": {
      "image/png": "[encoded data removed]",
      "text/plain": [
       "<Figure size 360x360 with 1 Axes>"
      ]
     },
     "metadata": {
      "needs_background": "light"
     },
     "output_type": "display_data"
    }
   ],
   "source": [
    "boxplot('V21')"
   ]
  },
  {
   "cell_type": "code",
   "execution_count": 28,
   "metadata": {},
   "outputs": [
    {
     "data": {
      "image/png": "[encoded data removed]",
      "text/plain": [
       "<Figure size 360x360 with 1 Axes>"
      ]
     },
     "metadata": {
      "needs_background": "light"
     },
     "output_type": "display_data"
    }
   ],
   "source": [
    "boxplot('V22')"
   ]
  },
  {
   "cell_type": "code",
   "execution_count": 29,
   "metadata": {},
   "outputs": [
    {
     "data": {
      "image/png": "[encoded data removed]",
      "text/plain": [
       "<Figure size 360x360 with 1 Axes>"
      ]
     },
     "metadata": {
      "needs_background": "light"
     },
     "output_type": "display_data"
    }
   ],
   "source": [
    "boxplot('V23')"
   ]
  },
  {
   "cell_type": "code",
   "execution_count": 30,
   "metadata": {},
   "outputs": [
    {
     "data": {
      "image/png": "[encoded data removed]",
      "text/plain": [
       "<Figure size 360x360 with 1 Axes>"
      ]
     },
     "metadata": {
      "needs_background": "light"
     },
     "output_type": "display_data"
    }
   ],
   "source": [
    "boxplot('V24')"
   ]
  },
  {
   "cell_type": "code",
   "execution_count": 31,
   "metadata": {},
   "outputs": [
    {
     "data": {
      "image/png": "[encoded data removed]",
      "text/plain": [
       "<Figure size 360x360 with 1 Axes>"
      ]
     },
     "metadata": {
      "needs_background": "light"
     },
     "output_type": "display_data"
    }
   ],
   "source": [
    "boxplot('V25')"
   ]
  },
  {
   "cell_type": "code",
   "execution_count": 32,
   "metadata": {},
   "outputs": [
    {
     "data": {
      "image/png": "[encoded data removed]",
      "text/plain": [
       "<Figure size 360x360 with 1 Axes>"
      ]
     },
     "metadata": {
      "needs_background": "light"
     },
     "output_type": "display_data"
    }
   ],
   "source": [
    "boxplot('V26')"
   ]
  },
  {
   "cell_type": "code",
   "execution_count": 33,
   "metadata": {},
   "outputs": [
    {
     "data": {
      "image/png": "[encoded data removed]",
      "text/plain": [
       "<Figure size 360x360 with 1 Axes>"
      ]
     },
     "metadata": {
      "needs_background": "light"
     },
     "output_type": "display_data"
    }
   ],
   "source": [
    "boxplot('V27')"
   ]
  },
  {
   "cell_type": "code",
   "execution_count": 34,
   "metadata": {},
   "outputs": [
    {
     "data": {
      "image/png": "[encoded data removed]",
      "text/plain": [
       "<Figure size 360x360 with 1 Axes>"
      ]
     },
     "metadata": {
      "needs_background": "light"
     },
     "output_type": "display_data"
    }
   ],
   "source": [
    "boxplot('V28')"
   ]
  },
  {
   "cell_type": "markdown",
   "metadata": {},
   "source": [
    "Em muitas variáveis não existe clara separação das distribuições. Em geral, a classe de transações fraudulentas tem valores mais dispersos. Ambas as classes têm distribuições com muitos outliers."
   ]
  },
  {
   "cell_type": "markdown",
   "metadata": {},
   "source": [
    "Como as variáveis são resultado de PCA, não precisamos nos preocupar com colinearidades entre elas."
   ]
  },
  {
   "cell_type": "markdown",
   "metadata": {},
   "source": [
    "### Separação das bases de treino e teste"
   ]
  },
  {
   "cell_type": "markdown",
   "metadata": {},
   "source": [
    "Vou dividir a base usando 70% para treino e 30% para teste. As transações da base de teste serão as últimas, usando a variável Time como referência."
   ]
  },
  {
   "cell_type": "code",
   "execution_count": 35,
   "metadata": {},
   "outputs": [
    {
     "data": {
      "text/plain": [
       "132929.0"
      ]
     },
     "execution_count": 35,
     "metadata": {},
     "output_type": "execute_result"
    }
   ],
   "source": [
    "# calcula o percentil\n",
    "perc70 = data[['Time']].quantile(0.7)\n",
    "perc70[0]"
   ]
  },
  {
   "cell_type": "code",
   "execution_count": 36,
   "metadata": {},
   "outputs": [],
   "source": [
    "# cria a base de treino\n",
    "X_train = data[data['Time'] <= perc70[0]].copy()\n",
    "X_train.drop(['Class','Time','Amount'], axis = 1, inplace = True)\n",
    "y_train = data[data['Time'] <= perc70[0]]['Class'].copy()\n",
    "\n",
    "# cria a base de teste\n",
    "X_test = data[data['Time'] > perc70[0]].copy()\n",
    "X_test.drop(['Class','Time','Amount'], axis = 1, inplace = True)\n",
    "y_test = data[data['Time'] > perc70[0]]['Class'].copy()"
   ]
  },
  {
   "cell_type": "code",
   "execution_count": 37,
   "metadata": {},
   "outputs": [
    {
     "data": {
      "text/plain": [
       "(199368, 29)"
      ]
     },
     "execution_count": 37,
     "metadata": {},
     "output_type": "execute_result"
    }
   ],
   "source": [
    "# preditores treino\n",
    "X_train.shape"
   ]
  },
  {
   "cell_type": "code",
   "execution_count": 38,
   "metadata": {},
   "outputs": [
    {
     "data": {
      "text/plain": [
       "(85439, 29)"
      ]
     },
     "execution_count": 38,
     "metadata": {},
     "output_type": "execute_result"
    }
   ],
   "source": [
    "# preditores teste\n",
    "X_test.shape"
   ]
  },
  {
   "cell_type": "code",
   "execution_count": 39,
   "metadata": {},
   "outputs": [
    {
     "data": {
      "text/plain": [
       "count   199368.00000\n",
       "mean         0.00193\n",
       "std          0.04385\n",
       "min          0.00000\n",
       "25%          0.00000\n",
       "50%          0.00000\n",
       "75%          0.00000\n",
       "max          1.00000\n",
       "Name: Class, dtype: float64"
      ]
     },
     "execution_count": 39,
     "metadata": {},
     "output_type": "execute_result"
    }
   ],
   "source": [
    "# distribução do target na base de treino\n",
    "y_train.describe()"
   ]
  },
  {
   "cell_type": "code",
   "execution_count": 40,
   "metadata": {},
   "outputs": [
    {
     "data": {
      "text/plain": [
       "count   85439.00000\n",
       "mean        0.00126\n",
       "std         0.03553\n",
       "min         0.00000\n",
       "25%         0.00000\n",
       "50%         0.00000\n",
       "75%         0.00000\n",
       "max         1.00000\n",
       "Name: Class, dtype: float64"
      ]
     },
     "execution_count": 40,
     "metadata": {},
     "output_type": "execute_result"
    }
   ],
   "source": [
    "# distribução do target na base de teste\n",
    "y_test.describe()"
   ]
  },
  {
   "cell_type": "markdown",
   "metadata": {},
   "source": [
    "A base de treino tem 199.368 observações, sendo 0.193% fraudes. A base de teste tem 85.439 observações, sendo 0.126% fraudes."
   ]
  },
  {
   "cell_type": "markdown",
   "metadata": {},
   "source": [
    "### Corrigindo o desbalanceamento"
   ]
  },
  {
   "cell_type": "markdown",
   "metadata": {},
   "source": [
    "A base de treino é muito desbalanceada, o que pode fazer os resultados não serem muito bons para a classe positiva. Para corrigir o desbalanceamento, vou aplicar SMOTE apenas na classe positiva."
   ]
  },
  {
   "cell_type": "code",
   "execution_count": 41,
   "metadata": {},
   "outputs": [],
   "source": [
    "from imblearn.over_sampling import SMOTE\n",
    "\n",
    "oversample = SMOTE(sampling_strategy = 'minority') # apenas afeta a classe positiva\n",
    "X_train_new, y_train_new = oversample.fit_resample(X_train, y_train)"
   ]
  },
  {
   "cell_type": "code",
   "execution_count": 42,
   "metadata": {},
   "outputs": [
    {
     "name": "stdout",
     "output_type": "stream",
     "text": [
      "Observations:  397968 \n",
      "Proportion of fraud:  0.5\n"
     ]
    }
   ],
   "source": [
    "# resultado\n",
    "size = y_train_new.shape[0]\n",
    "prop = y_train_new.mean()\n",
    "\n",
    "print('Observations: ', size, '\\nProportion of fraud: ', prop)"
   ]
  },
  {
   "cell_type": "markdown",
   "metadata": {},
   "source": [
    "A nova base gerada tem 397.968 observações, sendo 50% transações fraudulentas."
   ]
  },
  {
   "cell_type": "markdown",
   "metadata": {},
   "source": [
    "### Modelo Logístico"
   ]
  },
  {
   "cell_type": "markdown",
   "metadata": {},
   "source": [
    "Primeiro, vou ajustar um modelo logístico tradicional. As métricas de referência serão recall, specificity (recall da categoria negativa) e precision.\n",
    "\n",
    "Escolhi o recall como métrica principal pensando num problema de fraudes em que transações com alto risco de fraude passariam por uma segunda autenticação. Portanto, é importante que as transações de fato fraudulentas tenham risco alto, ainda que existam vários falsos positivos."
   ]
  },
  {
   "cell_type": "code",
   "execution_count": 43,
   "metadata": {},
   "outputs": [],
   "source": [
    "from sklearn.metrics import precision_recall_fscore_support\n",
    "from sklearn.linear_model import LogisticRegression"
   ]
  },
  {
   "cell_type": "code",
   "execution_count": 44,
   "metadata": {},
   "outputs": [],
   "source": [
    "# fit do modelo logístico\n",
    "lr = LogisticRegression()\n",
    "lr.fit(X_train_new, y_train_new)\n",
    "\n",
    "# predições\n",
    "y_pred_train_lr = lr.predict(X_train_new)\n",
    "y_pred_test_lr = lr.predict(X_test)"
   ]
  },
  {
   "cell_type": "code",
   "execution_count": 45,
   "metadata": {},
   "outputs": [
    {
     "name": "stdout",
     "output_type": "stream",
     "text": [
      "Precision:  0.9770029202640934 \n",
      "Recall:  0.9280997467133035 \n",
      "Specificity:  0.9781540224339645\n"
     ]
    }
   ],
   "source": [
    "# métricas de treino\n",
    "metric_train_lr = precision_recall_fscore_support(y_train_new, y_pred_train_lr)\n",
    "\n",
    "print('Precision: ', metric_train_lr[0][1],\n",
    "      '\\nRecall: ', metric_train_lr[1][1],\n",
    "      '\\nSpecificity: ', metric_train_lr[1][0])"
   ]
  },
  {
   "cell_type": "code",
   "execution_count": 46,
   "metadata": {},
   "outputs": [
    {
     "name": "stdout",
     "output_type": "stream",
     "text": [
      "Precision:  0.042525208241999124 \n",
      "Recall:  0.8981481481481481 \n",
      "Specificity:  0.974405550151762\n"
     ]
    }
   ],
   "source": [
    "# métricas de teste\n",
    "metric_test_lr = precision_recall_fscore_support(y_test, y_pred_test_lr)\n",
    "\n",
    "print('Precision: ', metric_test_lr[0][1],\n",
    "      '\\nRecall: ', metric_test_lr[1][1],\n",
    "      '\\nSpecificity: ', metric_test_lr[1][0])"
   ]
  },
  {
   "cell_type": "code",
   "execution_count": 47,
   "metadata": {},
   "outputs": [
    {
     "data": {
      "text/plain": [
       "0.026697409847961703"
      ]
     },
     "execution_count": 47,
     "metadata": {},
     "output_type": "execute_result"
    }
   ],
   "source": [
    "# observações classificadas como positivas\n",
    "y_pred_test_lr.mean()"
   ]
  },
  {
   "cell_type": "code",
   "execution_count": 49,
   "metadata": {},
   "outputs": [],
   "source": [
    "# salva o modelo\n",
    "import pickle\n",
    "pickle.dump(lr, open('./models/logistic_regression.sav', 'wb'))"
   ]
  },
  {
   "cell_type": "markdown",
   "metadata": {},
   "source": [
    "O modelo logístico acertou 89.8% das observações fraudulentas e 97.4% das não fraudulentas na base de teste. Dentre as 2.7% de observações classificadas como fraude, 4.3% são de fato fraudes.\n",
    "\n",
    "O modelo por default já considera regularização L2. Posso tentar otimizar o parâmetro usando cross validation."
   ]
  },
  {
   "cell_type": "code",
   "execution_count": 50,
   "metadata": {},
   "outputs": [
    {
     "name": "stdout",
     "output_type": "stream",
     "text": [
      "Fitting 5 folds for each of 10 candidates, totalling 50 fits\n"
     ]
    },
    {
     "data": {
      "text/plain": [
       "GridSearchCV(cv=5, estimator=LogisticRegression(),\n",
       "             param_grid={'C': [10.0, 5.0, 2.0, 1.5, 1.0, 0.8, 0.5, 0.1, 0.01,\n",
       "                               0.001]},\n",
       "             scoring='recall', verbose=1)"
      ]
     },
     "execution_count": 50,
     "metadata": {},
     "output_type": "execute_result"
    }
   ],
   "source": [
    "from sklearn.model_selection import GridSearchCV\n",
    "\n",
    "# define valores de C para testar\n",
    "params_l2 = {'C': [10.0, 5.0, 2.0, 1.5, 1.0, 0.8, 0.5, 0.1, 0.01, 0.001]} # quanto menor, maior o peso do termo L2\n",
    "\n",
    "l2_grid = GridSearchCV(estimator = LogisticRegression(),\n",
    "                       param_grid = params_l2,\n",
    "                       scoring = 'recall',\n",
    "                       cv = 5,\n",
    "                       verbose = 1)\n",
    "\n",
    "# ajusta\n",
    "l2_grid.fit(X_train_new, y_train_new)"
   ]
  },
  {
   "cell_type": "code",
   "execution_count": 51,
   "metadata": {},
   "outputs": [
    {
     "data": {
      "text/html": [
       "<div>\n",
       "<style scoped>\n",
       "    .dataframe tbody tr th:only-of-type {\n",
       "        vertical-align: middle;\n",
       "    }\n",
       "\n",
       "    .dataframe tbody tr th {\n",
       "        vertical-align: top;\n",
       "    }\n",
       "\n",
       "    .dataframe thead th {\n",
       "        text-align: right;\n",
       "    }\n",
       "</style>\n",
       "<table border=\"1\" class=\"dataframe\">\n",
       "  <thead>\n",
       "    <tr style=\"text-align: right;\">\n",
       "      <th></th>\n",
       "      <th>mean_fit_time</th>\n",
       "      <th>std_fit_time</th>\n",
       "      <th>mean_score_time</th>\n",
       "      <th>std_score_time</th>\n",
       "      <th>param_C</th>\n",
       "      <th>params</th>\n",
       "      <th>split0_test_score</th>\n",
       "      <th>split1_test_score</th>\n",
       "      <th>split2_test_score</th>\n",
       "      <th>split3_test_score</th>\n",
       "      <th>split4_test_score</th>\n",
       "      <th>mean_test_score</th>\n",
       "      <th>std_test_score</th>\n",
       "      <th>rank_test_score</th>\n",
       "    </tr>\n",
       "  </thead>\n",
       "  <tbody>\n",
       "    <tr>\n",
       "      <th>0</th>\n",
       "      <td>3.58385</td>\n",
       "      <td>0.39799</td>\n",
       "      <td>0.05247</td>\n",
       "      <td>0.01460</td>\n",
       "      <td>10.0</td>\n",
       "      <td>{'C': 10.0}</td>\n",
       "      <td>0.93140</td>\n",
       "      <td>0.92781</td>\n",
       "      <td>0.92819</td>\n",
       "      <td>0.92655</td>\n",
       "      <td>0.92816</td>\n",
       "      <td>0.92842</td>\n",
       "      <td>0.00161</td>\n",
       "      <td>1</td>\n",
       "    </tr>\n",
       "    <tr>\n",
       "      <th>1</th>\n",
       "      <td>3.73296</td>\n",
       "      <td>1.16625</td>\n",
       "      <td>0.04150</td>\n",
       "      <td>0.01277</td>\n",
       "      <td>5.0</td>\n",
       "      <td>{'C': 5.0}</td>\n",
       "      <td>0.93140</td>\n",
       "      <td>0.92781</td>\n",
       "      <td>0.92819</td>\n",
       "      <td>0.92655</td>\n",
       "      <td>0.92816</td>\n",
       "      <td>0.92842</td>\n",
       "      <td>0.00161</td>\n",
       "      <td>1</td>\n",
       "    </tr>\n",
       "    <tr>\n",
       "      <th>2</th>\n",
       "      <td>4.62928</td>\n",
       "      <td>0.81383</td>\n",
       "      <td>0.05021</td>\n",
       "      <td>0.01267</td>\n",
       "      <td>2.0</td>\n",
       "      <td>{'C': 2.0}</td>\n",
       "      <td>0.93138</td>\n",
       "      <td>0.92781</td>\n",
       "      <td>0.92819</td>\n",
       "      <td>0.92655</td>\n",
       "      <td>0.92814</td>\n",
       "      <td>0.92841</td>\n",
       "      <td>0.00160</td>\n",
       "      <td>3</td>\n",
       "    </tr>\n",
       "    <tr>\n",
       "      <th>3</th>\n",
       "      <td>3.41664</td>\n",
       "      <td>0.55282</td>\n",
       "      <td>0.04130</td>\n",
       "      <td>0.01256</td>\n",
       "      <td>1.5</td>\n",
       "      <td>{'C': 1.5}</td>\n",
       "      <td>0.93138</td>\n",
       "      <td>0.92781</td>\n",
       "      <td>0.92816</td>\n",
       "      <td>0.92655</td>\n",
       "      <td>0.92814</td>\n",
       "      <td>0.92841</td>\n",
       "      <td>0.00160</td>\n",
       "      <td>4</td>\n",
       "    </tr>\n",
       "    <tr>\n",
       "      <th>4</th>\n",
       "      <td>3.53573</td>\n",
       "      <td>0.68952</td>\n",
       "      <td>0.04609</td>\n",
       "      <td>0.01013</td>\n",
       "      <td>1.0</td>\n",
       "      <td>{'C': 1.0}</td>\n",
       "      <td>0.93130</td>\n",
       "      <td>0.92778</td>\n",
       "      <td>0.92816</td>\n",
       "      <td>0.92655</td>\n",
       "      <td>0.92814</td>\n",
       "      <td>0.92839</td>\n",
       "      <td>0.00157</td>\n",
       "      <td>5</td>\n",
       "    </tr>\n",
       "    <tr>\n",
       "      <th>5</th>\n",
       "      <td>3.68003</td>\n",
       "      <td>0.62084</td>\n",
       "      <td>0.04150</td>\n",
       "      <td>0.01273</td>\n",
       "      <td>0.8</td>\n",
       "      <td>{'C': 0.8}</td>\n",
       "      <td>0.93128</td>\n",
       "      <td>0.92778</td>\n",
       "      <td>0.92816</td>\n",
       "      <td>0.92655</td>\n",
       "      <td>0.92814</td>\n",
       "      <td>0.92838</td>\n",
       "      <td>0.00156</td>\n",
       "      <td>6</td>\n",
       "    </tr>\n",
       "    <tr>\n",
       "      <th>6</th>\n",
       "      <td>3.81827</td>\n",
       "      <td>0.57154</td>\n",
       "      <td>0.04442</td>\n",
       "      <td>0.01606</td>\n",
       "      <td>0.5</td>\n",
       "      <td>{'C': 0.5}</td>\n",
       "      <td>0.93123</td>\n",
       "      <td>0.92776</td>\n",
       "      <td>0.92816</td>\n",
       "      <td>0.92655</td>\n",
       "      <td>0.92814</td>\n",
       "      <td>0.92837</td>\n",
       "      <td>0.00155</td>\n",
       "      <td>7</td>\n",
       "    </tr>\n",
       "    <tr>\n",
       "      <th>7</th>\n",
       "      <td>3.51834</td>\n",
       "      <td>0.63153</td>\n",
       "      <td>0.04827</td>\n",
       "      <td>0.01161</td>\n",
       "      <td>0.1</td>\n",
       "      <td>{'C': 0.1}</td>\n",
       "      <td>0.93097</td>\n",
       "      <td>0.92771</td>\n",
       "      <td>0.92798</td>\n",
       "      <td>0.92642</td>\n",
       "      <td>0.92809</td>\n",
       "      <td>0.92824</td>\n",
       "      <td>0.00149</td>\n",
       "      <td>8</td>\n",
       "    </tr>\n",
       "    <tr>\n",
       "      <th>8</th>\n",
       "      <td>3.45495</td>\n",
       "      <td>0.74178</td>\n",
       "      <td>0.04688</td>\n",
       "      <td>0.01103</td>\n",
       "      <td>0.01</td>\n",
       "      <td>{'C': 0.01}</td>\n",
       "      <td>0.92927</td>\n",
       "      <td>0.92633</td>\n",
       "      <td>0.92655</td>\n",
       "      <td>0.92509</td>\n",
       "      <td>0.92655</td>\n",
       "      <td>0.92676</td>\n",
       "      <td>0.00137</td>\n",
       "      <td>9</td>\n",
       "    </tr>\n",
       "    <tr>\n",
       "      <th>9</th>\n",
       "      <td>2.43650</td>\n",
       "      <td>0.54427</td>\n",
       "      <td>0.04089</td>\n",
       "      <td>0.01223</td>\n",
       "      <td>0.001</td>\n",
       "      <td>{'C': 0.001}</td>\n",
       "      <td>0.92263</td>\n",
       "      <td>0.91932</td>\n",
       "      <td>0.92072</td>\n",
       "      <td>0.91924</td>\n",
       "      <td>0.92097</td>\n",
       "      <td>0.92058</td>\n",
       "      <td>0.00125</td>\n",
       "      <td>10</td>\n",
       "    </tr>\n",
       "  </tbody>\n",
       "</table>\n",
       "</div>"
      ],
      "text/plain": [
       "   mean_fit_time  std_fit_time  mean_score_time  std_score_time param_C  \\\n",
       "0        3.58385       0.39799          0.05247         0.01460    10.0   \n",
       "1        3.73296       1.16625          0.04150         0.01277     5.0   \n",
       "2        4.62928       0.81383          0.05021         0.01267     2.0   \n",
       "3        3.41664       0.55282          0.04130         0.01256     1.5   \n",
       "4        3.53573       0.68952          0.04609         0.01013     1.0   \n",
       "5        3.68003       0.62084          0.04150         0.01273     0.8   \n",
       "6        3.81827       0.57154          0.04442         0.01606     0.5   \n",
       "7        3.51834       0.63153          0.04827         0.01161     0.1   \n",
       "8        3.45495       0.74178          0.04688         0.01103    0.01   \n",
       "9        2.43650       0.54427          0.04089         0.01223   0.001   \n",
       "\n",
       "         params  split0_test_score  split1_test_score  split2_test_score  \\\n",
       "0   {'C': 10.0}            0.93140            0.92781            0.92819   \n",
       "1    {'C': 5.0}            0.93140            0.92781            0.92819   \n",
       "2    {'C': 2.0}            0.93138            0.92781            0.92819   \n",
       "3    {'C': 1.5}            0.93138            0.92781            0.92816   \n",
       "4    {'C': 1.0}            0.93130            0.92778            0.92816   \n",
       "5    {'C': 0.8}            0.93128            0.92778            0.92816   \n",
       "6    {'C': 0.5}            0.93123            0.92776            0.92816   \n",
       "7    {'C': 0.1}            0.93097            0.92771            0.92798   \n",
       "8   {'C': 0.01}            0.92927            0.92633            0.92655   \n",
       "9  {'C': 0.001}            0.92263            0.91932            0.92072   \n",
       "\n",
       "   split3_test_score  split4_test_score  mean_test_score  std_test_score  \\\n",
       "0            0.92655            0.92816          0.92842         0.00161   \n",
       "1            0.92655            0.92816          0.92842         0.00161   \n",
       "2            0.92655            0.92814          0.92841         0.00160   \n",
       "3            0.92655            0.92814          0.92841         0.00160   \n",
       "4            0.92655            0.92814          0.92839         0.00157   \n",
       "5            0.92655            0.92814          0.92838         0.00156   \n",
       "6            0.92655            0.92814          0.92837         0.00155   \n",
       "7            0.92642            0.92809          0.92824         0.00149   \n",
       "8            0.92509            0.92655          0.92676         0.00137   \n",
       "9            0.91924            0.92097          0.92058         0.00125   \n",
       "\n",
       "   rank_test_score  \n",
       "0                1  \n",
       "1                1  \n",
       "2                3  \n",
       "3                4  \n",
       "4                5  \n",
       "5                6  \n",
       "6                7  \n",
       "7                8  \n",
       "8                9  \n",
       "9               10  "
      ]
     },
     "execution_count": 51,
     "metadata": {},
     "output_type": "execute_result"
    }
   ],
   "source": [
    "# resultado\n",
    "pd.DataFrame(l2_grid.cv_results_).head(10)"
   ]
  },
  {
   "cell_type": "markdown",
   "metadata": {},
   "source": [
    "A variação entre os resultados é de fato bem pequena. Portanto vou manter o modelo default que já ajustamos como o melhor resultado para a regressão logística."
   ]
  },
  {
   "cell_type": "markdown",
   "metadata": {},
   "source": [
    "### Random Forest"
   ]
  },
  {
   "cell_type": "markdown",
   "metadata": {},
   "source": [
    "O modelo linear teve resultados bons, mas vou tentar melhorar o resultado com uma Random Forest. Existem vários parâmetros que podem ser otimizados, portanto vou usar uma grid search para encontrar o melhor parâmetro. O tempo de processamento para esse algortimo é maior, então não usarei cross validation, mas sim uma base de validação. Os valores na lista de busca são bem arbitrários, fui alterando à medida que rodei alguns resultados."
   ]
  },
  {
   "cell_type": "code",
   "execution_count": 52,
   "metadata": {},
   "outputs": [
    {
     "name": "stdout",
     "output_type": "stream",
     "text": [
      "% of train set:  0.800393498974792\n"
     ]
    }
   ],
   "source": [
    "from sklearn.model_selection import RandomizedSearchCV, PredefinedSplit\n",
    "from sklearn.ensemble import RandomForestClassifier\n",
    "import random\n",
    "\n",
    "# define o set de validação como 20% da base de treino de forma aleatória\n",
    "my_test_fold = [0] * X_train_new.shape[0]\n",
    "\n",
    "for i in range(X_train_new.shape[0]):\n",
    "    p = random.random()\n",
    "    if p > 0.2:\n",
    "        my_test_fold[i] = -1 # treino\n",
    "        \n",
    "print('% of train set: ', -sum(my_test_fold)/X_train_new.shape[0])"
   ]
  },
  {
   "cell_type": "code",
   "execution_count": 53,
   "metadata": {},
   "outputs": [
    {
     "name": "stdout",
     "output_type": "stream",
     "text": [
      "Fitting 1 folds for each of 10 candidates, totalling 10 fits\n"
     ]
    },
    {
     "data": {
      "text/plain": [
       "RandomizedSearchCV(cv=[(array([     0,      1,      2, ..., 397963, 397965, 397967]),\n",
       "                        array([     3,      5,     21, ..., 397960, 397964, 397966]))],\n",
       "                   estimator=RandomForestClassifier(), n_jobs=-1,\n",
       "                   param_distributions={'max_depth': [3, 4, 5, 6, 7, 8],\n",
       "                                        'max_features': [0.7, 0.8, 0.9, 1.0],\n",
       "                                        'min_samples_leaf': [5, 6, 7, 10, 15,\n",
       "                                                             20],\n",
       "                                        'n_estimators': [100, 200, 300, 400,\n",
       "                                                         500, 600]},\n",
       "                   random_state=10, scoring='recall', verbose=2)"
      ]
     },
     "execution_count": 53,
     "metadata": {},
     "output_type": "execute_result"
    }
   ],
   "source": [
    "# define a grid de hiperparâmetos\n",
    "params_rf = {'n_estimators': [100, 200, 300, 400, 500, 600], # número de árvores\n",
    "             'max_depth': [3, 4, 5, 6, 7, 8], # profundidade máxima de cada arvore\n",
    "             'min_samples_leaf': [5, 6, 7, 10, 15, 20], # mínimo de amostras por folha\n",
    "             'max_features': [0.7, 0.8, 0.9, 1.0]} # proporção das features consideradas em cada split\n",
    "\n",
    "# define os termos do grid search\n",
    "rf_grid = RandomizedSearchCV(estimator = RandomForestClassifier(),\n",
    "                             param_distributions = params_rf,\n",
    "                             scoring = 'recall',\n",
    "                             n_jobs = -1,\n",
    "                             n_iter = 10,\n",
    "                             cv = list(PredefinedSplit(test_fold = my_test_fold).split(X_train_new, y_train_new)),\n",
    "                             random_state = 10,\n",
    "                             verbose = 2)\n",
    "\n",
    "# ajusta\n",
    "rf_grid.fit(X_train_new, y_train_new)"
   ]
  },
  {
   "cell_type": "code",
   "execution_count": 54,
   "metadata": {},
   "outputs": [
    {
     "data": {
      "text/html": [
       "<div>\n",
       "<style scoped>\n",
       "    .dataframe tbody tr th:only-of-type {\n",
       "        vertical-align: middle;\n",
       "    }\n",
       "\n",
       "    .dataframe tbody tr th {\n",
       "        vertical-align: top;\n",
       "    }\n",
       "\n",
       "    .dataframe thead th {\n",
       "        text-align: right;\n",
       "    }\n",
       "</style>\n",
       "<table border=\"1\" class=\"dataframe\">\n",
       "  <thead>\n",
       "    <tr style=\"text-align: right;\">\n",
       "      <th></th>\n",
       "      <th>mean_fit_time</th>\n",
       "      <th>std_fit_time</th>\n",
       "      <th>mean_score_time</th>\n",
       "      <th>std_score_time</th>\n",
       "      <th>param_n_estimators</th>\n",
       "      <th>param_min_samples_leaf</th>\n",
       "      <th>param_max_features</th>\n",
       "      <th>param_max_depth</th>\n",
       "      <th>params</th>\n",
       "      <th>split0_test_score</th>\n",
       "      <th>mean_test_score</th>\n",
       "      <th>std_test_score</th>\n",
       "      <th>rank_test_score</th>\n",
       "    </tr>\n",
       "  </thead>\n",
       "  <tbody>\n",
       "    <tr>\n",
       "      <th>2</th>\n",
       "      <td>4958.63224</td>\n",
       "      <td>0.00000</td>\n",
       "      <td>4.68764</td>\n",
       "      <td>0.00000</td>\n",
       "      <td>300</td>\n",
       "      <td>15</td>\n",
       "      <td>0.8</td>\n",
       "      <td>8</td>\n",
       "      <td>{'n_estimators': 300, 'min_samples_leaf': 15, ...</td>\n",
       "      <td>0.98284</td>\n",
       "      <td>0.98284</td>\n",
       "      <td>0.00000</td>\n",
       "      <td>1</td>\n",
       "    </tr>\n",
       "    <tr>\n",
       "      <th>6</th>\n",
       "      <td>7371.30885</td>\n",
       "      <td>0.00000</td>\n",
       "      <td>3.94840</td>\n",
       "      <td>0.00000</td>\n",
       "      <td>500</td>\n",
       "      <td>7</td>\n",
       "      <td>0.9</td>\n",
       "      <td>8</td>\n",
       "      <td>{'n_estimators': 500, 'min_samples_leaf': 7, '...</td>\n",
       "      <td>0.98252</td>\n",
       "      <td>0.98252</td>\n",
       "      <td>0.00000</td>\n",
       "      <td>2</td>\n",
       "    </tr>\n",
       "    <tr>\n",
       "      <th>1</th>\n",
       "      <td>6500.18949</td>\n",
       "      <td>0.00000</td>\n",
       "      <td>5.68180</td>\n",
       "      <td>0.00000</td>\n",
       "      <td>500</td>\n",
       "      <td>5</td>\n",
       "      <td>0.7</td>\n",
       "      <td>8</td>\n",
       "      <td>{'n_estimators': 500, 'min_samples_leaf': 5, '...</td>\n",
       "      <td>0.98206</td>\n",
       "      <td>0.98206</td>\n",
       "      <td>0.00000</td>\n",
       "      <td>3</td>\n",
       "    </tr>\n",
       "    <tr>\n",
       "      <th>8</th>\n",
       "      <td>2927.96556</td>\n",
       "      <td>0.00000</td>\n",
       "      <td>3.30382</td>\n",
       "      <td>0.00000</td>\n",
       "      <td>200</td>\n",
       "      <td>15</td>\n",
       "      <td>0.7</td>\n",
       "      <td>8</td>\n",
       "      <td>{'n_estimators': 200, 'min_samples_leaf': 15, ...</td>\n",
       "      <td>0.98105</td>\n",
       "      <td>0.98105</td>\n",
       "      <td>0.00000</td>\n",
       "      <td>4</td>\n",
       "    </tr>\n",
       "    <tr>\n",
       "      <th>5</th>\n",
       "      <td>5715.10090</td>\n",
       "      <td>0.00000</td>\n",
       "      <td>4.58898</td>\n",
       "      <td>0.00000</td>\n",
       "      <td>400</td>\n",
       "      <td>5</td>\n",
       "      <td>0.8</td>\n",
       "      <td>7</td>\n",
       "      <td>{'n_estimators': 400, 'min_samples_leaf': 5, '...</td>\n",
       "      <td>0.97390</td>\n",
       "      <td>0.97390</td>\n",
       "      <td>0.00000</td>\n",
       "      <td>5</td>\n",
       "    </tr>\n",
       "  </tbody>\n",
       "</table>\n",
       "</div>"
      ],
      "text/plain": [
       "   mean_fit_time  std_fit_time  mean_score_time  std_score_time  \\\n",
       "2     4958.63224       0.00000          4.68764         0.00000   \n",
       "6     7371.30885       0.00000          3.94840         0.00000   \n",
       "1     6500.18949       0.00000          5.68180         0.00000   \n",
       "8     2927.96556       0.00000          3.30382         0.00000   \n",
       "5     5715.10090       0.00000          4.58898         0.00000   \n",
       "\n",
       "  param_n_estimators param_min_samples_leaf param_max_features  \\\n",
       "2                300                     15                0.8   \n",
       "6                500                      7                0.9   \n",
       "1                500                      5                0.7   \n",
       "8                200                     15                0.7   \n",
       "5                400                      5                0.8   \n",
       "\n",
       "  param_max_depth                                             params  \\\n",
       "2               8  {'n_estimators': 300, 'min_samples_leaf': 15, ...   \n",
       "6               8  {'n_estimators': 500, 'min_samples_leaf': 7, '...   \n",
       "1               8  {'n_estimators': 500, 'min_samples_leaf': 5, '...   \n",
       "8               8  {'n_estimators': 200, 'min_samples_leaf': 15, ...   \n",
       "5               7  {'n_estimators': 400, 'min_samples_leaf': 5, '...   \n",
       "\n",
       "   split0_test_score  mean_test_score  std_test_score  rank_test_score  \n",
       "2            0.98284          0.98284         0.00000                1  \n",
       "6            0.98252          0.98252         0.00000                2  \n",
       "1            0.98206          0.98206         0.00000                3  \n",
       "8            0.98105          0.98105         0.00000                4  \n",
       "5            0.97390          0.97390         0.00000                5  "
      ]
     },
     "execution_count": 54,
     "metadata": {},
     "output_type": "execute_result"
    }
   ],
   "source": [
    "# resultado\n",
    "pd.DataFrame(rf_grid.cv_results_).sort_values(by = 'rank_test_score').head(5)"
   ]
  },
  {
   "cell_type": "code",
   "execution_count": 55,
   "metadata": {},
   "outputs": [],
   "source": [
    "# melhor modelo\n",
    "rf = rf_grid.best_estimator_\n",
    "\n",
    "# predições\n",
    "y_pred_train_rf = rf.predict(X_train_new)\n",
    "y_pred_test_rf = rf.predict(X_test)"
   ]
  },
  {
   "cell_type": "code",
   "execution_count": 56,
   "metadata": {},
   "outputs": [
    {
     "name": "stdout",
     "output_type": "stream",
     "text": [
      "Precision:  0.994252698490064 \n",
      "Recall:  0.984149479355124 \n",
      "Specificity:  0.994311100389981\n"
     ]
    }
   ],
   "source": [
    "# métricas de treino\n",
    "metric_train_rf = precision_recall_fscore_support(y_train_new, y_pred_train_rf)\n",
    "\n",
    "print('Precision: ', metric_train_rf[0][1],\n",
    "      '\\nRecall: ', metric_train_rf[1][1],\n",
    "      '\\nSpecificity: ', metric_train_rf[1][0])"
   ]
  },
  {
   "cell_type": "code",
   "execution_count": 57,
   "metadata": {},
   "outputs": [
    {
     "name": "stdout",
     "output_type": "stream",
     "text": [
      "Precision:  0.18791946308724833 \n",
      "Recall:  0.7777777777777778 \n",
      "Specificity:  0.9957459774290703\n"
     ]
    }
   ],
   "source": [
    "# métricas de teste\n",
    "metric_test_rf = precision_recall_fscore_support(y_test, y_pred_test_rf)\n",
    "\n",
    "print('Precision: ', metric_test_rf[0][1],\n",
    "      '\\nRecall: ', metric_test_rf[1][1],\n",
    "      '\\nSpecificity: ', metric_test_rf[1][0])"
   ]
  },
  {
   "cell_type": "code",
   "execution_count": 58,
   "metadata": {},
   "outputs": [
    {
     "data": {
      "text/plain": [
       "0.00523180280668079"
      ]
     },
     "execution_count": 58,
     "metadata": {},
     "output_type": "execute_result"
    }
   ],
   "source": [
    "# observações classificadas como positivas\n",
    "y_pred_test_rf.mean()"
   ]
  },
  {
   "cell_type": "code",
   "execution_count": 59,
   "metadata": {},
   "outputs": [],
   "source": [
    "# salva o modelo\n",
    "pickle.dump(rf, open('./models/random_forest.sav', 'wb'))"
   ]
  },
  {
   "cell_type": "markdown",
   "metadata": {},
   "source": [
    "A specificity ficou mais alta do que o modelo logístico, porém o recall ficou menor. Talvez se ajustarmos o threshold na base de teste teremos um resultado melhor."
   ]
  },
  {
   "cell_type": "code",
   "execution_count": 60,
   "metadata": {},
   "outputs": [
    {
     "data": {
      "text/plain": [
       "<seaborn.axisgrid.FacetGrid at 0x1b684c451c8>"
      ]
     },
     "execution_count": 60,
     "metadata": {},
     "output_type": "execute_result"
    },
    {
     "data": {
      "image/png": "[encoded data removed]",
      "text/plain": [
       "<Figure size 432x216 with 2 Axes>"
      ]
     },
     "metadata": {
      "needs_background": "light"
     },
     "output_type": "display_data"
    }
   ],
   "source": [
    "# visualiza a distribuição\n",
    "p_pred_test_rf = rf.predict_proba(X_test)\n",
    "result_rf = pd.DataFrame({'Class': y_test, 'p': p_pred_test_rf[:,1]})\n",
    "\n",
    "g = sns.FacetGrid(result_rf, col = 'Class')\n",
    "g.map(sns.kdeplot, 'p')"
   ]
  },
  {
   "cell_type": "code",
   "execution_count": 61,
   "metadata": {},
   "outputs": [
    {
     "data": {
      "text/plain": [
       "<seaborn.axisgrid.FacetGrid at 0x1b684e761c8>"
      ]
     },
     "execution_count": 61,
     "metadata": {},
     "output_type": "execute_result"
    },
    {
     "data": {
      "image/png": "[encoded data removed]",
      "text/plain": [
       "<Figure size 360x360 with 1 Axes>"
      ]
     },
     "metadata": {
      "needs_background": "light"
     },
     "output_type": "display_data"
    }
   ],
   "source": [
    "sns.catplot(data = result_rf, x = 'Class', y = 'p', kind = 'box').set(title = 'Probabilidade Estimada - Random Forest')"
   ]
  },
  {
   "cell_type": "markdown",
   "metadata": {},
   "source": [
    "A distribuição da probabilidade estimada para a classe 0 é bastante concentrada perto de 0 e tem muitos outliers, enquanto para a classe 0 é mais dispersa. Vou testar alguns valores diferentes de threshold menores do que 0,5 e avaliar a diferença."
   ]
  },
  {
   "cell_type": "code",
   "execution_count": 62,
   "metadata": {},
   "outputs": [
    {
     "name": "stdout",
     "output_type": "stream",
     "text": [
      "\n",
      "\n",
      "Resultado para p > 0.45\n",
      "Precision:  0.1579925650557621 \n",
      "Recall:  0.7870370370370371 \n",
      "Specificity:  0.9946912610891704\n",
      "\n",
      "\n",
      "Resultado para p > 0.4\n",
      "Precision:  0.12912912912912913 \n",
      "Recall:  0.7962962962962963 \n",
      "Specificity:  0.9932029391428672\n",
      "\n",
      "\n",
      "Resultado para p > 0.35\n",
      "Precision:  0.10114942528735632 \n",
      "Recall:  0.8148148148148148 \n",
      "Specificity:  0.990835686913314\n",
      "\n",
      "\n",
      "Resultado para p > 0.3\n",
      "Precision:  0.0782608695652174 \n",
      "Recall:  0.8333333333333334 \n",
      "Specificity:  0.9875777853300676\n",
      "\n",
      "\n",
      "Resultado para p > 0.25\n",
      "Precision:  0.060407091267235716 \n",
      "Recall:  0.8518518518518519 \n",
      "Specificity:  0.9832300101955913\n",
      "\n",
      "\n",
      "Resultado para p > 0.2\n",
      "Precision:  0.042505592841163314 \n",
      "Recall:  0.8796296296296297 \n",
      "Specificity:  0.9749211892512686\n"
     ]
    }
   ],
   "source": [
    "thresholds = [0.45, 0.4, 0.35, 0.3, 0.25, 0.2]\n",
    "\n",
    "# resultado de teste\n",
    "for t in thresholds:\n",
    "    \n",
    "    # cria o resultado binário\n",
    "    string = 'p > ' + str(t)\n",
    "    result_rf[string] = result_rf['p'].apply(lambda x: 1 if x > t else 0)\n",
    "    \n",
    "    # calcula as métricas\n",
    "    metric = precision_recall_fscore_support(y_test, result_rf[string])\n",
    "    \n",
    "    # imprime o resultado\n",
    "    print('\\n')\n",
    "    print('Resultado para ' + string)\n",
    "    print('Precision: ', metric[0][1],\n",
    "          '\\nRecall: ', metric[1][1],\n",
    "          '\\nSpecificity: ', metric[1][0])"
   ]
  },
  {
   "cell_type": "code",
   "execution_count": 63,
   "metadata": {},
   "outputs": [
    {
     "data": {
      "text/plain": [
       "0.026159014033403948"
      ]
     },
     "execution_count": 63,
     "metadata": {},
     "output_type": "execute_result"
    }
   ],
   "source": [
    "# observações classificadas como positivas\n",
    "result_rf['p > 0.2'].mean()"
   ]
  },
  {
   "cell_type": "markdown",
   "metadata": {},
   "source": [
    "Com o threshold igual a 0,2 a specificity é similar à do modelo logístico com corte 0,5 porém o recall é mais baixo. Além disso, a precision também é menor. Dessa forma, o modelo logístico parece ter um desempenho superior."
   ]
  },
  {
   "cell_type": "code",
   "execution_count": 64,
   "metadata": {},
   "outputs": [
    {
     "name": "stdout",
     "output_type": "stream",
     "text": [
      "Resultado para p > 0.2\n",
      "Precision:  0.9717210253586493 \n",
      "Recall:  0.9932959433924335 \n",
      "Specificity:  0.9710931532183492\n"
     ]
    }
   ],
   "source": [
    "# resultado de treino pro melhor cenário\n",
    "p_pred_train_rf = rf.predict_proba(X_train_new)\n",
    "result_rf_train = pd.DataFrame({'p': p_pred_train_rf[:,1]})\n",
    "result_rf_train['p > 0.2'] = result_rf_train['p'].apply(lambda x: 1 if x > 0.2 else 0)\n",
    "metric = precision_recall_fscore_support(y_train_new, result_rf_train['p > 0.2'])\n",
    "\n",
    "# imprime o resultado\n",
    "print('Resultado para p > 0.2')\n",
    "print('Precision: ', metric[0][1],\n",
    "      '\\nRecall: ', metric[1][1],\n",
    "      '\\nSpecificity: ', metric[1][0])"
   ]
  },
  {
   "cell_type": "markdown",
   "metadata": {},
   "source": [
    "### Gradient Boosting"
   ]
  },
  {
   "cell_type": "markdown",
   "metadata": {},
   "source": [
    "Vou avaliar também um Gradient Boosting. Também faço aqui a busca por hiperparâmetros ótimos."
   ]
  },
  {
   "cell_type": "code",
   "execution_count": 66,
   "metadata": {},
   "outputs": [
    {
     "name": "stdout",
     "output_type": "stream",
     "text": [
      "Fitting 1 folds for each of 10 candidates, totalling 10 fits\n"
     ]
    },
    {
     "data": {
      "text/plain": [
       "RandomizedSearchCV(cv=[(array([     0,      1,      2, ..., 397963, 397965, 397967]),\n",
       "                        array([     3,      5,     21, ..., 397960, 397964, 397966]))],\n",
       "                   estimator=GradientBoostingClassifier(), n_jobs=-1,\n",
       "                   param_distributions={'learning_rate': [0.1, 0.05, 0.01,\n",
       "                                                          0.001],\n",
       "                                        'max_depth': [3, 4, 5, 6, 7, 8],\n",
       "                                        'max_features': [0.7, 0.8, 0.9, 1.0],\n",
       "                                        'min_samples_leaf': [5, 6, 7, 10, 15,\n",
       "                                                             20],\n",
       "                                        'n_estimators': [100, 200, 300, 400,\n",
       "                                                         500, 600]},\n",
       "                   random_state=10, scoring='recall', verbose=2)"
      ]
     },
     "execution_count": 66,
     "metadata": {},
     "output_type": "execute_result"
    }
   ],
   "source": [
    "from sklearn.ensemble import GradientBoostingClassifier\n",
    "\n",
    "# define a grid de hiperparâmetos\n",
    "params_gb = {'learning_rate': [0.1, 0.05, 0.01, 0.001], # taxa de aprendizado\n",
    "             'n_estimators': [100, 200, 300, 400, 500, 600], # número de árvores\n",
    "             'max_depth': [3, 4, 5, 6, 7, 8], # profundidade máxima de cada arvore\n",
    "             'min_samples_leaf': [5, 6, 7, 10, 15, 20], # mínimo de amostras por folha\n",
    "             'max_features': [0.7, 0.8, 0.9, 1.0]} # proporção das features consideradas em cada split\n",
    "\n",
    "gb_grid = RandomizedSearchCV(estimator = GradientBoostingClassifier(),\n",
    "                             param_distributions = params_gb,\n",
    "                             scoring = 'recall',\n",
    "                             n_jobs = -1,\n",
    "                             n_iter = 10,\n",
    "                             cv = list(PredefinedSplit(test_fold = my_test_fold).split(X_train_new, y_train_new)),\n",
    "                             random_state = 10,\n",
    "                             verbose = 2)\n",
    "\n",
    "# ajusta\n",
    "gb_grid.fit(X_train_new, y_train_new)"
   ]
  },
  {
   "cell_type": "code",
   "execution_count": 67,
   "metadata": {},
   "outputs": [
    {
     "data": {
      "text/html": [
       "<div>\n",
       "<style scoped>\n",
       "    .dataframe tbody tr th:only-of-type {\n",
       "        vertical-align: middle;\n",
       "    }\n",
       "\n",
       "    .dataframe tbody tr th {\n",
       "        vertical-align: top;\n",
       "    }\n",
       "\n",
       "    .dataframe thead th {\n",
       "        text-align: right;\n",
       "    }\n",
       "</style>\n",
       "<table border=\"1\" class=\"dataframe\">\n",
       "  <thead>\n",
       "    <tr style=\"text-align: right;\">\n",
       "      <th></th>\n",
       "      <th>mean_fit_time</th>\n",
       "      <th>std_fit_time</th>\n",
       "      <th>mean_score_time</th>\n",
       "      <th>std_score_time</th>\n",
       "      <th>param_n_estimators</th>\n",
       "      <th>param_min_samples_leaf</th>\n",
       "      <th>param_max_features</th>\n",
       "      <th>param_max_depth</th>\n",
       "      <th>param_learning_rate</th>\n",
       "      <th>params</th>\n",
       "      <th>split0_test_score</th>\n",
       "      <th>mean_test_score</th>\n",
       "      <th>std_test_score</th>\n",
       "      <th>rank_test_score</th>\n",
       "    </tr>\n",
       "  </thead>\n",
       "  <tbody>\n",
       "    <tr>\n",
       "      <th>9</th>\n",
       "      <td>5621.14251</td>\n",
       "      <td>0.00000</td>\n",
       "      <td>1.48857</td>\n",
       "      <td>0.00000</td>\n",
       "      <td>300</td>\n",
       "      <td>6</td>\n",
       "      <td>0.9</td>\n",
       "      <td>7</td>\n",
       "      <td>0.05</td>\n",
       "      <td>{'n_estimators': 300, 'min_samples_leaf': 6, '...</td>\n",
       "      <td>0.99997</td>\n",
       "      <td>0.99997</td>\n",
       "      <td>0.00000</td>\n",
       "      <td>1</td>\n",
       "    </tr>\n",
       "    <tr>\n",
       "      <th>0</th>\n",
       "      <td>11035.68696</td>\n",
       "      <td>0.00000</td>\n",
       "      <td>2.09930</td>\n",
       "      <td>0.00000</td>\n",
       "      <td>600</td>\n",
       "      <td>15</td>\n",
       "      <td>1.0</td>\n",
       "      <td>5</td>\n",
       "      <td>0.05</td>\n",
       "      <td>{'n_estimators': 600, 'min_samples_leaf': 15, ...</td>\n",
       "      <td>0.99992</td>\n",
       "      <td>0.99992</td>\n",
       "      <td>0.00000</td>\n",
       "      <td>2</td>\n",
       "    </tr>\n",
       "    <tr>\n",
       "      <th>2</th>\n",
       "      <td>11479.25014</td>\n",
       "      <td>0.00000</td>\n",
       "      <td>1.23573</td>\n",
       "      <td>0.00000</td>\n",
       "      <td>600</td>\n",
       "      <td>10</td>\n",
       "      <td>0.9</td>\n",
       "      <td>6</td>\n",
       "      <td>0.1</td>\n",
       "      <td>{'n_estimators': 600, 'min_samples_leaf': 10, ...</td>\n",
       "      <td>0.99992</td>\n",
       "      <td>0.99992</td>\n",
       "      <td>0.00000</td>\n",
       "      <td>2</td>\n",
       "    </tr>\n",
       "    <tr>\n",
       "      <th>6</th>\n",
       "      <td>6942.64384</td>\n",
       "      <td>0.00000</td>\n",
       "      <td>2.51027</td>\n",
       "      <td>0.00000</td>\n",
       "      <td>500</td>\n",
       "      <td>15</td>\n",
       "      <td>0.7</td>\n",
       "      <td>5</td>\n",
       "      <td>0.05</td>\n",
       "      <td>{'n_estimators': 500, 'min_samples_leaf': 15, ...</td>\n",
       "      <td>0.99992</td>\n",
       "      <td>0.99992</td>\n",
       "      <td>0.00000</td>\n",
       "      <td>2</td>\n",
       "    </tr>\n",
       "    <tr>\n",
       "      <th>8</th>\n",
       "      <td>4340.55642</td>\n",
       "      <td>0.00000</td>\n",
       "      <td>1.60341</td>\n",
       "      <td>0.00000</td>\n",
       "      <td>200</td>\n",
       "      <td>7</td>\n",
       "      <td>0.7</td>\n",
       "      <td>8</td>\n",
       "      <td>0.1</td>\n",
       "      <td>{'n_estimators': 200, 'min_samples_leaf': 7, '...</td>\n",
       "      <td>0.99990</td>\n",
       "      <td>0.99990</td>\n",
       "      <td>0.00000</td>\n",
       "      <td>5</td>\n",
       "    </tr>\n",
       "  </tbody>\n",
       "</table>\n",
       "</div>"
      ],
      "text/plain": [
       "   mean_fit_time  std_fit_time  mean_score_time  std_score_time  \\\n",
       "9     5621.14251       0.00000          1.48857         0.00000   \n",
       "0    11035.68696       0.00000          2.09930         0.00000   \n",
       "2    11479.25014       0.00000          1.23573         0.00000   \n",
       "6     6942.64384       0.00000          2.51027         0.00000   \n",
       "8     4340.55642       0.00000          1.60341         0.00000   \n",
       "\n",
       "  param_n_estimators param_min_samples_leaf param_max_features  \\\n",
       "9                300                      6                0.9   \n",
       "0                600                     15                1.0   \n",
       "2                600                     10                0.9   \n",
       "6                500                     15                0.7   \n",
       "8                200                      7                0.7   \n",
       "\n",
       "  param_max_depth param_learning_rate  \\\n",
       "9               7                0.05   \n",
       "0               5                0.05   \n",
       "2               6                 0.1   \n",
       "6               5                0.05   \n",
       "8               8                 0.1   \n",
       "\n",
       "                                              params  split0_test_score  \\\n",
       "9  {'n_estimators': 300, 'min_samples_leaf': 6, '...            0.99997   \n",
       "0  {'n_estimators': 600, 'min_samples_leaf': 15, ...            0.99992   \n",
       "2  {'n_estimators': 600, 'min_samples_leaf': 10, ...            0.99992   \n",
       "6  {'n_estimators': 500, 'min_samples_leaf': 15, ...            0.99992   \n",
       "8  {'n_estimators': 200, 'min_samples_leaf': 7, '...            0.99990   \n",
       "\n",
       "   mean_test_score  std_test_score  rank_test_score  \n",
       "9          0.99997         0.00000                1  \n",
       "0          0.99992         0.00000                2  \n",
       "2          0.99992         0.00000                2  \n",
       "6          0.99992         0.00000                2  \n",
       "8          0.99990         0.00000                5  "
      ]
     },
     "execution_count": 67,
     "metadata": {},
     "output_type": "execute_result"
    }
   ],
   "source": [
    "# resultado\n",
    "pd.DataFrame(gb_grid.cv_results_).sort_values(by = 'rank_test_score').head(5)"
   ]
  },
  {
   "cell_type": "code",
   "execution_count": 68,
   "metadata": {},
   "outputs": [],
   "source": [
    "# melhor modelo\n",
    "gb = gb_grid.best_estimator_\n",
    "\n",
    "# predições\n",
    "y_pred_train_gb = rf.predict(X_train_new)\n",
    "y_pred_test_gb = rf.predict(X_test)"
   ]
  },
  {
   "cell_type": "code",
   "execution_count": 69,
   "metadata": {},
   "outputs": [
    {
     "name": "stdout",
     "output_type": "stream",
     "text": [
      "Precision:  0.994252698490064 \n",
      "Recall:  0.984149479355124 \n",
      "Specificity:  0.994311100389981\n"
     ]
    }
   ],
   "source": [
    "# métricas de treino\n",
    "metric_train_gb = precision_recall_fscore_support(y_train_new, y_pred_train_gb)\n",
    "\n",
    "print('Precision: ', metric_train_gb[0][1],\n",
    "      '\\nRecall: ', metric_train_gb[1][1],\n",
    "      '\\nSpecificity: ', metric_train_gb[1][0])"
   ]
  },
  {
   "cell_type": "code",
   "execution_count": 70,
   "metadata": {},
   "outputs": [
    {
     "name": "stdout",
     "output_type": "stream",
     "text": [
      "Precision:  0.18791946308724833 \n",
      "Recall:  0.7777777777777778 \n",
      "Specificity:  0.9957459774290703\n"
     ]
    }
   ],
   "source": [
    "# métricas de teste\n",
    "metric_test_gb = precision_recall_fscore_support(y_test, y_pred_test_gb)\n",
    "\n",
    "print('Precision: ', metric_test_gb[0][1],\n",
    "      '\\nRecall: ', metric_test_gb[1][1],\n",
    "      '\\nSpecificity: ', metric_test_gb[1][0])"
   ]
  },
  {
   "cell_type": "code",
   "execution_count": 71,
   "metadata": {},
   "outputs": [
    {
     "data": {
      "text/plain": [
       "0.00523180280668079"
      ]
     },
     "execution_count": 71,
     "metadata": {},
     "output_type": "execute_result"
    }
   ],
   "source": [
    "# observações classificadas como positivas\n",
    "y_pred_test_gb.mean()"
   ]
  },
  {
   "cell_type": "markdown",
   "metadata": {},
   "source": [
    "Como o modelo random forest, a especificidade com o threshold 0.5 é bem alta, sacrificando o recall. Vale aqui também verificar a distribuição e testar outros thresholds."
   ]
  },
  {
   "cell_type": "code",
   "execution_count": 72,
   "metadata": {},
   "outputs": [
    {
     "data": {
      "text/plain": [
       "<seaborn.axisgrid.FacetGrid at 0x1b685143bc8>"
      ]
     },
     "execution_count": 72,
     "metadata": {},
     "output_type": "execute_result"
    },
    {
     "data": {
      "image/png": "[encoded data removed]",
      "text/plain": [
       "<Figure size 432x216 with 2 Axes>"
      ]
     },
     "metadata": {
      "needs_background": "light"
     },
     "output_type": "display_data"
    }
   ],
   "source": [
    "# visualiza a distribuição\n",
    "p_pred_test_gb = gb.predict_proba(X_test)\n",
    "result_gb = pd.DataFrame({'Class': y_test, 'p': p_pred_test_gb[:,1]})\n",
    "\n",
    "g = sns.FacetGrid(result_gb, col = 'Class')\n",
    "g.map(sns.kdeplot, 'p')"
   ]
  },
  {
   "cell_type": "code",
   "execution_count": 73,
   "metadata": {},
   "outputs": [
    {
     "data": {
      "text/plain": [
       "<seaborn.axisgrid.FacetGrid at 0x1b688710a08>"
      ]
     },
     "execution_count": 73,
     "metadata": {},
     "output_type": "execute_result"
    },
    {
     "data": {
      "image/png": "[encoded data removed]",
      "text/plain": [
       "<Figure size 360x360 with 1 Axes>"
      ]
     },
     "metadata": {
      "needs_background": "light"
     },
     "output_type": "display_data"
    }
   ],
   "source": [
    "sns.catplot(data = result_gb, x = 'Class', y = 'p', kind = 'box').set(title = 'Probabilidade Estimada - Gradient Boosting')"
   ]
  },
  {
   "cell_type": "markdown",
   "metadata": {},
   "source": [
    "A distribuição da probabilidade para a classe 0 é bastante concentrada próximo de 0, ou seja, podemos baixar o threshold bastante sem perder tanta specificity."
   ]
  },
  {
   "cell_type": "code",
   "execution_count": 83,
   "metadata": {},
   "outputs": [
    {
     "name": "stdout",
     "output_type": "stream",
     "text": [
      "\n",
      "\n",
      "Resultado para p > 0.25\n",
      "Precision:  0.581081081081081 \n",
      "Recall:  0.7962962962962963 \n",
      "Specificity:  0.9992734176325134\n",
      "\n",
      "\n",
      "Resultado para p > 0.2\n",
      "Precision:  0.5212121212121212 \n",
      "Recall:  0.7962962962962963 \n",
      "Specificity:  0.9990741934349767\n",
      "\n",
      "\n",
      "Resultado para p > 0.15\n",
      "Precision:  0.45549738219895286 \n",
      "Recall:  0.8055555555555556 \n",
      "Specificity:  0.9987812166738934\n",
      "\n",
      "\n",
      "Resultado para p > 0.1\n",
      "Precision:  0.36401673640167365 \n",
      "Recall:  0.8055555555555556 \n",
      "Specificity:  0.9982187012926135\n",
      "\n",
      "\n",
      "Resultado para p > 0.05\n",
      "Precision:  0.2536443148688047 \n",
      "Recall:  0.8055555555555556 \n",
      "Specificity:  0.9969999179665069\n",
      "\n",
      "\n",
      "Resultado para p > 0.03\n",
      "Precision:  0.18518518518518517 \n",
      "Recall:  0.8333333333333334 \n",
      "Specificity:  0.9953592481044403\n",
      "\n",
      "\n",
      "Resultado para p > 0.01\n",
      "Precision:  0.08139534883720931 \n",
      "Recall:  0.8425925925925926 \n",
      "Specificity:  0.9879645146546976\n",
      "\n",
      "\n",
      "Resultado para p > 0.005\n",
      "Precision:  0.04867944070429829 \n",
      "Recall:  0.8703703703703703 \n",
      "Specificity:  0.9784720675955983\n",
      "\n",
      "\n",
      "Resultado para p > 0.004\n",
      "Precision:  0.04069264069264069 \n",
      "Recall:  0.8703703703703703 \n",
      "Specificity:  0.9740305398975754\n",
      "\n",
      "\n",
      "Resultado para p > 0.003\n",
      "Precision:  0.03272476748191526 \n",
      "Recall:  0.8796296296296297 \n",
      "Specificity:  0.9670928501951225\n",
      "\n",
      "\n",
      "Resultado para p > 0.001\n",
      "Precision:  0.015014554925693275 \n",
      "Recall:  0.9074074074074074 \n",
      "Specificity:  0.9246580961198158\n"
     ]
    }
   ],
   "source": [
    "thresholds = [0.25, 0.2, 0.15, 0.10, 0.05, 0.03, 0.01, 0.005, 0.004, 0.003, 0.001]\n",
    "\n",
    "# resultado de teste\n",
    "for t in thresholds:\n",
    "    \n",
    "    # cria o resultado binário\n",
    "    string = 'p > ' + str(t)\n",
    "    result_gb[string] = result_gb['p'].apply(lambda x: 1 if x > t else 0)\n",
    "    \n",
    "    # calcula as métricas\n",
    "    metric = precision_recall_fscore_support(y_test, result_gb[string])\n",
    "    \n",
    "    # imprime o resultado\n",
    "    print('\\n')\n",
    "    print('Resultado para ' + string)\n",
    "    print('Precision: ', metric[0][1],\n",
    "          '\\nRecall: ', metric[1][1],\n",
    "          '\\nSpecificity: ', metric[1][0])"
   ]
  },
  {
   "cell_type": "markdown",
   "metadata": {},
   "source": [
    "A partir de um threshold menor que 0,005 perdemos mais specificity do que ganhamos de recall."
   ]
  },
  {
   "cell_type": "code",
   "execution_count": 86,
   "metadata": {},
   "outputs": [
    {
     "data": {
      "text/plain": [
       "0.022600919954587483"
      ]
     },
     "execution_count": 86,
     "metadata": {},
     "output_type": "execute_result"
    }
   ],
   "source": [
    "# observações classificadas como positivas\n",
    "result_gb['p > 0.005'].mean()"
   ]
  },
  {
   "cell_type": "markdown",
   "metadata": {},
   "source": [
    "Com esse threshold, 2,2% das observações seriam classificadas como fraudulentas, sendo que 4,9% delas de fato seriam fraudes. O recall na base de teste é 87,0% e a specificity é 97,8%.\n",
    "\n",
    "Entendo que o modelo logístico, além de ser mais simples, apresentou resultados melhores do que o gradient boosting."
   ]
  },
  {
   "cell_type": "code",
   "execution_count": 87,
   "metadata": {},
   "outputs": [
    {
     "name": "stdout",
     "output_type": "stream",
     "text": [
      "Resultado para p > 0.005\n",
      "Precision:  0.9771265259622278 \n",
      "Recall:  1.0 \n",
      "Specificity:  0.9765910827001166\n"
     ]
    }
   ],
   "source": [
    "# resultado de treino pro melhor cenário\n",
    "p_pred_train_gb = gb.predict_proba(X_train_new)\n",
    "result_gb_train = pd.DataFrame({'p': p_pred_train_gb[:,1]})\n",
    "result_gb_train['p > 0.005'] = result_gb_train['p'].apply(lambda x: 1 if x > 0.005 else 0)\n",
    "metric = precision_recall_fscore_support(y_train_new, result_gb_train['p > 0.005'])\n",
    "\n",
    "# imprime o resultado\n",
    "print('Resultado para p > 0.005')\n",
    "print('Precision: ', metric[0][1],\n",
    "      '\\nRecall: ', metric[1][1],\n",
    "      '\\nSpecificity: ', metric[1][0])"
   ]
  },
  {
   "cell_type": "code",
   "execution_count": 77,
   "metadata": {},
   "outputs": [],
   "source": [
    "# salva o modelo\n",
    "pickle.dump(gb, open('./models/gradient_boosting.sav', 'wb'))"
   ]
  },
  {
   "cell_type": "markdown",
   "metadata": {},
   "source": [
    "### Resultado Final"
   ]
  },
  {
   "cell_type": "markdown",
   "metadata": {},
   "source": [
    "Dos três algoritmos explorados, o modelo logístico foi o que apresentou melhor resultado em termos de recall e specificity, utilizando um threshold 0,5. Além disso, é um modelo mais simples do que os demais testados. Portanto, considero esse o melhor modelo.\n",
    "\n",
    "Antes de finalizar, vou analisar outros possíveis thresholds para o modelo logístico."
   ]
  },
  {
   "cell_type": "code",
   "execution_count": 88,
   "metadata": {},
   "outputs": [
    {
     "data": {
      "text/plain": [
       "<seaborn.axisgrid.FacetGrid at 0x1b69d9ba188>"
      ]
     },
     "execution_count": 88,
     "metadata": {},
     "output_type": "execute_result"
    },
    {
     "data": {
      "image/png": "[encoded data removed]",
      "text/plain": [
       "<Figure size 432x216 with 2 Axes>"
      ]
     },
     "metadata": {
      "needs_background": "light"
     },
     "output_type": "display_data"
    }
   ],
   "source": [
    "# visualiza a distribuição\n",
    "p_pred_test_lr = lr.predict_proba(X_test)\n",
    "result_lr = pd.DataFrame({'Class': y_test, 'p': p_pred_test_lr[:,1]})\n",
    "\n",
    "g = sns.FacetGrid(result_lr, col = 'Class')\n",
    "g.map(sns.kdeplot, 'p')"
   ]
  },
  {
   "cell_type": "code",
   "execution_count": 89,
   "metadata": {},
   "outputs": [
    {
     "data": {
      "text/plain": [
       "<seaborn.axisgrid.FacetGrid at 0x1b68f021e08>"
      ]
     },
     "execution_count": 89,
     "metadata": {},
     "output_type": "execute_result"
    },
    {
     "data": {
      "image/png": "[encoded data removed]",
      "text/plain": [
       "<Figure size 360x360 with 1 Axes>"
      ]
     },
     "metadata": {
      "needs_background": "light"
     },
     "output_type": "display_data"
    }
   ],
   "source": [
    "sns.catplot(data = result_lr, x = 'Class', y = 'p', kind = 'box').set(title = 'Probabilidade Estimada - Logistic Regression')"
   ]
  },
  {
   "cell_type": "markdown",
   "metadata": {},
   "source": [
    "Olhando para a distribuição podemos ver que de fato a separação é muito mais clara."
   ]
  },
  {
   "cell_type": "code",
   "execution_count": 91,
   "metadata": {},
   "outputs": [
    {
     "name": "stdout",
     "output_type": "stream",
     "text": [
      "\n",
      "\n",
      "Resultado para p > 0.8\n",
      "Precision:  0.11557788944723618 \n",
      "Recall:  0.8518518518518519 \n",
      "Specificity:  0.9917497744078939\n",
      "\n",
      "\n",
      "Resultado para p > 0.75\n",
      "Precision:  0.09384460141271443 \n",
      "Recall:  0.8611111111111112 \n",
      "Specificity:  0.9894762747418875\n",
      "\n",
      "\n",
      "Resultado para p > 0.7\n",
      "Precision:  0.0785296574770259 \n",
      "Recall:  0.8703703703703703 \n",
      "Specificity:  0.9870738653010043\n",
      "\n",
      "\n",
      "Resultado para p > 0.65\n",
      "Precision:  0.06685633001422475 \n",
      "Recall:  0.8703703703703703 \n",
      "Specificity:  0.9846245795783478\n",
      "\n",
      "\n",
      "Resultado para p > 0.6\n",
      "Precision:  0.05743651753325272 \n",
      "Recall:  0.8796296296296297 \n",
      "Specificity:  0.9817299691788447\n",
      "\n",
      "\n",
      "Resultado para p > 0.55\n",
      "Precision:  0.0490702479338843 \n",
      "Recall:  0.8796296296296297 \n",
      "Specificity:  0.978425191313825\n",
      "\n",
      "\n",
      "Resultado para p > 0.5\n",
      "Precision:  0.042525208241999124 \n",
      "Recall:  0.8981481481481481 \n",
      "Specificity:  0.974405550151762\n",
      "\n",
      "\n",
      "Resultado para p > 0.45\n",
      "Precision:  0.035362741523878964 \n",
      "Recall:  0.8981481481481481 \n",
      "Specificity:  0.9689913396069424\n",
      "\n",
      "\n",
      "Resultado para p > 0.4\n",
      "Precision:  0.029456422714849682 \n",
      "Recall:  0.8981481481481481 \n",
      "Specificity:  0.9625458508631095\n",
      "\n",
      "\n",
      "Resultado para p > 0.35\n",
      "Precision:  0.024129353233830846 \n",
      "Recall:  0.8981481481481481 \n",
      "Specificity:  0.9540260866508069\n",
      "\n",
      "\n",
      "Resultado para p > 0.3\n",
      "Precision:  0.019544630263953255 \n",
      "Recall:  0.8981481481481481 \n",
      "Specificity:  0.9429750032227444\n",
      "\n",
      "\n",
      "Resultado para p > 0.25\n",
      "Precision:  0.01531176006314128 \n",
      "Recall:  0.8981481481481481 \n",
      "Specificity:  0.9268964385744922\n",
      "\n",
      "\n",
      "Resultado para p > 0.2\n",
      "Precision:  0.011897461057279528 \n",
      "Recall:  0.8981481481481481 \n",
      "Specificity:  0.905591168508514\n"
     ]
    }
   ],
   "source": [
    "thresholds = [0.8, 0.75, 0.7, 0.65, 0.6, 0.55, 0.5, 0.45, 0.4, 0.35, 0.3, 0.25, 0.2]\n",
    "\n",
    "# resultado de teste\n",
    "for t in thresholds:\n",
    "    \n",
    "    # cria o resultado binário\n",
    "    string = 'p > ' + str(t)\n",
    "    result_lr[string] = result_lr['p'].apply(lambda x: 1 if x > t else 0)\n",
    "    \n",
    "    # calcula as métricas\n",
    "    metric = precision_recall_fscore_support(y_test, result_lr[string])\n",
    "    \n",
    "    # imprime o resultado\n",
    "    print('\\n')\n",
    "    print('Resultado para ' + string)\n",
    "    print('Precision: ', metric[0][1],\n",
    "          '\\nRecall: ', metric[1][1],\n",
    "          '\\nSpecificity: ', metric[1][0])"
   ]
  },
  {
   "cell_type": "markdown",
   "metadata": {},
   "source": [
    "De fato, o threshold 0,5 é o que temos um recall alto sem perder muita specificity. Portanto, esse será considerado o melhor resultado."
   ]
  },
  {
   "cell_type": "markdown",
   "metadata": {},
   "source": [
    "### Interpretação do modelo final"
   ]
  },
  {
   "cell_type": "markdown",
   "metadata": {},
   "source": [
    "Das variáveis utilizadas como preditoras, apenas a variável 'Amount' é interpretável. Porém, podemos ver a direção e força da relação linear estabelecida no modelo logístico com base nos betas estimados."
   ]
  },
  {
   "cell_type": "code",
   "execution_count": 101,
   "metadata": {},
   "outputs": [
    {
     "data": {
      "text/html": [
       "<div>\n",
       "<style scoped>\n",
       "    .dataframe tbody tr th:only-of-type {\n",
       "        vertical-align: middle;\n",
       "    }\n",
       "\n",
       "    .dataframe tbody tr th {\n",
       "        vertical-align: top;\n",
       "    }\n",
       "\n",
       "    .dataframe thead th {\n",
       "        text-align: right;\n",
       "    }\n",
       "</style>\n",
       "<table border=\"1\" class=\"dataframe\">\n",
       "  <thead>\n",
       "    <tr style=\"text-align: right;\">\n",
       "      <th></th>\n",
       "      <th>Feature</th>\n",
       "      <th>Beta</th>\n",
       "    </tr>\n",
       "  </thead>\n",
       "  <tbody>\n",
       "    <tr>\n",
       "      <th>0</th>\n",
       "      <td>V1</td>\n",
       "      <td>0.26375</td>\n",
       "    </tr>\n",
       "    <tr>\n",
       "      <th>1</th>\n",
       "      <td>V2</td>\n",
       "      <td>-0.21766</td>\n",
       "    </tr>\n",
       "    <tr>\n",
       "      <th>2</th>\n",
       "      <td>V3</td>\n",
       "      <td>0.24173</td>\n",
       "    </tr>\n",
       "    <tr>\n",
       "      <th>3</th>\n",
       "      <td>V4</td>\n",
       "      <td>1.15197</td>\n",
       "    </tr>\n",
       "    <tr>\n",
       "      <th>4</th>\n",
       "      <td>V5</td>\n",
       "      <td>-0.11251</td>\n",
       "    </tr>\n",
       "    <tr>\n",
       "      <th>5</th>\n",
       "      <td>V6</td>\n",
       "      <td>-0.52966</td>\n",
       "    </tr>\n",
       "    <tr>\n",
       "      <th>6</th>\n",
       "      <td>V7</td>\n",
       "      <td>0.21717</td>\n",
       "    </tr>\n",
       "    <tr>\n",
       "      <th>7</th>\n",
       "      <td>V8</td>\n",
       "      <td>-0.60883</td>\n",
       "    </tr>\n",
       "    <tr>\n",
       "      <th>8</th>\n",
       "      <td>V9</td>\n",
       "      <td>-0.58345</td>\n",
       "    </tr>\n",
       "    <tr>\n",
       "      <th>9</th>\n",
       "      <td>V10</td>\n",
       "      <td>-1.12139</td>\n",
       "    </tr>\n",
       "    <tr>\n",
       "      <th>10</th>\n",
       "      <td>V11</td>\n",
       "      <td>0.42665</td>\n",
       "    </tr>\n",
       "    <tr>\n",
       "      <th>11</th>\n",
       "      <td>V12</td>\n",
       "      <td>-0.98508</td>\n",
       "    </tr>\n",
       "    <tr>\n",
       "      <th>12</th>\n",
       "      <td>V13</td>\n",
       "      <td>-0.48608</td>\n",
       "    </tr>\n",
       "    <tr>\n",
       "      <th>13</th>\n",
       "      <td>V14</td>\n",
       "      <td>-1.03380</td>\n",
       "    </tr>\n",
       "    <tr>\n",
       "      <th>14</th>\n",
       "      <td>V15</td>\n",
       "      <td>0.08930</td>\n",
       "    </tr>\n",
       "    <tr>\n",
       "      <th>15</th>\n",
       "      <td>V16</td>\n",
       "      <td>-0.64998</td>\n",
       "    </tr>\n",
       "    <tr>\n",
       "      <th>16</th>\n",
       "      <td>V17</td>\n",
       "      <td>-0.45324</td>\n",
       "    </tr>\n",
       "    <tr>\n",
       "      <th>17</th>\n",
       "      <td>V18</td>\n",
       "      <td>-0.04182</td>\n",
       "    </tr>\n",
       "    <tr>\n",
       "      <th>18</th>\n",
       "      <td>V19</td>\n",
       "      <td>-0.02286</td>\n",
       "    </tr>\n",
       "    <tr>\n",
       "      <th>19</th>\n",
       "      <td>V20</td>\n",
       "      <td>-0.45152</td>\n",
       "    </tr>\n",
       "    <tr>\n",
       "      <th>20</th>\n",
       "      <td>V21</td>\n",
       "      <td>0.22667</td>\n",
       "    </tr>\n",
       "    <tr>\n",
       "      <th>21</th>\n",
       "      <td>V22</td>\n",
       "      <td>0.41929</td>\n",
       "    </tr>\n",
       "    <tr>\n",
       "      <th>22</th>\n",
       "      <td>V23</td>\n",
       "      <td>-0.28492</td>\n",
       "    </tr>\n",
       "    <tr>\n",
       "      <th>23</th>\n",
       "      <td>V24</td>\n",
       "      <td>-0.91849</td>\n",
       "    </tr>\n",
       "    <tr>\n",
       "      <th>24</th>\n",
       "      <td>V25</td>\n",
       "      <td>0.11533</td>\n",
       "    </tr>\n",
       "    <tr>\n",
       "      <th>25</th>\n",
       "      <td>V26</td>\n",
       "      <td>-0.34476</td>\n",
       "    </tr>\n",
       "    <tr>\n",
       "      <th>26</th>\n",
       "      <td>V27</td>\n",
       "      <td>-0.13925</td>\n",
       "    </tr>\n",
       "    <tr>\n",
       "      <th>27</th>\n",
       "      <td>V28</td>\n",
       "      <td>0.30668</td>\n",
       "    </tr>\n",
       "    <tr>\n",
       "      <th>28</th>\n",
       "      <td>log_Amount</td>\n",
       "      <td>0.07905</td>\n",
       "    </tr>\n",
       "  </tbody>\n",
       "</table>\n",
       "</div>"
      ],
      "text/plain": [
       "       Feature     Beta\n",
       "0           V1  0.26375\n",
       "1           V2 -0.21766\n",
       "2           V3  0.24173\n",
       "3           V4  1.15197\n",
       "4           V5 -0.11251\n",
       "5           V6 -0.52966\n",
       "6           V7  0.21717\n",
       "7           V8 -0.60883\n",
       "8           V9 -0.58345\n",
       "9          V10 -1.12139\n",
       "10         V11  0.42665\n",
       "11         V12 -0.98508\n",
       "12         V13 -0.48608\n",
       "13         V14 -1.03380\n",
       "14         V15  0.08930\n",
       "15         V16 -0.64998\n",
       "16         V17 -0.45324\n",
       "17         V18 -0.04182\n",
       "18         V19 -0.02286\n",
       "19         V20 -0.45152\n",
       "20         V21  0.22667\n",
       "21         V22  0.41929\n",
       "22         V23 -0.28492\n",
       "23         V24 -0.91849\n",
       "24         V25  0.11533\n",
       "25         V26 -0.34476\n",
       "26         V27 -0.13925\n",
       "27         V28  0.30668\n",
       "28  log_Amount  0.07905"
      ]
     },
     "execution_count": 101,
     "metadata": {},
     "output_type": "execute_result"
    }
   ],
   "source": [
    "pd.DataFrame({'Feature': list(X_train_new.columns),\n",
    "              'Beta': lr.coef_[0]})"
   ]
  },
  {
   "cell_type": "markdown",
   "metadata": {},
   "source": [
    "O log do valor da transação tem um beta negativo, ou seja, quanto maior o valor da transação, maior o risco de fraude.\n",
    "\n",
    "As variáveis de maior peso no modelo são V4 (Beta = 1.15197), V10 (Beta = -1.12139), V14 (Beta = -1.03380) e V12 (Beta = -0.98508). Nessas quatro variáveis foi possível ver maior separação na análise inicial dos boxplots."
   ]
  },
  {
   "cell_type": "markdown",
   "metadata": {},
   "source": [
    "### Conclusões"
   ]
  },
  {
   "cell_type": "markdown",
   "metadata": {},
   "source": [
    "Nesse notebook foi tratado um problema de identificação de fraudes entre transações de cartão de crédito. A solução proposta foi o ajuste de um modelo de classificação que atribuísse uma probabilidade de fraude p a cada transação, sendo que quanto maior o p, maior o risco de ser uma transação fraudulenta.\n",
    "\n",
    "Foram testados e otimizados três algoritmos diferentes: logistic regression, random forst classifier e gradient boosting classifier. Dentre estres, o modelo logístico com regularização L2 (lambda = 1) apresentou o melhor resultado de separação entre as classes. Na base de teste e com um threshold de 0,5 em que transações com *p > 0,5* seriam consideradas de alto risco e as demais de baixo risco, **89,8% das transações fradulentas foram classificadas como de alto risco e 97.4% das transações legítimas foram classificadas como baixo risco**.\n",
    "\n",
    "Vale destacar que a categoria de transações fraudulentas é bastante subrepresentada em relação às transações legítimas. Portanto, das transações de alto risco, apenas 4,3% são de fato fraudes. Seria recomendado utilizar essa definição de threshold num processo em que as transações de alto risco passam por uma segunda validação mais detalhada (auto-autenticação ou análise humana, por exemplo). Caso o objetivo seja rejeitar automaticamente transações de alto risco, recomendaria um threshold maior, que garantisse maior precisão.\n",
    "\n",
    "Por último, o modelo gera um *p* que é uma probabilidade estimada de fraude. Esse valor pode ser transformado em uma distribuição mais fácil de trabalhar, pode ser utilizado em conjunto com outras regras de negócio para decisão, para o cálculo de perdas esperadas, entre outros. O resultado do modelo é de fato o *p* e seu uso pode ser adaptado."
   ]
  }
 ],
 "metadata": {
  "kernelspec": {
   "display_name": "Python 3",
   "language": "python",
   "name": "python3"
  },
  "language_info": {
   "codemirror_mode": {
    "name": "ipython",
    "version": 3
   },
   "file_extension": ".py",
   "mimetype": "text/x-python",
   "name": "python",
   "nbconvert_exporter": "python",
   "pygments_lexer": "ipython3",
   "version": "3.7.6"
  }
 },
 "nbformat": 4,
 "nbformat_minor": 4
}
