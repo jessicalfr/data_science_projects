{
 "cells": [
  {
   "cell_type": "markdown",
   "metadata": {},
   "source": [
    "## **Life Expectancy (WHO)**\n",
    "\n",
    "*Statistical analysis on factors influencing life expectancy*"
   ]
  },
  {
   "cell_type": "code",
   "execution_count": 1,
   "metadata": {},
   "outputs": [
    {
     "name": "stderr",
     "output_type": "stream",
     "text": [
      "-- \u001b[1mAttaching packages\u001b[22m --------------------------------------- tidyverse 1.3.0 --\n",
      "\n",
      "\u001b[32mv\u001b[39m \u001b[34mggplot2\u001b[39m 3.3.0     \u001b[32mv\u001b[39m \u001b[34mpurrr  \u001b[39m 0.3.3\n",
      "\u001b[32mv\u001b[39m \u001b[34mtibble \u001b[39m 2.1.3     \u001b[32mv\u001b[39m \u001b[34mdplyr  \u001b[39m 0.8.5\n",
      "\u001b[32mv\u001b[39m \u001b[34mtidyr  \u001b[39m 1.0.2     \u001b[32mv\u001b[39m \u001b[34mstringr\u001b[39m 1.4.0\n",
      "\u001b[32mv\u001b[39m \u001b[34mreadr  \u001b[39m 1.3.1     \u001b[32mv\u001b[39m \u001b[34mforcats\u001b[39m 0.5.0\n",
      "\n",
      "-- \u001b[1mConflicts\u001b[22m ------------------------------------------ tidyverse_conflicts() --\n",
      "\u001b[31mx\u001b[39m \u001b[34mdplyr\u001b[39m::\u001b[32mfilter()\u001b[39m masks \u001b[34mstats\u001b[39m::filter()\n",
      "\u001b[31mx\u001b[39m \u001b[34mdplyr\u001b[39m::\u001b[32mlag()\u001b[39m    masks \u001b[34mstats\u001b[39m::lag()\n",
      "\n",
      "\n",
      "Attaching package: 'magrittr'\n",
      "\n",
      "\n",
      "The following object is masked from 'package:purrr':\n",
      "\n",
      "    set_names\n",
      "\n",
      "\n",
      "The following object is masked from 'package:tidyr':\n",
      "\n",
      "    extract\n",
      "\n",
      "\n"
     ]
    }
   ],
   "source": [
    "## packages\n",
    "library(tidyverse)\n",
    "library(magrittr)\n",
    "\n",
    "# set some options\n",
    "options(repr.matrix.max.cols=50, repr.matrix.max.rows=100, repr.plot.width = 8, repr.plot.height = 7)"
   ]
  },
  {
   "cell_type": "code",
   "execution_count": 2,
   "metadata": {},
   "outputs": [
    {
     "name": "stderr",
     "output_type": "stream",
     "text": [
      "Parsed with column specification:\n",
      "cols(\n",
      "  .default = col_double(),\n",
      "  Country = \u001b[31mcol_character()\u001b[39m,\n",
      "  Status = \u001b[31mcol_character()\u001b[39m\n",
      ")\n",
      "\n",
      "See spec(...) for full column specifications.\n",
      "\n"
     ]
    },
    {
     "data": {
      "text/html": [
       "<table>\n",
       "<caption>A tibble: 6 × 22</caption>\n",
       "<thead>\n",
       "\t<tr><th scope=col>Country</th><th scope=col>Year</th><th scope=col>Status</th><th scope=col>Life expectancy</th><th scope=col>Adult Mortality</th><th scope=col>infant deaths</th><th scope=col>Alcohol</th><th scope=col>percentage expenditure</th><th scope=col>Hepatitis B</th><th scope=col>Measles</th><th scope=col>BMI</th><th scope=col>under-five deaths</th><th scope=col>Polio</th><th scope=col>Total expenditure</th><th scope=col>Diphtheria</th><th scope=col>HIV/AIDS</th><th scope=col>GDP</th><th scope=col>Population</th><th scope=col>thinness  1-19 years</th><th scope=col>thinness 5-9 years</th><th scope=col>Income composition of resources</th><th scope=col>Schooling</th></tr>\n",
       "\t<tr><th scope=col>&lt;chr&gt;</th><th scope=col>&lt;dbl&gt;</th><th scope=col>&lt;chr&gt;</th><th scope=col>&lt;dbl&gt;</th><th scope=col>&lt;dbl&gt;</th><th scope=col>&lt;dbl&gt;</th><th scope=col>&lt;dbl&gt;</th><th scope=col>&lt;dbl&gt;</th><th scope=col>&lt;dbl&gt;</th><th scope=col>&lt;dbl&gt;</th><th scope=col>&lt;dbl&gt;</th><th scope=col>&lt;dbl&gt;</th><th scope=col>&lt;dbl&gt;</th><th scope=col>&lt;dbl&gt;</th><th scope=col>&lt;dbl&gt;</th><th scope=col>&lt;dbl&gt;</th><th scope=col>&lt;dbl&gt;</th><th scope=col>&lt;dbl&gt;</th><th scope=col>&lt;dbl&gt;</th><th scope=col>&lt;dbl&gt;</th><th scope=col>&lt;dbl&gt;</th><th scope=col>&lt;dbl&gt;</th></tr>\n",
       "</thead>\n",
       "<tbody>\n",
       "\t<tr><td>Afghanistan</td><td>2015</td><td>Developing</td><td>65.0</td><td>263</td><td>62</td><td>0.01</td><td>71.279624</td><td>65</td><td>1154</td><td>19.1</td><td> 83</td><td> 6</td><td>8.16</td><td>65</td><td>0.1</td><td>584.25921</td><td>33736494</td><td>17.2</td><td>17.3</td><td>0.479</td><td>10.1</td></tr>\n",
       "\t<tr><td>Afghanistan</td><td>2014</td><td>Developing</td><td>59.9</td><td>271</td><td>64</td><td>0.01</td><td>73.523582</td><td>62</td><td> 492</td><td>18.6</td><td> 86</td><td>58</td><td>8.18</td><td>62</td><td>0.1</td><td>612.69651</td><td>  327582</td><td>17.5</td><td>17.5</td><td>0.476</td><td>10.0</td></tr>\n",
       "\t<tr><td>Afghanistan</td><td>2013</td><td>Developing</td><td>59.9</td><td>268</td><td>66</td><td>0.01</td><td>73.219243</td><td>64</td><td> 430</td><td>18.1</td><td> 89</td><td>62</td><td>8.13</td><td>64</td><td>0.1</td><td>631.74498</td><td>31731688</td><td>17.7</td><td>17.7</td><td>0.470</td><td> 9.9</td></tr>\n",
       "\t<tr><td>Afghanistan</td><td>2012</td><td>Developing</td><td>59.5</td><td>272</td><td>69</td><td>0.01</td><td>78.184215</td><td>67</td><td>2787</td><td>17.6</td><td> 93</td><td>67</td><td>8.52</td><td>67</td><td>0.1</td><td>669.95900</td><td> 3696958</td><td>17.9</td><td>18.0</td><td>0.463</td><td> 9.8</td></tr>\n",
       "\t<tr><td>Afghanistan</td><td>2011</td><td>Developing</td><td>59.2</td><td>275</td><td>71</td><td>0.01</td><td> 7.097109</td><td>68</td><td>3013</td><td>17.2</td><td> 97</td><td>68</td><td>7.87</td><td>68</td><td>0.1</td><td> 63.53723</td><td> 2978599</td><td>18.2</td><td>18.2</td><td>0.454</td><td> 9.5</td></tr>\n",
       "\t<tr><td>Afghanistan</td><td>2010</td><td>Developing</td><td>58.8</td><td>279</td><td>74</td><td>0.01</td><td>79.679367</td><td>66</td><td>1989</td><td>16.7</td><td>102</td><td>66</td><td>9.20</td><td>66</td><td>0.1</td><td>553.32894</td><td> 2883167</td><td>18.4</td><td>18.4</td><td>0.448</td><td> 9.2</td></tr>\n",
       "</tbody>\n",
       "</table>\n"
      ],
      "text/latex": [
       "A tibble: 6 × 22\n",
       "\\begin{tabular}{llllllllllllllllllllll}\n",
       " Country & Year & Status & Life expectancy & Adult Mortality & infant deaths & Alcohol & percentage expenditure & Hepatitis B & Measles & BMI & under-five deaths & Polio & Total expenditure & Diphtheria & HIV/AIDS & GDP & Population & thinness  1-19 years & thinness 5-9 years & Income composition of resources & Schooling\\\\\n",
       " <chr> & <dbl> & <chr> & <dbl> & <dbl> & <dbl> & <dbl> & <dbl> & <dbl> & <dbl> & <dbl> & <dbl> & <dbl> & <dbl> & <dbl> & <dbl> & <dbl> & <dbl> & <dbl> & <dbl> & <dbl> & <dbl>\\\\\n",
       "\\hline\n",
       "\t Afghanistan & 2015 & Developing & 65.0 & 263 & 62 & 0.01 & 71.279624 & 65 & 1154 & 19.1 &  83 &  6 & 8.16 & 65 & 0.1 & 584.25921 & 33736494 & 17.2 & 17.3 & 0.479 & 10.1\\\\\n",
       "\t Afghanistan & 2014 & Developing & 59.9 & 271 & 64 & 0.01 & 73.523582 & 62 &  492 & 18.6 &  86 & 58 & 8.18 & 62 & 0.1 & 612.69651 &   327582 & 17.5 & 17.5 & 0.476 & 10.0\\\\\n",
       "\t Afghanistan & 2013 & Developing & 59.9 & 268 & 66 & 0.01 & 73.219243 & 64 &  430 & 18.1 &  89 & 62 & 8.13 & 64 & 0.1 & 631.74498 & 31731688 & 17.7 & 17.7 & 0.470 &  9.9\\\\\n",
       "\t Afghanistan & 2012 & Developing & 59.5 & 272 & 69 & 0.01 & 78.184215 & 67 & 2787 & 17.6 &  93 & 67 & 8.52 & 67 & 0.1 & 669.95900 &  3696958 & 17.9 & 18.0 & 0.463 &  9.8\\\\\n",
       "\t Afghanistan & 2011 & Developing & 59.2 & 275 & 71 & 0.01 &  7.097109 & 68 & 3013 & 17.2 &  97 & 68 & 7.87 & 68 & 0.1 &  63.53723 &  2978599 & 18.2 & 18.2 & 0.454 &  9.5\\\\\n",
       "\t Afghanistan & 2010 & Developing & 58.8 & 279 & 74 & 0.01 & 79.679367 & 66 & 1989 & 16.7 & 102 & 66 & 9.20 & 66 & 0.1 & 553.32894 &  2883167 & 18.4 & 18.4 & 0.448 &  9.2\\\\\n",
       "\\end{tabular}\n"
      ],
      "text/markdown": [
       "\n",
       "A tibble: 6 × 22\n",
       "\n",
       "| Country &lt;chr&gt; | Year &lt;dbl&gt; | Status &lt;chr&gt; | Life expectancy &lt;dbl&gt; | Adult Mortality &lt;dbl&gt; | infant deaths &lt;dbl&gt; | Alcohol &lt;dbl&gt; | percentage expenditure &lt;dbl&gt; | Hepatitis B &lt;dbl&gt; | Measles &lt;dbl&gt; | BMI &lt;dbl&gt; | under-five deaths &lt;dbl&gt; | Polio &lt;dbl&gt; | Total expenditure &lt;dbl&gt; | Diphtheria &lt;dbl&gt; | HIV/AIDS &lt;dbl&gt; | GDP &lt;dbl&gt; | Population &lt;dbl&gt; | thinness  1-19 years &lt;dbl&gt; | thinness 5-9 years &lt;dbl&gt; | Income composition of resources &lt;dbl&gt; | Schooling &lt;dbl&gt; |\n",
       "|---|---|---|---|---|---|---|---|---|---|---|---|---|---|---|---|---|---|---|---|---|---|\n",
       "| Afghanistan | 2015 | Developing | 65.0 | 263 | 62 | 0.01 | 71.279624 | 65 | 1154 | 19.1 |  83 |  6 | 8.16 | 65 | 0.1 | 584.25921 | 33736494 | 17.2 | 17.3 | 0.479 | 10.1 |\n",
       "| Afghanistan | 2014 | Developing | 59.9 | 271 | 64 | 0.01 | 73.523582 | 62 |  492 | 18.6 |  86 | 58 | 8.18 | 62 | 0.1 | 612.69651 |   327582 | 17.5 | 17.5 | 0.476 | 10.0 |\n",
       "| Afghanistan | 2013 | Developing | 59.9 | 268 | 66 | 0.01 | 73.219243 | 64 |  430 | 18.1 |  89 | 62 | 8.13 | 64 | 0.1 | 631.74498 | 31731688 | 17.7 | 17.7 | 0.470 |  9.9 |\n",
       "| Afghanistan | 2012 | Developing | 59.5 | 272 | 69 | 0.01 | 78.184215 | 67 | 2787 | 17.6 |  93 | 67 | 8.52 | 67 | 0.1 | 669.95900 |  3696958 | 17.9 | 18.0 | 0.463 |  9.8 |\n",
       "| Afghanistan | 2011 | Developing | 59.2 | 275 | 71 | 0.01 |  7.097109 | 68 | 3013 | 17.2 |  97 | 68 | 7.87 | 68 | 0.1 |  63.53723 |  2978599 | 18.2 | 18.2 | 0.454 |  9.5 |\n",
       "| Afghanistan | 2010 | Developing | 58.8 | 279 | 74 | 0.01 | 79.679367 | 66 | 1989 | 16.7 | 102 | 66 | 9.20 | 66 | 0.1 | 553.32894 |  2883167 | 18.4 | 18.4 | 0.448 |  9.2 |\n",
       "\n"
      ],
      "text/plain": [
       "  Country     Year Status     Life expectancy Adult Mortality infant deaths\n",
       "1 Afghanistan 2015 Developing 65.0            263             62           \n",
       "2 Afghanistan 2014 Developing 59.9            271             64           \n",
       "3 Afghanistan 2013 Developing 59.9            268             66           \n",
       "4 Afghanistan 2012 Developing 59.5            272             69           \n",
       "5 Afghanistan 2011 Developing 59.2            275             71           \n",
       "6 Afghanistan 2010 Developing 58.8            279             74           \n",
       "  Alcohol percentage expenditure Hepatitis B Measles BMI  under-five deaths\n",
       "1 0.01    71.279624              65          1154    19.1  83              \n",
       "2 0.01    73.523582              62           492    18.6  86              \n",
       "3 0.01    73.219243              64           430    18.1  89              \n",
       "4 0.01    78.184215              67          2787    17.6  93              \n",
       "5 0.01     7.097109              68          3013    17.2  97              \n",
       "6 0.01    79.679367              66          1989    16.7 102              \n",
       "  Polio Total expenditure Diphtheria HIV/AIDS GDP       Population\n",
       "1  6    8.16              65         0.1      584.25921 33736494  \n",
       "2 58    8.18              62         0.1      612.69651   327582  \n",
       "3 62    8.13              64         0.1      631.74498 31731688  \n",
       "4 67    8.52              67         0.1      669.95900  3696958  \n",
       "5 68    7.87              68         0.1       63.53723  2978599  \n",
       "6 66    9.20              66         0.1      553.32894  2883167  \n",
       "  thinness  1-19 years thinness 5-9 years Income composition of resources\n",
       "1 17.2                 17.3               0.479                          \n",
       "2 17.5                 17.5               0.476                          \n",
       "3 17.7                 17.7               0.470                          \n",
       "4 17.9                 18.0               0.463                          \n",
       "5 18.2                 18.2               0.454                          \n",
       "6 18.4                 18.4               0.448                          \n",
       "  Schooling\n",
       "1 10.1     \n",
       "2 10.0     \n",
       "3  9.9     \n",
       "4  9.8     \n",
       "5  9.5     \n",
       "6  9.2     "
      ]
     },
     "metadata": {},
     "output_type": "display_data"
    }
   ],
   "source": [
    "## read the dataset\n",
    "le = read_csv(\"Life Expectancy Data.csv\")\n",
    "head(le)"
   ]
  },
  {
   "cell_type": "markdown",
   "metadata": {},
   "source": [
    "#### Descriptives"
   ]
  },
  {
   "cell_type": "code",
   "execution_count": 3,
   "metadata": {},
   "outputs": [
    {
     "data": {
      "text/html": [
       "<table>\n",
       "<caption>A tibble: 2 × 2</caption>\n",
       "<thead>\n",
       "\t<tr><th scope=col>Status</th><th scope=col>Count</th></tr>\n",
       "\t<tr><th scope=col>&lt;chr&gt;</th><th scope=col>&lt;int&gt;</th></tr>\n",
       "</thead>\n",
       "<tbody>\n",
       "\t<tr><td>Developed </td><td> 32</td></tr>\n",
       "\t<tr><td>Developing</td><td>161</td></tr>\n",
       "</tbody>\n",
       "</table>\n"
      ],
      "text/latex": [
       "A tibble: 2 × 2\n",
       "\\begin{tabular}{ll}\n",
       " Status & Count\\\\\n",
       " <chr> & <int>\\\\\n",
       "\\hline\n",
       "\t Developed  &  32\\\\\n",
       "\t Developing & 161\\\\\n",
       "\\end{tabular}\n"
      ],
      "text/markdown": [
       "\n",
       "A tibble: 2 × 2\n",
       "\n",
       "| Status &lt;chr&gt; | Count &lt;int&gt; |\n",
       "|---|---|\n",
       "| Developed  |  32 |\n",
       "| Developing | 161 |\n",
       "\n"
      ],
      "text/plain": [
       "  Status     Count\n",
       "1 Developed   32  \n",
       "2 Developing 161  "
      ]
     },
     "metadata": {},
     "output_type": "display_data"
    }
   ],
   "source": [
    "## countries by status\n",
    "le %>%\n",
    "    dplyr::group_by(Status) %>%\n",
    "    dplyr::summarise(Count = n_distinct(Country))"
   ]
  },
  {
   "cell_type": "code",
   "execution_count": 4,
   "metadata": {},
   "outputs": [
    {
     "name": "stderr",
     "output_type": "stream",
     "text": [
      "Warning message:\n",
      "\"Removed 19 rows containing missing values (geom_point).\"\n"
     ]
    },
    {
     "data": {
      "image/png": "[encoded data removed]",
      "text/plain": [
       "plot without title"
      ]
     },
     "metadata": {
      "image/png": {
       "height": 420,
       "width": 480
      },
      "text/plain": {
       "height": 420,
       "width": 480
      }
     },
     "output_type": "display_data"
    }
   ],
   "source": [
    "## life expectancy on 2000 versus 2015\n",
    "le %>%\n",
    "    filter(Year %in% c(2000, 2015)) %>%\n",
    "    select(Country, Year, Status, `Life expectancy`) %>%\n",
    "    pivot_wider(names_from=Year, values_from=`Life expectancy`) %>%\n",
    "    ggplot(aes(x=`2000`, y=`2015`, color=Status)) +\n",
    "    geom_point() +\n",
    "    geom_abline(slope=1, intercept=0, linetype = \"dashed\") +\n",
    "    xlim(c(50, 95)) +\n",
    "    ylim(c(50, 95)) +\n",
    "    theme_minimal()"
   ]
  },
  {
   "cell_type": "markdown",
   "metadata": {},
   "source": [
    "Most developed the developed countries already had a high life expectancy compared to the Developing countries in the year 2000. The table below show the average life expectancy for each group in 2000 and 2015."
   ]
  },
  {
   "cell_type": "code",
   "execution_count": 5,
   "metadata": {},
   "outputs": [
    {
     "data": {
      "text/html": [
       "<table>\n",
       "<caption>A tibble: 2 × 3</caption>\n",
       "<thead>\n",
       "\t<tr><th scope=col>Status</th><th scope=col>2000</th><th scope=col>2015</th></tr>\n",
       "\t<tr><th scope=col>&lt;chr&gt;</th><th scope=col>&lt;dbl&gt;</th><th scope=col>&lt;dbl&gt;</th></tr>\n",
       "</thead>\n",
       "<tbody>\n",
       "\t<tr><td>Developed </td><td>76.80312</td><td>80.70937</td></tr>\n",
       "\t<tr><td>Developing</td><td>64.61987</td><td>69.69007</td></tr>\n",
       "</tbody>\n",
       "</table>\n"
      ],
      "text/latex": [
       "A tibble: 2 × 3\n",
       "\\begin{tabular}{lll}\n",
       " Status & 2000 & 2015\\\\\n",
       " <chr> & <dbl> & <dbl>\\\\\n",
       "\\hline\n",
       "\t Developed  & 76.80312 & 80.70937\\\\\n",
       "\t Developing & 64.61987 & 69.69007\\\\\n",
       "\\end{tabular}\n"
      ],
      "text/markdown": [
       "\n",
       "A tibble: 2 × 3\n",
       "\n",
       "| Status &lt;chr&gt; | 2000 &lt;dbl&gt; | 2015 &lt;dbl&gt; |\n",
       "|---|---|---|\n",
       "| Developed  | 76.80312 | 80.70937 |\n",
       "| Developing | 64.61987 | 69.69007 |\n",
       "\n"
      ],
      "text/plain": [
       "  Status     2000     2015    \n",
       "1 Developed  76.80312 80.70937\n",
       "2 Developing 64.61987 69.69007"
      ]
     },
     "metadata": {},
     "output_type": "display_data"
    }
   ],
   "source": [
    "## average life expectancy\n",
    "le %>%\n",
    "    filter(Year %in% c(2000, 2015)) %>%\n",
    "    dplyr::group_by(Year, Status) %>%\n",
    "    dplyr::summarise(average_le = mean(`Life expectancy`)) %>%\n",
    "    pivot_wider(names_from=Year, values_from=average_le)"
   ]
  },
  {
   "cell_type": "markdown",
   "metadata": {},
   "source": [
    "The following graph shows the number of years increased in life expectancy from 2000 to 2015, from the country with the most increase to the country with the least increase."
   ]
  },
  {
   "cell_type": "code",
   "execution_count": 6,
   "metadata": {},
   "outputs": [
    {
     "data": {
      "image/png": "[encoded data removed]",
      "text/plain": [
       "plot without title"
      ]
     },
     "metadata": {
      "image/png": {
       "height": 420,
       "width": 480
      },
      "text/plain": {
       "height": 420,
       "width": 480
      }
     },
     "output_type": "display_data"
    }
   ],
   "source": [
    "le %>%\n",
    "    filter(Year %in% c(2000, 2015)) %>%\n",
    "    select(Country, Year, Status, `Life expectancy`) %>%\n",
    "    pivot_wider(names_from=Year, values_from=`Life expectancy`) %>%\n",
    "    mutate(Increase = `2015`-`2000`)  %>%\n",
    "    arrange(desc(Increase)) %>%\n",
    "    mutate(Country = factor(Country, levels=Country)) %>%\n",
    "    ggplot(aes(color=Status)) +\n",
    "    geom_point(aes(x=Country, y=Increase)) +\n",
    "    geom_segment(aes(x=Country, xend=Country, y=0, yend=Increase)) +\n",
    "    theme(axis.text.x=element_blank(), legend.position=\"bottom\")"
   ]
  },
  {
   "cell_type": "code",
   "execution_count": 7,
   "metadata": {},
   "outputs": [
    {
     "data": {
      "text/html": [
       "<table>\n",
       "<caption>A tibble: 5 × 5</caption>\n",
       "<thead>\n",
       "\t<tr><th scope=col>Country</th><th scope=col>Status</th><th scope=col>2015</th><th scope=col>2000</th><th scope=col>Increase</th></tr>\n",
       "\t<tr><th scope=col>&lt;chr&gt;</th><th scope=col>&lt;chr&gt;</th><th scope=col>&lt;dbl&gt;</th><th scope=col>&lt;dbl&gt;</th><th scope=col>&lt;dbl&gt;</th></tr>\n",
       "</thead>\n",
       "<tbody>\n",
       "\t<tr><td>Zimbabwe</td><td>Developing</td><td>67.0</td><td>46.0</td><td>21.0</td></tr>\n",
       "\t<tr><td>Eritrea </td><td>Developing</td><td>64.7</td><td>45.3</td><td>19.4</td></tr>\n",
       "\t<tr><td>Zambia  </td><td>Developing</td><td>61.8</td><td>43.8</td><td>18.0</td></tr>\n",
       "\t<tr><td>Botswana</td><td>Developing</td><td>65.7</td><td>47.8</td><td>17.9</td></tr>\n",
       "\t<tr><td>Rwanda  </td><td>Developing</td><td>66.1</td><td>48.3</td><td>17.8</td></tr>\n",
       "</tbody>\n",
       "</table>\n"
      ],
      "text/latex": [
       "A tibble: 5 × 5\n",
       "\\begin{tabular}{lllll}\n",
       " Country & Status & 2015 & 2000 & Increase\\\\\n",
       " <chr> & <chr> & <dbl> & <dbl> & <dbl>\\\\\n",
       "\\hline\n",
       "\t Zimbabwe & Developing & 67.0 & 46.0 & 21.0\\\\\n",
       "\t Eritrea  & Developing & 64.7 & 45.3 & 19.4\\\\\n",
       "\t Zambia   & Developing & 61.8 & 43.8 & 18.0\\\\\n",
       "\t Botswana & Developing & 65.7 & 47.8 & 17.9\\\\\n",
       "\t Rwanda   & Developing & 66.1 & 48.3 & 17.8\\\\\n",
       "\\end{tabular}\n"
      ],
      "text/markdown": [
       "\n",
       "A tibble: 5 × 5\n",
       "\n",
       "| Country &lt;chr&gt; | Status &lt;chr&gt; | 2015 &lt;dbl&gt; | 2000 &lt;dbl&gt; | Increase &lt;dbl&gt; |\n",
       "|---|---|---|---|---|\n",
       "| Zimbabwe | Developing | 67.0 | 46.0 | 21.0 |\n",
       "| Eritrea  | Developing | 64.7 | 45.3 | 19.4 |\n",
       "| Zambia   | Developing | 61.8 | 43.8 | 18.0 |\n",
       "| Botswana | Developing | 65.7 | 47.8 | 17.9 |\n",
       "| Rwanda   | Developing | 66.1 | 48.3 | 17.8 |\n",
       "\n"
      ],
      "text/plain": [
       "  Country  Status     2015 2000 Increase\n",
       "1 Zimbabwe Developing 67.0 46.0 21.0    \n",
       "2 Eritrea  Developing 64.7 45.3 19.4    \n",
       "3 Zambia   Developing 61.8 43.8 18.0    \n",
       "4 Botswana Developing 65.7 47.8 17.9    \n",
       "5 Rwanda   Developing 66.1 48.3 17.8    "
      ]
     },
     "metadata": {},
     "output_type": "display_data"
    }
   ],
   "source": [
    "## 5 biggest increases in life expectancy\n",
    "le %>%\n",
    "    filter(Year %in% c(2000, 2015)) %>%\n",
    "    select(Country, Year, Status, `Life expectancy`) %>%\n",
    "    pivot_wider(names_from=Year, values_from=`Life expectancy`) %>%\n",
    "    mutate(Increase = `2015`-`2000`)  %>%\n",
    "    arrange(desc(Increase)) %>%\n",
    "    head(5)"
   ]
  },
  {
   "cell_type": "code",
   "execution_count": 8,
   "metadata": {},
   "outputs": [
    {
     "data": {
      "image/png": "[encoded data removed]",
      "text/plain": [
       "plot without title"
      ]
     },
     "metadata": {
      "image/png": {
       "height": 420,
       "width": 480
      },
      "text/plain": {
       "height": 420,
       "width": 480
      }
     },
     "output_type": "display_data"
    }
   ],
   "source": [
    "le %>%\n",
    "    filter(Country %in% c(\"Zimbabwe\", \"Eritrea\", \"Zambia\", \"Botswana\", \"Rwanda\")) %>%\n",
    "    ggplot(aes(x=Year, y=`Life expectancy`, color=Country)) +\n",
    "    geom_line() +\n",
    "    theme_minimal()"
   ]
  },
  {
   "cell_type": "markdown",
   "metadata": {},
   "source": [
    "The Country with the biggest increase in life expectancy was Zimbabwe, with a 21 years growth in life expectancy. As we can see in the graph above, the increase in life expectancy is not linear and have some peaks along the way."
   ]
  },
  {
   "cell_type": "code",
   "execution_count": 9,
   "metadata": {},
   "outputs": [
    {
     "data": {
      "text/html": [
       "<table>\n",
       "<caption>A tibble: 9 × 5</caption>\n",
       "<thead>\n",
       "\t<tr><th scope=col>Country</th><th scope=col>Status</th><th scope=col>2015</th><th scope=col>2000</th><th scope=col>Increase</th></tr>\n",
       "\t<tr><th scope=col>&lt;chr&gt;</th><th scope=col>&lt;chr&gt;</th><th scope=col>&lt;dbl&gt;</th><th scope=col>&lt;dbl&gt;</th><th scope=col>&lt;dbl&gt;</th></tr>\n",
       "</thead>\n",
       "<tbody>\n",
       "\t<tr><td>Estonia                         </td><td>Developing</td><td>77.6</td><td>78.0</td><td>-0.4</td></tr>\n",
       "\t<tr><td>Grenada                         </td><td>Developing</td><td>73.6</td><td>74.0</td><td>-0.4</td></tr>\n",
       "\t<tr><td>Iraq                            </td><td>Developing</td><td>68.9</td><td>70.0</td><td>-1.1</td></tr>\n",
       "\t<tr><td>Libya                           </td><td>Developing</td><td>72.7</td><td>78.0</td><td>-5.3</td></tr>\n",
       "\t<tr><td>Paraguay                        </td><td>Developing</td><td>74.0</td><td>79.0</td><td>-5.0</td></tr>\n",
       "\t<tr><td>Romania                         </td><td>Developed </td><td>75.0</td><td>77.0</td><td>-2.0</td></tr>\n",
       "\t<tr><td>Saint Vincent and the Grenadines</td><td>Developing</td><td>73.2</td><td>79.0</td><td>-5.8</td></tr>\n",
       "\t<tr><td>Syrian Arab Republic            </td><td>Developing</td><td>64.5</td><td>72.6</td><td>-8.1</td></tr>\n",
       "\t<tr><td>Yemen                           </td><td>Developing</td><td>65.7</td><td>68.0</td><td>-2.3</td></tr>\n",
       "</tbody>\n",
       "</table>\n"
      ],
      "text/latex": [
       "A tibble: 9 × 5\n",
       "\\begin{tabular}{lllll}\n",
       " Country & Status & 2015 & 2000 & Increase\\\\\n",
       " <chr> & <chr> & <dbl> & <dbl> & <dbl>\\\\\n",
       "\\hline\n",
       "\t Estonia                          & Developing & 77.6 & 78.0 & -0.4\\\\\n",
       "\t Grenada                          & Developing & 73.6 & 74.0 & -0.4\\\\\n",
       "\t Iraq                             & Developing & 68.9 & 70.0 & -1.1\\\\\n",
       "\t Libya                            & Developing & 72.7 & 78.0 & -5.3\\\\\n",
       "\t Paraguay                         & Developing & 74.0 & 79.0 & -5.0\\\\\n",
       "\t Romania                          & Developed  & 75.0 & 77.0 & -2.0\\\\\n",
       "\t Saint Vincent and the Grenadines & Developing & 73.2 & 79.0 & -5.8\\\\\n",
       "\t Syrian Arab Republic             & Developing & 64.5 & 72.6 & -8.1\\\\\n",
       "\t Yemen                            & Developing & 65.7 & 68.0 & -2.3\\\\\n",
       "\\end{tabular}\n"
      ],
      "text/markdown": [
       "\n",
       "A tibble: 9 × 5\n",
       "\n",
       "| Country &lt;chr&gt; | Status &lt;chr&gt; | 2015 &lt;dbl&gt; | 2000 &lt;dbl&gt; | Increase &lt;dbl&gt; |\n",
       "|---|---|---|---|---|\n",
       "| Estonia                          | Developing | 77.6 | 78.0 | -0.4 |\n",
       "| Grenada                          | Developing | 73.6 | 74.0 | -0.4 |\n",
       "| Iraq                             | Developing | 68.9 | 70.0 | -1.1 |\n",
       "| Libya                            | Developing | 72.7 | 78.0 | -5.3 |\n",
       "| Paraguay                         | Developing | 74.0 | 79.0 | -5.0 |\n",
       "| Romania                          | Developed  | 75.0 | 77.0 | -2.0 |\n",
       "| Saint Vincent and the Grenadines | Developing | 73.2 | 79.0 | -5.8 |\n",
       "| Syrian Arab Republic             | Developing | 64.5 | 72.6 | -8.1 |\n",
       "| Yemen                            | Developing | 65.7 | 68.0 | -2.3 |\n",
       "\n"
      ],
      "text/plain": [
       "  Country                          Status     2015 2000 Increase\n",
       "1 Estonia                          Developing 77.6 78.0 -0.4    \n",
       "2 Grenada                          Developing 73.6 74.0 -0.4    \n",
       "3 Iraq                             Developing 68.9 70.0 -1.1    \n",
       "4 Libya                            Developing 72.7 78.0 -5.3    \n",
       "5 Paraguay                         Developing 74.0 79.0 -5.0    \n",
       "6 Romania                          Developed  75.0 77.0 -2.0    \n",
       "7 Saint Vincent and the Grenadines Developing 73.2 79.0 -5.8    \n",
       "8 Syrian Arab Republic             Developing 64.5 72.6 -8.1    \n",
       "9 Yemen                            Developing 65.7 68.0 -2.3    "
      ]
     },
     "metadata": {},
     "output_type": "display_data"
    }
   ],
   "source": [
    "## countries with decrease in life expectancy\n",
    "le %>%\n",
    "    filter(Year %in% c(2000, 2015)) %>%\n",
    "    select(Country, Year, Status, `Life expectancy`) %>%\n",
    "    pivot_wider(names_from=Year, values_from=`Life expectancy`) %>%\n",
    "    mutate(Increase = `2015`-`2000`)  %>%\n",
    "    filter(Increase<0)"
   ]
  },
  {
   "cell_type": "code",
   "execution_count": 10,
   "metadata": {},
   "outputs": [
    {
     "data": {
      "image/png": "[encoded data removed]",
      "text/plain": [
       "plot without title"
      ]
     },
     "metadata": {
      "image/png": {
       "height": 420,
       "width": 480
      },
      "text/plain": {
       "height": 420,
       "width": 480
      }
     },
     "output_type": "display_data"
    }
   ],
   "source": [
    "le %>%\n",
    "    filter(Country %in% c(\"Estonia\", \"Grenada\", \"Iraq\", \"Libya\", \"Paraguay\",\n",
    "                          \"Romania\", \"Saint Vincent and the Grenadines\",\n",
    "                          \"Syrian Arab Republic\", \"Yemen\")) %>%\n",
    "    ggplot(aes(x=Year, y=`Life expectancy`, color=Country)) +\n",
    "    geom_line() +\n",
    "    theme_minimal()"
   ]
  },
  {
   "cell_type": "markdown",
   "metadata": {},
   "source": [
    "In the graph above we can see the nine countries that had decreased the life expectancy. We can abserve that all countries had an abrubt decrease in life expectancy, most of them between 2000 and 2010, the exception being Syrian Arab Republic and Iraq, that had abrupt decreases between 2010 and 2015."
   ]
  },
  {
   "cell_type": "code",
   "execution_count": 11,
   "metadata": {},
   "outputs": [
    {
     "data": {
      "text/html": [
       "<table>\n",
       "<caption>A tibble: 5 × 3</caption>\n",
       "<thead>\n",
       "\t<tr><th scope=col>Country</th><th scope=col>Status</th><th scope=col>Life expectancy</th></tr>\n",
       "\t<tr><th scope=col>&lt;chr&gt;</th><th scope=col>&lt;chr&gt;</th><th scope=col>&lt;dbl&gt;</th></tr>\n",
       "</thead>\n",
       "<tbody>\n",
       "\t<tr><td>Japan      </td><td>Developed</td><td>81.1</td></tr>\n",
       "\t<tr><td>Iceland    </td><td>Developed</td><td>79.7</td></tr>\n",
       "\t<tr><td>Switzerland</td><td>Developed</td><td>79.7</td></tr>\n",
       "\t<tr><td>Sweden     </td><td>Developed</td><td>79.6</td></tr>\n",
       "\t<tr><td>Australia  </td><td>Developed</td><td>79.5</td></tr>\n",
       "</tbody>\n",
       "</table>\n"
      ],
      "text/latex": [
       "A tibble: 5 × 3\n",
       "\\begin{tabular}{lll}\n",
       " Country & Status & Life expectancy\\\\\n",
       " <chr> & <chr> & <dbl>\\\\\n",
       "\\hline\n",
       "\t Japan       & Developed & 81.1\\\\\n",
       "\t Iceland     & Developed & 79.7\\\\\n",
       "\t Switzerland & Developed & 79.7\\\\\n",
       "\t Sweden      & Developed & 79.6\\\\\n",
       "\t Australia   & Developed & 79.5\\\\\n",
       "\\end{tabular}\n"
      ],
      "text/markdown": [
       "\n",
       "A tibble: 5 × 3\n",
       "\n",
       "| Country &lt;chr&gt; | Status &lt;chr&gt; | Life expectancy &lt;dbl&gt; |\n",
       "|---|---|---|\n",
       "| Japan       | Developed | 81.1 |\n",
       "| Iceland     | Developed | 79.7 |\n",
       "| Switzerland | Developed | 79.7 |\n",
       "| Sweden      | Developed | 79.6 |\n",
       "| Australia   | Developed | 79.5 |\n",
       "\n"
      ],
      "text/plain": [
       "  Country     Status    Life expectancy\n",
       "1 Japan       Developed 81.1           \n",
       "2 Iceland     Developed 79.7           \n",
       "3 Switzerland Developed 79.7           \n",
       "4 Sweden      Developed 79.6           \n",
       "5 Australia   Developed 79.5           "
      ]
     },
     "metadata": {},
     "output_type": "display_data"
    }
   ],
   "source": [
    "## highest life expectancy in 2000\n",
    "le %>%\n",
    "    filter(Year==2000) %>%\n",
    "    arrange(desc(`Life expectancy`)) %>%\n",
    "    select(Country, Status, `Life expectancy`) %>%\n",
    "    head(5)"
   ]
  },
  {
   "cell_type": "code",
   "execution_count": 12,
   "metadata": {},
   "outputs": [
    {
     "data": {
      "image/png": "[encoded data removed]",
      "text/plain": [
       "plot without title"
      ]
     },
     "metadata": {
      "image/png": {
       "height": 420,
       "width": 480
      },
      "text/plain": {
       "height": 420,
       "width": 480
      }
     },
     "output_type": "display_data"
    }
   ],
   "source": [
    "le %>%\n",
    "    filter(Country %in% c(\"Japan\", \"Iceland\", \"Switzerland\", \"Sweden\", \"Australia\")) %>%\n",
    "    ggplot(aes(x=Year, y=`Life expectancy`, color=Country)) +\n",
    "    geom_line() +\n",
    "    theme_minimal()"
   ]
  },
  {
   "cell_type": "markdown",
   "metadata": {},
   "source": [
    "Between the countries with highest life expectancy in the year 2000, they all presented growth in the period, having some peaks along the way. Only Japan presented an consistent growth without any peaks."
   ]
  },
  {
   "cell_type": "code",
   "execution_count": 13,
   "metadata": {},
   "outputs": [
    {
     "data": {
      "text/html": [
       "<table>\n",
       "<caption>A tibble: 5 × 3</caption>\n",
       "<thead>\n",
       "\t<tr><th scope=col>Country</th><th scope=col>Status</th><th scope=col>Life expectancy</th></tr>\n",
       "\t<tr><th scope=col>&lt;chr&gt;</th><th scope=col>&lt;chr&gt;</th><th scope=col>&lt;dbl&gt;</th></tr>\n",
       "</thead>\n",
       "<tbody>\n",
       "\t<tr><td>Slovenia</td><td>Developed </td><td>88.0</td></tr>\n",
       "\t<tr><td>Denmark </td><td>Developed </td><td>86.0</td></tr>\n",
       "\t<tr><td>Chile   </td><td>Developing</td><td>85.0</td></tr>\n",
       "\t<tr><td>Cyprus  </td><td>Developed </td><td>85.0</td></tr>\n",
       "\t<tr><td>Japan   </td><td>Developed </td><td>83.7</td></tr>\n",
       "</tbody>\n",
       "</table>\n"
      ],
      "text/latex": [
       "A tibble: 5 × 3\n",
       "\\begin{tabular}{lll}\n",
       " Country & Status & Life expectancy\\\\\n",
       " <chr> & <chr> & <dbl>\\\\\n",
       "\\hline\n",
       "\t Slovenia & Developed  & 88.0\\\\\n",
       "\t Denmark  & Developed  & 86.0\\\\\n",
       "\t Chile    & Developing & 85.0\\\\\n",
       "\t Cyprus   & Developed  & 85.0\\\\\n",
       "\t Japan    & Developed  & 83.7\\\\\n",
       "\\end{tabular}\n"
      ],
      "text/markdown": [
       "\n",
       "A tibble: 5 × 3\n",
       "\n",
       "| Country &lt;chr&gt; | Status &lt;chr&gt; | Life expectancy &lt;dbl&gt; |\n",
       "|---|---|---|\n",
       "| Slovenia | Developed  | 88.0 |\n",
       "| Denmark  | Developed  | 86.0 |\n",
       "| Chile    | Developing | 85.0 |\n",
       "| Cyprus   | Developed  | 85.0 |\n",
       "| Japan    | Developed  | 83.7 |\n",
       "\n"
      ],
      "text/plain": [
       "  Country  Status     Life expectancy\n",
       "1 Slovenia Developed  88.0           \n",
       "2 Denmark  Developed  86.0           \n",
       "3 Chile    Developing 85.0           \n",
       "4 Cyprus   Developed  85.0           \n",
       "5 Japan    Developed  83.7           "
      ]
     },
     "metadata": {},
     "output_type": "display_data"
    }
   ],
   "source": [
    "## highest life expectancy in 2015\n",
    "le %>%\n",
    "    filter(Year==2015) %>%\n",
    "    arrange(desc(`Life expectancy`)) %>%\n",
    "    select(Country, Status, `Life expectancy`) %>%\n",
    "    head(5)"
   ]
  },
  {
   "cell_type": "code",
   "execution_count": 14,
   "metadata": {},
   "outputs": [
    {
     "data": {
      "image/png": "[encoded data removed]",
      "text/plain": [
       "plot without title"
      ]
     },
     "metadata": {
      "image/png": {
       "height": 420,
       "width": 480
      },
      "text/plain": {
       "height": 420,
       "width": 480
      }
     },
     "output_type": "display_data"
    }
   ],
   "source": [
    "le %>%\n",
    "    filter(Country %in% c(\"Slovenia\", \"Denmark\", \"Chile\", \"Cyprus\", \"Japan\")) %>%\n",
    "    ggplot(aes(x=Year, y=`Life expectancy`, color=Country)) +\n",
    "    geom_line() +\n",
    "    theme_minimal()"
   ]
  },
  {
   "cell_type": "markdown",
   "metadata": {},
   "source": [
    "Between the countries with the highest life expectancy in 2015, Japan has the most consistent growth. Meanwhile, the other countries  has an expressive increase between 2010 and 2015. Japan in also the only country to the in the highest life expectancy both in 2000 and 2015."
   ]
  },
  {
   "cell_type": "code",
   "execution_count": 15,
   "metadata": {},
   "outputs": [
    {
     "data": {
      "text/html": [
       "<table>\n",
       "<caption>A tibble: 32 × 4</caption>\n",
       "<thead>\n",
       "\t<tr><th scope=col>Country</th><th scope=col>2015</th><th scope=col>2000</th><th scope=col>Increase</th></tr>\n",
       "\t<tr><th scope=col>&lt;chr&gt;</th><th scope=col>&lt;dbl&gt;</th><th scope=col>&lt;dbl&gt;</th><th scope=col>&lt;dbl&gt;</th></tr>\n",
       "</thead>\n",
       "<tbody>\n",
       "\t<tr><td>Slovenia                                            </td><td>88.0</td><td>76.0</td><td>12.0</td></tr>\n",
       "\t<tr><td>Denmark                                             </td><td>86.0</td><td>76.9</td><td> 9.1</td></tr>\n",
       "\t<tr><td>Cyprus                                              </td><td>85.0</td><td>78.1</td><td> 6.9</td></tr>\n",
       "\t<tr><td>Ireland                                             </td><td>81.4</td><td>76.4</td><td> 5.0</td></tr>\n",
       "\t<tr><td>Singapore                                           </td><td>83.1</td><td>78.3</td><td> 4.8</td></tr>\n",
       "\t<tr><td>Portugal                                            </td><td>81.1</td><td>76.6</td><td> 4.5</td></tr>\n",
       "\t<tr><td>Luxembourg                                          </td><td>82.0</td><td>77.8</td><td> 4.2</td></tr>\n",
       "\t<tr><td>Malta                                               </td><td>81.7</td><td>77.5</td><td> 4.2</td></tr>\n",
       "\t<tr><td>Czechia                                             </td><td>78.8</td><td>74.7</td><td> 4.1</td></tr>\n",
       "\t<tr><td>Hungary                                             </td><td>75.8</td><td>71.7</td><td> 4.1</td></tr>\n",
       "\t<tr><td>Netherlands                                         </td><td>81.9</td><td>78.1</td><td> 3.8</td></tr>\n",
       "\t<tr><td>Poland                                              </td><td>77.5</td><td>73.7</td><td> 3.8</td></tr>\n",
       "\t<tr><td>Slovakia                                            </td><td>76.7</td><td>73.0</td><td> 3.7</td></tr>\n",
       "\t<tr><td>Spain                                               </td><td>82.8</td><td>79.1</td><td> 3.7</td></tr>\n",
       "\t<tr><td>Switzerland                                         </td><td>83.4</td><td>79.7</td><td> 3.7</td></tr>\n",
       "\t<tr><td>Latvia                                              </td><td>74.6</td><td>71.0</td><td> 3.6</td></tr>\n",
       "\t<tr><td>Belgium                                             </td><td>81.1</td><td>77.6</td><td> 3.5</td></tr>\n",
       "\t<tr><td>Austria                                             </td><td>81.5</td><td>78.1</td><td> 3.4</td></tr>\n",
       "\t<tr><td>Bulgaria                                            </td><td>74.5</td><td>71.1</td><td> 3.4</td></tr>\n",
       "\t<tr><td>United Kingdom of Great Britain and Northern Ireland</td><td>81.2</td><td>77.8</td><td> 3.4</td></tr>\n",
       "\t<tr><td>Australia                                           </td><td>82.8</td><td>79.5</td><td> 3.3</td></tr>\n",
       "\t<tr><td>Croatia                                             </td><td>78.0</td><td>74.7</td><td> 3.3</td></tr>\n",
       "\t<tr><td>Italy                                               </td><td>82.7</td><td>79.4</td><td> 3.3</td></tr>\n",
       "\t<tr><td>Norway                                              </td><td>81.8</td><td>78.5</td><td> 3.3</td></tr>\n",
       "\t<tr><td>Germany                                             </td><td>81.0</td><td>78.0</td><td> 3.0</td></tr>\n",
       "\t<tr><td>Iceland                                             </td><td>82.7</td><td>79.7</td><td> 3.0</td></tr>\n",
       "\t<tr><td>New Zealand                                         </td><td>81.6</td><td>78.6</td><td> 3.0</td></tr>\n",
       "\t<tr><td>Sweden                                              </td><td>82.4</td><td>79.6</td><td> 2.8</td></tr>\n",
       "\t<tr><td>Japan                                               </td><td>83.7</td><td>81.1</td><td> 2.6</td></tr>\n",
       "\t<tr><td>United States of America                            </td><td>79.3</td><td>76.8</td><td> 2.5</td></tr>\n",
       "\t<tr><td>Lithuania                                           </td><td>73.6</td><td>71.6</td><td> 2.0</td></tr>\n",
       "\t<tr><td>Romania                                             </td><td>75.0</td><td>77.0</td><td>-2.0</td></tr>\n",
       "</tbody>\n",
       "</table>\n"
      ],
      "text/latex": [
       "A tibble: 32 × 4\n",
       "\\begin{tabular}{llll}\n",
       " Country & 2015 & 2000 & Increase\\\\\n",
       " <chr> & <dbl> & <dbl> & <dbl>\\\\\n",
       "\\hline\n",
       "\t Slovenia                                             & 88.0 & 76.0 & 12.0\\\\\n",
       "\t Denmark                                              & 86.0 & 76.9 &  9.1\\\\\n",
       "\t Cyprus                                               & 85.0 & 78.1 &  6.9\\\\\n",
       "\t Ireland                                              & 81.4 & 76.4 &  5.0\\\\\n",
       "\t Singapore                                            & 83.1 & 78.3 &  4.8\\\\\n",
       "\t Portugal                                             & 81.1 & 76.6 &  4.5\\\\\n",
       "\t Luxembourg                                           & 82.0 & 77.8 &  4.2\\\\\n",
       "\t Malta                                                & 81.7 & 77.5 &  4.2\\\\\n",
       "\t Czechia                                              & 78.8 & 74.7 &  4.1\\\\\n",
       "\t Hungary                                              & 75.8 & 71.7 &  4.1\\\\\n",
       "\t Netherlands                                          & 81.9 & 78.1 &  3.8\\\\\n",
       "\t Poland                                               & 77.5 & 73.7 &  3.8\\\\\n",
       "\t Slovakia                                             & 76.7 & 73.0 &  3.7\\\\\n",
       "\t Spain                                                & 82.8 & 79.1 &  3.7\\\\\n",
       "\t Switzerland                                          & 83.4 & 79.7 &  3.7\\\\\n",
       "\t Latvia                                               & 74.6 & 71.0 &  3.6\\\\\n",
       "\t Belgium                                              & 81.1 & 77.6 &  3.5\\\\\n",
       "\t Austria                                              & 81.5 & 78.1 &  3.4\\\\\n",
       "\t Bulgaria                                             & 74.5 & 71.1 &  3.4\\\\\n",
       "\t United Kingdom of Great Britain and Northern Ireland & 81.2 & 77.8 &  3.4\\\\\n",
       "\t Australia                                            & 82.8 & 79.5 &  3.3\\\\\n",
       "\t Croatia                                              & 78.0 & 74.7 &  3.3\\\\\n",
       "\t Italy                                                & 82.7 & 79.4 &  3.3\\\\\n",
       "\t Norway                                               & 81.8 & 78.5 &  3.3\\\\\n",
       "\t Germany                                              & 81.0 & 78.0 &  3.0\\\\\n",
       "\t Iceland                                              & 82.7 & 79.7 &  3.0\\\\\n",
       "\t New Zealand                                          & 81.6 & 78.6 &  3.0\\\\\n",
       "\t Sweden                                               & 82.4 & 79.6 &  2.8\\\\\n",
       "\t Japan                                                & 83.7 & 81.1 &  2.6\\\\\n",
       "\t United States of America                             & 79.3 & 76.8 &  2.5\\\\\n",
       "\t Lithuania                                            & 73.6 & 71.6 &  2.0\\\\\n",
       "\t Romania                                              & 75.0 & 77.0 & -2.0\\\\\n",
       "\\end{tabular}\n"
      ],
      "text/markdown": [
       "\n",
       "A tibble: 32 × 4\n",
       "\n",
       "| Country &lt;chr&gt; | 2015 &lt;dbl&gt; | 2000 &lt;dbl&gt; | Increase &lt;dbl&gt; |\n",
       "|---|---|---|---|\n",
       "| Slovenia                                             | 88.0 | 76.0 | 12.0 |\n",
       "| Denmark                                              | 86.0 | 76.9 |  9.1 |\n",
       "| Cyprus                                               | 85.0 | 78.1 |  6.9 |\n",
       "| Ireland                                              | 81.4 | 76.4 |  5.0 |\n",
       "| Singapore                                            | 83.1 | 78.3 |  4.8 |\n",
       "| Portugal                                             | 81.1 | 76.6 |  4.5 |\n",
       "| Luxembourg                                           | 82.0 | 77.8 |  4.2 |\n",
       "| Malta                                                | 81.7 | 77.5 |  4.2 |\n",
       "| Czechia                                              | 78.8 | 74.7 |  4.1 |\n",
       "| Hungary                                              | 75.8 | 71.7 |  4.1 |\n",
       "| Netherlands                                          | 81.9 | 78.1 |  3.8 |\n",
       "| Poland                                               | 77.5 | 73.7 |  3.8 |\n",
       "| Slovakia                                             | 76.7 | 73.0 |  3.7 |\n",
       "| Spain                                                | 82.8 | 79.1 |  3.7 |\n",
       "| Switzerland                                          | 83.4 | 79.7 |  3.7 |\n",
       "| Latvia                                               | 74.6 | 71.0 |  3.6 |\n",
       "| Belgium                                              | 81.1 | 77.6 |  3.5 |\n",
       "| Austria                                              | 81.5 | 78.1 |  3.4 |\n",
       "| Bulgaria                                             | 74.5 | 71.1 |  3.4 |\n",
       "| United Kingdom of Great Britain and Northern Ireland | 81.2 | 77.8 |  3.4 |\n",
       "| Australia                                            | 82.8 | 79.5 |  3.3 |\n",
       "| Croatia                                              | 78.0 | 74.7 |  3.3 |\n",
       "| Italy                                                | 82.7 | 79.4 |  3.3 |\n",
       "| Norway                                               | 81.8 | 78.5 |  3.3 |\n",
       "| Germany                                              | 81.0 | 78.0 |  3.0 |\n",
       "| Iceland                                              | 82.7 | 79.7 |  3.0 |\n",
       "| New Zealand                                          | 81.6 | 78.6 |  3.0 |\n",
       "| Sweden                                               | 82.4 | 79.6 |  2.8 |\n",
       "| Japan                                                | 83.7 | 81.1 |  2.6 |\n",
       "| United States of America                             | 79.3 | 76.8 |  2.5 |\n",
       "| Lithuania                                            | 73.6 | 71.6 |  2.0 |\n",
       "| Romania                                              | 75.0 | 77.0 | -2.0 |\n",
       "\n"
      ],
      "text/plain": [
       "   Country                                              2015 2000 Increase\n",
       "1  Slovenia                                             88.0 76.0 12.0    \n",
       "2  Denmark                                              86.0 76.9  9.1    \n",
       "3  Cyprus                                               85.0 78.1  6.9    \n",
       "4  Ireland                                              81.4 76.4  5.0    \n",
       "5  Singapore                                            83.1 78.3  4.8    \n",
       "6  Portugal                                             81.1 76.6  4.5    \n",
       "7  Luxembourg                                           82.0 77.8  4.2    \n",
       "8  Malta                                                81.7 77.5  4.2    \n",
       "9  Czechia                                              78.8 74.7  4.1    \n",
       "10 Hungary                                              75.8 71.7  4.1    \n",
       "11 Netherlands                                          81.9 78.1  3.8    \n",
       "12 Poland                                               77.5 73.7  3.8    \n",
       "13 Slovakia                                             76.7 73.0  3.7    \n",
       "14 Spain                                                82.8 79.1  3.7    \n",
       "15 Switzerland                                          83.4 79.7  3.7    \n",
       "16 Latvia                                               74.6 71.0  3.6    \n",
       "17 Belgium                                              81.1 77.6  3.5    \n",
       "18 Austria                                              81.5 78.1  3.4    \n",
       "19 Bulgaria                                             74.5 71.1  3.4    \n",
       "20 United Kingdom of Great Britain and Northern Ireland 81.2 77.8  3.4    \n",
       "21 Australia                                            82.8 79.5  3.3    \n",
       "22 Croatia                                              78.0 74.7  3.3    \n",
       "23 Italy                                                82.7 79.4  3.3    \n",
       "24 Norway                                               81.8 78.5  3.3    \n",
       "25 Germany                                              81.0 78.0  3.0    \n",
       "26 Iceland                                              82.7 79.7  3.0    \n",
       "27 New Zealand                                          81.6 78.6  3.0    \n",
       "28 Sweden                                               82.4 79.6  2.8    \n",
       "29 Japan                                                83.7 81.1  2.6    \n",
       "30 United States of America                             79.3 76.8  2.5    \n",
       "31 Lithuania                                            73.6 71.6  2.0    \n",
       "32 Romania                                              75.0 77.0 -2.0    "
      ]
     },
     "metadata": {},
     "output_type": "display_data"
    }
   ],
   "source": [
    "## increase between developed countries\n",
    "le %>%\n",
    "    filter(Status==\"Developed\",\n",
    "           Year %in% c(2000, 2015)) %>%\n",
    "    select(Country, Year, `Life expectancy`) %>%\n",
    "    pivot_wider(names_from = Year, values_from = `Life expectancy`) %>%\n",
    "    mutate(Increase = `2015`-`2000`) %>%\n",
    "    arrange(desc(Increase))"
   ]
  },
  {
   "cell_type": "markdown",
   "metadata": {},
   "source": [
    "Between the developed countries, Slovenia had the biggest increase in life expectancy and only Romania had a decrease. The graph below shows the data in the period for the latter."
   ]
  },
  {
   "cell_type": "code",
   "execution_count": 16,
   "metadata": {},
   "outputs": [
    {
     "data": {
      "image/png": "[encoded data removed]",
      "text/plain": [
       "plot without title"
      ]
     },
     "metadata": {
      "image/png": {
       "height": 420,
       "width": 480
      },
      "text/plain": {
       "height": 420,
       "width": 480
      }
     },
     "output_type": "display_data"
    }
   ],
   "source": [
    "le %>%\n",
    "    filter(Country==\"Romania\") %>%\n",
    "    ggplot(aes(x=Year, y=`Life expectancy`, color=Country)) +\n",
    "    geom_line() +\n",
    "    theme_minimal()"
   ]
  },
  {
   "cell_type": "markdown",
   "metadata": {},
   "source": [
    "In the graph above we can see an abrupt decrease in life expectancy between 2002 and 2013. After that, the life expectancy was increasing."
   ]
  },
  {
   "cell_type": "markdown",
   "metadata": {},
   "source": [
    "#### Modeling"
   ]
  },
  {
   "cell_type": "markdown",
   "metadata": {},
   "source": [
    "The code below creates one linear regression model for the years: 2000, 2005, 2010 and 2015. In each model, we want to analyse the influence of each factor in the final response."
   ]
  },
  {
   "cell_type": "code",
   "execution_count": 31,
   "metadata": {},
   "outputs": [
    {
     "data": {
      "text/plain": [
       "\n",
       "Call:\n",
       "lm(formula = `Life expectancy` ~ ., data = le %>% filter(Year == \n",
       "    2000) %>% select(-c(\"Country\", \"Year\")))\n",
       "\n",
       "Residuals:\n",
       "    Min      1Q  Median      3Q     Max \n",
       "-6.7066 -1.1974 -0.1412  1.2623  5.6089 \n",
       "\n",
       "Coefficients:\n",
       "                                    Estimate Std. Error t value Pr(>|t|)    \n",
       "(Intercept)                        6.225e+01  3.584e+00  17.370  < 2e-16 ***\n",
       "StatusDeveloping                   7.455e-01  1.233e+00   0.604  0.54887    \n",
       "`Adult Mortality`                 -2.630e-02  5.108e-03  -5.149 6.94e-06 ***\n",
       "`infant deaths`                    4.635e-01  2.374e-01   1.953  0.05771 .  \n",
       "Alcohol                            1.668e-01  1.669e-01   1.000  0.32326    \n",
       "`percentage expenditure`          -4.060e-04  1.497e-03  -0.271  0.78756    \n",
       "`Hepatitis B`                      3.162e-02  1.459e-02   2.167  0.03609 *  \n",
       "Measles                            5.265e-05  9.759e-05   0.540  0.59244    \n",
       "BMI                                2.017e-02  2.652e-02   0.761  0.45128    \n",
       "`under-five deaths`               -3.724e-01  1.876e-01  -1.986  0.05380 .  \n",
       "Polio                             -3.095e-02  2.357e-02  -1.313  0.19647    \n",
       "`Total expenditure`               -3.790e-02  1.847e-01  -0.205  0.83841    \n",
       "Diphtheria                         8.072e-03  1.656e-02   0.487  0.62861    \n",
       "`HIV/AIDS`                        -2.130e-01  6.278e-02  -3.393  0.00154 ** \n",
       "GDP                                1.284e-04  2.508e-04   0.512  0.61140    \n",
       "Population                        -1.104e-08  2.065e-08  -0.535  0.59585    \n",
       "`thinness  1-19 years`            -2.043e-01  4.016e-01  -0.509  0.61368    \n",
       "`thinness 5-9 years`               2.230e-01  3.892e-01   0.573  0.56982    \n",
       "`Income composition of resources`  2.666e+00  2.147e+00   1.242  0.22146    \n",
       "Schooling                          7.350e-01  2.280e-01   3.223  0.00249 ** \n",
       "---\n",
       "Signif. codes:  0 '***' 0.001 '**' 0.01 '*' 0.05 '.' 0.1 ' ' 1\n",
       "\n",
       "Residual standard error: 2.543 on 41 degrees of freedom\n",
       "  (122 observations deleted due to missingness)\n",
       "Multiple R-squared:  0.9209,\tAdjusted R-squared:  0.8843 \n",
       "F-statistic: 25.13 on 19 and 41 DF,  p-value: < 2.2e-16\n"
      ]
     },
     "metadata": {},
     "output_type": "display_data"
    }
   ],
   "source": [
    "## 2000's model\n",
    "lm_2000 = lm(`Life expectancy` ~ ., data = le %>% filter(Year == 2000) %>% select(-c(\"Country\", \"Year\")))\n",
    "summary(lm_2000)"
   ]
  }
 ],
 "metadata": {
  "kernelspec": {
   "display_name": "R",
   "language": "R",
   "name": "ir"
  },
  "language_info": {
   "codemirror_mode": "r",
   "file_extension": ".r",
   "mimetype": "text/x-r-source",
   "name": "R",
   "pygments_lexer": "r",
   "version": "3.6.3"
  }
 },
 "nbformat": 4,
 "nbformat_minor": 4
}
