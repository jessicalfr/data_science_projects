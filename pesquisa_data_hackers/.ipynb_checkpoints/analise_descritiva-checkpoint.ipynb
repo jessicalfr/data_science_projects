{
 "cells": [
  {
   "cell_type": "markdown",
   "metadata": {},
   "source": [
    "## Análise descritiva dos dados da Pesquisa de Mercado do Data Hackers"
   ]
  },
  {
   "cell_type": "markdown",
   "metadata": {},
   "source": [
    "Primeiro, importamos as bibliotecas e fazemos a leitura dos dados."
   ]
  },
  {
   "cell_type": "code",
   "execution_count": 41,
   "metadata": {},
   "outputs": [],
   "source": [
    "import numpy as np\n",
    "import pandas as pd\n",
    "import matplotlib\n",
    "import matplotlib.pyplot as plt\n",
    "import seaborn as sns"
   ]
  },
  {
   "cell_type": "code",
   "execution_count": 17,
   "metadata": {},
   "outputs": [
    {
     "data": {
      "text/html": [
       "<div>\n",
       "<style scoped>\n",
       "    .dataframe tbody tr th:only-of-type {\n",
       "        vertical-align: middle;\n",
       "    }\n",
       "\n",
       "    .dataframe tbody tr th {\n",
       "        vertical-align: top;\n",
       "    }\n",
       "\n",
       "    .dataframe thead th {\n",
       "        text-align: right;\n",
       "    }\n",
       "</style>\n",
       "<table border=\"1\" class=\"dataframe\">\n",
       "  <thead>\n",
       "    <tr style=\"text-align: right;\">\n",
       "      <th></th>\n",
       "      <th>('P0', 'id')</th>\n",
       "      <th>('P1', 'age')</th>\n",
       "      <th>('P2', 'gender')</th>\n",
       "      <th>('P3', 'living_in_brasil')</th>\n",
       "      <th>('P5', 'living_state')</th>\n",
       "      <th>('P6', 'born_or_graduated')</th>\n",
       "      <th>('P8', 'degreee_level')</th>\n",
       "      <th>('P10', 'job_situation')</th>\n",
       "      <th>('P12', 'workers_number')</th>\n",
       "      <th>('P13', 'manager')</th>\n",
       "      <th>...</th>\n",
       "      <th>('P34', 'other')</th>\n",
       "      <th>('P35', 'data_science_plataforms_preference')</th>\n",
       "      <th>('P35', 'other')</th>\n",
       "      <th>('P36', 'draw_participation')</th>\n",
       "      <th>('D1', 'living_macroregion')</th>\n",
       "      <th>('D2', 'origin_macroregion')</th>\n",
       "      <th>('D3', 'anonymized_degree_area')</th>\n",
       "      <th>('D4', 'anonymized_market_sector')</th>\n",
       "      <th>('D5', 'anonymized_manager_level')</th>\n",
       "      <th>('D6', 'anonymized_role')</th>\n",
       "    </tr>\n",
       "  </thead>\n",
       "  <tbody>\n",
       "    <tr>\n",
       "      <td>0</td>\n",
       "      <td>v9otv8j9wdvjrv9otvwnn9owhzq54ktv</td>\n",
       "      <td>37.0</td>\n",
       "      <td>Masculino</td>\n",
       "      <td>1</td>\n",
       "      <td>Minas Gerais (MG)</td>\n",
       "      <td>1.0</td>\n",
       "      <td>Estudante de Graduação</td>\n",
       "      <td>Empregado (CTL)</td>\n",
       "      <td>de 1 a 5</td>\n",
       "      <td>0.0</td>\n",
       "      <td>...</td>\n",
       "      <td>0</td>\n",
       "      <td>Nunca fiz cursos online</td>\n",
       "      <td>NaN</td>\n",
       "      <td>1.0</td>\n",
       "      <td>Região Sudeste</td>\n",
       "      <td>NaN</td>\n",
       "      <td>Computação / Engenharia de Software / Sistemas...</td>\n",
       "      <td>Outras</td>\n",
       "      <td>NaN</td>\n",
       "      <td>Outras</td>\n",
       "    </tr>\n",
       "    <tr>\n",
       "      <td>1</td>\n",
       "      <td>875ul998t0hqcv0871uptwf3oswcfv35</td>\n",
       "      <td>24.0</td>\n",
       "      <td>Feminino</td>\n",
       "      <td>1</td>\n",
       "      <td>São Paulo (SP)</td>\n",
       "      <td>1.0</td>\n",
       "      <td>Estudante de Graduação</td>\n",
       "      <td>Empregado (CTL)</td>\n",
       "      <td>Acima de 3000</td>\n",
       "      <td>0.0</td>\n",
       "      <td>...</td>\n",
       "      <td>1</td>\n",
       "      <td>NaN</td>\n",
       "      <td>Data Science Academy</td>\n",
       "      <td>0.0</td>\n",
       "      <td>Região Sudeste</td>\n",
       "      <td>NaN</td>\n",
       "      <td>Computação / Engenharia de Software / Sistemas...</td>\n",
       "      <td>Educação</td>\n",
       "      <td>NaN</td>\n",
       "      <td>Data Analyst/Analista de Dados</td>\n",
       "    </tr>\n",
       "    <tr>\n",
       "      <td>2</td>\n",
       "      <td>puscuk079vw1pusbb900pzw2xvpxtgdk</td>\n",
       "      <td>26.0</td>\n",
       "      <td>Masculino</td>\n",
       "      <td>1</td>\n",
       "      <td>São Paulo (SP)</td>\n",
       "      <td>1.0</td>\n",
       "      <td>Graduação/Bacharelado</td>\n",
       "      <td>Empregado (CTL)</td>\n",
       "      <td>Acima de 3000</td>\n",
       "      <td>0.0</td>\n",
       "      <td>...</td>\n",
       "      <td>0</td>\n",
       "      <td>Udemy</td>\n",
       "      <td>NaN</td>\n",
       "      <td>1.0</td>\n",
       "      <td>Região Sudeste</td>\n",
       "      <td>NaN</td>\n",
       "      <td>Outras Engenharias</td>\n",
       "      <td>Indústria (Manufatura)</td>\n",
       "      <td>NaN</td>\n",
       "      <td>Outras</td>\n",
       "    </tr>\n",
       "    <tr>\n",
       "      <td>3</td>\n",
       "      <td>rmel8ewqpbffp2mnfbzermel8eqincov</td>\n",
       "      <td>21.0</td>\n",
       "      <td>Masculino</td>\n",
       "      <td>1</td>\n",
       "      <td>São Paulo (SP)</td>\n",
       "      <td>0.0</td>\n",
       "      <td>Estudante de Graduação</td>\n",
       "      <td>Estagiário</td>\n",
       "      <td>de 11 a 50</td>\n",
       "      <td>0.0</td>\n",
       "      <td>...</td>\n",
       "      <td>0</td>\n",
       "      <td>Alura</td>\n",
       "      <td>NaN</td>\n",
       "      <td>1.0</td>\n",
       "      <td>Região Sudeste</td>\n",
       "      <td>Região Sudeste</td>\n",
       "      <td>Computação / Engenharia de Software / Sistemas...</td>\n",
       "      <td>Tecnologia/Fábrica de Software</td>\n",
       "      <td>NaN</td>\n",
       "      <td>Business Intelligence/Analista de BI</td>\n",
       "    </tr>\n",
       "    <tr>\n",
       "      <td>4</td>\n",
       "      <td>pj9mgud4d6mdct1l7vq0pj9mgu78h6ju</td>\n",
       "      <td>27.0</td>\n",
       "      <td>Masculino</td>\n",
       "      <td>1</td>\n",
       "      <td>NaN</td>\n",
       "      <td>1.0</td>\n",
       "      <td>Graduação/Bacharelado</td>\n",
       "      <td>Freelancer</td>\n",
       "      <td>de 6 a 10</td>\n",
       "      <td>1.0</td>\n",
       "      <td>...</td>\n",
       "      <td>0</td>\n",
       "      <td>Udemy</td>\n",
       "      <td>NaN</td>\n",
       "      <td>1.0</td>\n",
       "      <td>NaN</td>\n",
       "      <td>NaN</td>\n",
       "      <td>Computação / Engenharia de Software / Sistemas...</td>\n",
       "      <td>Internet/Ecommerce</td>\n",
       "      <td>C-level (CDO, CIO, CTO)</td>\n",
       "      <td>NaN</td>\n",
       "    </tr>\n",
       "  </tbody>\n",
       "</table>\n",
       "<p>5 rows × 170 columns</p>\n",
       "</div>"
      ],
      "text/plain": [
       "                       ('P0', 'id')  ('P1', 'age') ('P2', 'gender')  \\\n",
       "0  v9otv8j9wdvjrv9otvwnn9owhzq54ktv           37.0        Masculino   \n",
       "1  875ul998t0hqcv0871uptwf3oswcfv35           24.0         Feminino   \n",
       "2  puscuk079vw1pusbb900pzw2xvpxtgdk           26.0        Masculino   \n",
       "3  rmel8ewqpbffp2mnfbzermel8eqincov           21.0        Masculino   \n",
       "4  pj9mgud4d6mdct1l7vq0pj9mgu78h6ju           27.0        Masculino   \n",
       "\n",
       "   ('P3', 'living_in_brasil') ('P5', 'living_state')  \\\n",
       "0                           1      Minas Gerais (MG)   \n",
       "1                           1         São Paulo (SP)   \n",
       "2                           1         São Paulo (SP)   \n",
       "3                           1         São Paulo (SP)   \n",
       "4                           1                    NaN   \n",
       "\n",
       "   ('P6', 'born_or_graduated') ('P8', 'degreee_level')  \\\n",
       "0                          1.0  Estudante de Graduação   \n",
       "1                          1.0  Estudante de Graduação   \n",
       "2                          1.0   Graduação/Bacharelado   \n",
       "3                          0.0  Estudante de Graduação   \n",
       "4                          1.0   Graduação/Bacharelado   \n",
       "\n",
       "  ('P10', 'job_situation') ('P12', 'workers_number')  ('P13', 'manager')  ...  \\\n",
       "0          Empregado (CTL)                  de 1 a 5                 0.0  ...   \n",
       "1          Empregado (CTL)             Acima de 3000                 0.0  ...   \n",
       "2          Empregado (CTL)             Acima de 3000                 0.0  ...   \n",
       "3               Estagiário                de 11 a 50                 0.0  ...   \n",
       "4               Freelancer                 de 6 a 10                 1.0  ...   \n",
       "\n",
       "  ('P34', 'other') ('P35', 'data_science_plataforms_preference')  \\\n",
       "0                0                       Nunca fiz cursos online   \n",
       "1                1                                           NaN   \n",
       "2                0                                         Udemy   \n",
       "3                0                                         Alura   \n",
       "4                0                                         Udemy   \n",
       "\n",
       "       ('P35', 'other')  ('P36', 'draw_participation')  \\\n",
       "0                   NaN                            1.0   \n",
       "1  Data Science Academy                            0.0   \n",
       "2                   NaN                            1.0   \n",
       "3                   NaN                            1.0   \n",
       "4                   NaN                            1.0   \n",
       "\n",
       "   ('D1', 'living_macroregion')  ('D2', 'origin_macroregion')  \\\n",
       "0                Região Sudeste                           NaN   \n",
       "1                Região Sudeste                           NaN   \n",
       "2                Região Sudeste                           NaN   \n",
       "3                Região Sudeste                Região Sudeste   \n",
       "4                           NaN                           NaN   \n",
       "\n",
       "                    ('D3', 'anonymized_degree_area')  \\\n",
       "0  Computação / Engenharia de Software / Sistemas...   \n",
       "1  Computação / Engenharia de Software / Sistemas...   \n",
       "2                                 Outras Engenharias   \n",
       "3  Computação / Engenharia de Software / Sistemas...   \n",
       "4  Computação / Engenharia de Software / Sistemas...   \n",
       "\n",
       "   ('D4', 'anonymized_market_sector')  ('D5', 'anonymized_manager_level')  \\\n",
       "0                              Outras                                 NaN   \n",
       "1                            Educação                                 NaN   \n",
       "2              Indústria (Manufatura)                                 NaN   \n",
       "3      Tecnologia/Fábrica de Software                                 NaN   \n",
       "4                  Internet/Ecommerce             C-level (CDO, CIO, CTO)   \n",
       "\n",
       "              ('D6', 'anonymized_role')  \n",
       "0                                Outras  \n",
       "1        Data Analyst/Analista de Dados  \n",
       "2                                Outras  \n",
       "3  Business Intelligence/Analista de BI  \n",
       "4                                   NaN  \n",
       "\n",
       "[5 rows x 170 columns]"
      ]
     },
     "execution_count": 17,
     "metadata": {},
     "output_type": "execute_result"
    }
   ],
   "source": [
    "# leitura dos dados\n",
    "dados = pd.read_csv('datahackers-survey-2019-anonymous-responses.csv')\n",
    "dados.head()"
   ]
  },
  {
   "cell_type": "markdown",
   "metadata": {},
   "source": [
    "Os nomes das colunas precisam ser normalizados para facilitar a manipulação."
   ]
  },
  {
   "cell_type": "code",
   "execution_count": 19,
   "metadata": {},
   "outputs": [
    {
     "data": {
      "text/html": [
       "<div>\n",
       "<style scoped>\n",
       "    .dataframe tbody tr th:only-of-type {\n",
       "        vertical-align: middle;\n",
       "    }\n",
       "\n",
       "    .dataframe tbody tr th {\n",
       "        vertical-align: top;\n",
       "    }\n",
       "\n",
       "    .dataframe thead th {\n",
       "        text-align: right;\n",
       "    }\n",
       "</style>\n",
       "<table border=\"1\" class=\"dataframe\">\n",
       "  <thead>\n",
       "    <tr style=\"text-align: right;\">\n",
       "      <th></th>\n",
       "      <th>p0_id</th>\n",
       "      <th>p1_age</th>\n",
       "      <th>p2_gender</th>\n",
       "      <th>p3_living_in_brasil</th>\n",
       "      <th>p5_living_state</th>\n",
       "      <th>p6_born_or_graduated</th>\n",
       "      <th>p8_degreee_level</th>\n",
       "      <th>p10_job_situation</th>\n",
       "      <th>p12_workers_number</th>\n",
       "      <th>p13_manager</th>\n",
       "      <th>...</th>\n",
       "      <th>p34_other</th>\n",
       "      <th>p35_data_science_plataforms_preference</th>\n",
       "      <th>p35_other</th>\n",
       "      <th>p36_draw_participation</th>\n",
       "      <th>d1_living_macroregion</th>\n",
       "      <th>d2_origin_macroregion</th>\n",
       "      <th>d3_anonymized_degree_area</th>\n",
       "      <th>d4_anonymized_market_sector</th>\n",
       "      <th>d5_anonymized_manager_level</th>\n",
       "      <th>d6_anonymized_role</th>\n",
       "    </tr>\n",
       "  </thead>\n",
       "  <tbody>\n",
       "    <tr>\n",
       "      <td>0</td>\n",
       "      <td>v9otv8j9wdvjrv9otvwnn9owhzq54ktv</td>\n",
       "      <td>37.0</td>\n",
       "      <td>Masculino</td>\n",
       "      <td>1</td>\n",
       "      <td>Minas Gerais (MG)</td>\n",
       "      <td>1.0</td>\n",
       "      <td>Estudante de Graduação</td>\n",
       "      <td>Empregado (CTL)</td>\n",
       "      <td>de 1 a 5</td>\n",
       "      <td>0.0</td>\n",
       "      <td>...</td>\n",
       "      <td>0</td>\n",
       "      <td>Nunca fiz cursos online</td>\n",
       "      <td>NaN</td>\n",
       "      <td>1.0</td>\n",
       "      <td>Região Sudeste</td>\n",
       "      <td>NaN</td>\n",
       "      <td>Computação / Engenharia de Software / Sistemas...</td>\n",
       "      <td>Outras</td>\n",
       "      <td>NaN</td>\n",
       "      <td>Outras</td>\n",
       "    </tr>\n",
       "    <tr>\n",
       "      <td>1</td>\n",
       "      <td>875ul998t0hqcv0871uptwf3oswcfv35</td>\n",
       "      <td>24.0</td>\n",
       "      <td>Feminino</td>\n",
       "      <td>1</td>\n",
       "      <td>São Paulo (SP)</td>\n",
       "      <td>1.0</td>\n",
       "      <td>Estudante de Graduação</td>\n",
       "      <td>Empregado (CTL)</td>\n",
       "      <td>Acima de 3000</td>\n",
       "      <td>0.0</td>\n",
       "      <td>...</td>\n",
       "      <td>1</td>\n",
       "      <td>NaN</td>\n",
       "      <td>Data Science Academy</td>\n",
       "      <td>0.0</td>\n",
       "      <td>Região Sudeste</td>\n",
       "      <td>NaN</td>\n",
       "      <td>Computação / Engenharia de Software / Sistemas...</td>\n",
       "      <td>Educação</td>\n",
       "      <td>NaN</td>\n",
       "      <td>Data Analyst/Analista de Dados</td>\n",
       "    </tr>\n",
       "    <tr>\n",
       "      <td>2</td>\n",
       "      <td>puscuk079vw1pusbb900pzw2xvpxtgdk</td>\n",
       "      <td>26.0</td>\n",
       "      <td>Masculino</td>\n",
       "      <td>1</td>\n",
       "      <td>São Paulo (SP)</td>\n",
       "      <td>1.0</td>\n",
       "      <td>Graduação/Bacharelado</td>\n",
       "      <td>Empregado (CTL)</td>\n",
       "      <td>Acima de 3000</td>\n",
       "      <td>0.0</td>\n",
       "      <td>...</td>\n",
       "      <td>0</td>\n",
       "      <td>Udemy</td>\n",
       "      <td>NaN</td>\n",
       "      <td>1.0</td>\n",
       "      <td>Região Sudeste</td>\n",
       "      <td>NaN</td>\n",
       "      <td>Outras Engenharias</td>\n",
       "      <td>Indústria (Manufatura)</td>\n",
       "      <td>NaN</td>\n",
       "      <td>Outras</td>\n",
       "    </tr>\n",
       "    <tr>\n",
       "      <td>3</td>\n",
       "      <td>rmel8ewqpbffp2mnfbzermel8eqincov</td>\n",
       "      <td>21.0</td>\n",
       "      <td>Masculino</td>\n",
       "      <td>1</td>\n",
       "      <td>São Paulo (SP)</td>\n",
       "      <td>0.0</td>\n",
       "      <td>Estudante de Graduação</td>\n",
       "      <td>Estagiário</td>\n",
       "      <td>de 11 a 50</td>\n",
       "      <td>0.0</td>\n",
       "      <td>...</td>\n",
       "      <td>0</td>\n",
       "      <td>Alura</td>\n",
       "      <td>NaN</td>\n",
       "      <td>1.0</td>\n",
       "      <td>Região Sudeste</td>\n",
       "      <td>Região Sudeste</td>\n",
       "      <td>Computação / Engenharia de Software / Sistemas...</td>\n",
       "      <td>Tecnologia/Fábrica de Software</td>\n",
       "      <td>NaN</td>\n",
       "      <td>Business Intelligence/Analista de BI</td>\n",
       "    </tr>\n",
       "    <tr>\n",
       "      <td>4</td>\n",
       "      <td>pj9mgud4d6mdct1l7vq0pj9mgu78h6ju</td>\n",
       "      <td>27.0</td>\n",
       "      <td>Masculino</td>\n",
       "      <td>1</td>\n",
       "      <td>NaN</td>\n",
       "      <td>1.0</td>\n",
       "      <td>Graduação/Bacharelado</td>\n",
       "      <td>Freelancer</td>\n",
       "      <td>de 6 a 10</td>\n",
       "      <td>1.0</td>\n",
       "      <td>...</td>\n",
       "      <td>0</td>\n",
       "      <td>Udemy</td>\n",
       "      <td>NaN</td>\n",
       "      <td>1.0</td>\n",
       "      <td>NaN</td>\n",
       "      <td>NaN</td>\n",
       "      <td>Computação / Engenharia de Software / Sistemas...</td>\n",
       "      <td>Internet/Ecommerce</td>\n",
       "      <td>C-level (CDO, CIO, CTO)</td>\n",
       "      <td>NaN</td>\n",
       "    </tr>\n",
       "  </tbody>\n",
       "</table>\n",
       "<p>5 rows × 170 columns</p>\n",
       "</div>"
      ],
      "text/plain": [
       "                              p0_id  p1_age  p2_gender  p3_living_in_brasil  \\\n",
       "0  v9otv8j9wdvjrv9otvwnn9owhzq54ktv    37.0  Masculino                    1   \n",
       "1  875ul998t0hqcv0871uptwf3oswcfv35    24.0   Feminino                    1   \n",
       "2  puscuk079vw1pusbb900pzw2xvpxtgdk    26.0  Masculino                    1   \n",
       "3  rmel8ewqpbffp2mnfbzermel8eqincov    21.0  Masculino                    1   \n",
       "4  pj9mgud4d6mdct1l7vq0pj9mgu78h6ju    27.0  Masculino                    1   \n",
       "\n",
       "     p5_living_state  p6_born_or_graduated        p8_degreee_level  \\\n",
       "0  Minas Gerais (MG)                   1.0  Estudante de Graduação   \n",
       "1     São Paulo (SP)                   1.0  Estudante de Graduação   \n",
       "2     São Paulo (SP)                   1.0   Graduação/Bacharelado   \n",
       "3     São Paulo (SP)                   0.0  Estudante de Graduação   \n",
       "4                NaN                   1.0   Graduação/Bacharelado   \n",
       "\n",
       "  p10_job_situation p12_workers_number  p13_manager  ... p34_other  \\\n",
       "0   Empregado (CTL)           de 1 a 5          0.0  ...         0   \n",
       "1   Empregado (CTL)      Acima de 3000          0.0  ...         1   \n",
       "2   Empregado (CTL)      Acima de 3000          0.0  ...         0   \n",
       "3        Estagiário         de 11 a 50          0.0  ...         0   \n",
       "4        Freelancer          de 6 a 10          1.0  ...         0   \n",
       "\n",
       "  p35_data_science_plataforms_preference             p35_other  \\\n",
       "0                Nunca fiz cursos online                   NaN   \n",
       "1                                    NaN  Data Science Academy   \n",
       "2                                  Udemy                   NaN   \n",
       "3                                  Alura                   NaN   \n",
       "4                                  Udemy                   NaN   \n",
       "\n",
       "   p36_draw_participation  d1_living_macroregion  d2_origin_macroregion  \\\n",
       "0                     1.0         Região Sudeste                    NaN   \n",
       "1                     0.0         Região Sudeste                    NaN   \n",
       "2                     1.0         Região Sudeste                    NaN   \n",
       "3                     1.0         Região Sudeste         Região Sudeste   \n",
       "4                     1.0                    NaN                    NaN   \n",
       "\n",
       "                           d3_anonymized_degree_area  \\\n",
       "0  Computação / Engenharia de Software / Sistemas...   \n",
       "1  Computação / Engenharia de Software / Sistemas...   \n",
       "2                                 Outras Engenharias   \n",
       "3  Computação / Engenharia de Software / Sistemas...   \n",
       "4  Computação / Engenharia de Software / Sistemas...   \n",
       "\n",
       "      d4_anonymized_market_sector  d5_anonymized_manager_level  \\\n",
       "0                          Outras                          NaN   \n",
       "1                        Educação                          NaN   \n",
       "2          Indústria (Manufatura)                          NaN   \n",
       "3  Tecnologia/Fábrica de Software                          NaN   \n",
       "4              Internet/Ecommerce      C-level (CDO, CIO, CTO)   \n",
       "\n",
       "                     d6_anonymized_role  \n",
       "0                                Outras  \n",
       "1        Data Analyst/Analista de Dados  \n",
       "2                                Outras  \n",
       "3  Business Intelligence/Analista de BI  \n",
       "4                                   NaN  \n",
       "\n",
       "[5 rows x 170 columns]"
      ]
     },
     "execution_count": 19,
     "metadata": {},
     "output_type": "execute_result"
    }
   ],
   "source": [
    "# normalização das variáveis\n",
    "dados.columns = [x.replace(\"(\", \"\").replace(\")\", \"\").replace(\"'\", \"\").replace(\", \", \"_\").lower() for x in dados.columns]\n",
    "dados.head()"
   ]
  },
  {
   "cell_type": "code",
   "execution_count": 20,
   "metadata": {},
   "outputs": [
    {
     "data": {
      "text/plain": [
       "(1765, 170)"
      ]
     },
     "execution_count": 20,
     "metadata": {},
     "output_type": "execute_result"
    }
   ],
   "source": [
    "# formato do dataset\n",
    "dados.shape"
   ]
  },
  {
   "cell_type": "markdown",
   "metadata": {},
   "source": [
    "Temos no *dataset* 1.765 respostas e 170 variáveis. Vamos criar um *data frame* auxiliar com algumas informações importantes sobre cada coluna."
   ]
  },
  {
   "cell_type": "code",
   "execution_count": 78,
   "metadata": {},
   "outputs": [
    {
     "data": {
      "text/html": [
       "<div>\n",
       "<style scoped>\n",
       "    .dataframe tbody tr th:only-of-type {\n",
       "        vertical-align: middle;\n",
       "    }\n",
       "\n",
       "    .dataframe tbody tr th {\n",
       "        vertical-align: top;\n",
       "    }\n",
       "\n",
       "    .dataframe thead th {\n",
       "        text-align: right;\n",
       "    }\n",
       "</style>\n",
       "<table border=\"1\" class=\"dataframe\">\n",
       "  <thead>\n",
       "    <tr style=\"text-align: right;\">\n",
       "      <th></th>\n",
       "      <th>tipo</th>\n",
       "      <th>unicos</th>\n",
       "      <th>na</th>\n",
       "    </tr>\n",
       "  </thead>\n",
       "  <tbody>\n",
       "    <tr>\n",
       "      <td>p0_id</td>\n",
       "      <td>object</td>\n",
       "      <td>1765</td>\n",
       "      <td>0</td>\n",
       "    </tr>\n",
       "    <tr>\n",
       "      <td>p1_age</td>\n",
       "      <td>float64</td>\n",
       "      <td>33</td>\n",
       "      <td>24</td>\n",
       "    </tr>\n",
       "    <tr>\n",
       "      <td>p2_gender</td>\n",
       "      <td>object</td>\n",
       "      <td>2</td>\n",
       "      <td>3</td>\n",
       "    </tr>\n",
       "    <tr>\n",
       "      <td>p3_living_in_brasil</td>\n",
       "      <td>int64</td>\n",
       "      <td>2</td>\n",
       "      <td>0</td>\n",
       "    </tr>\n",
       "    <tr>\n",
       "      <td>p5_living_state</td>\n",
       "      <td>object</td>\n",
       "      <td>7</td>\n",
       "      <td>337</td>\n",
       "    </tr>\n",
       "    <tr>\n",
       "      <td>...</td>\n",
       "      <td>...</td>\n",
       "      <td>...</td>\n",
       "      <td>...</td>\n",
       "    </tr>\n",
       "    <tr>\n",
       "      <td>d2_origin_macroregion</td>\n",
       "      <td>object</td>\n",
       "      <td>5</td>\n",
       "      <td>1440</td>\n",
       "    </tr>\n",
       "    <tr>\n",
       "      <td>d3_anonymized_degree_area</td>\n",
       "      <td>object</td>\n",
       "      <td>8</td>\n",
       "      <td>35</td>\n",
       "    </tr>\n",
       "    <tr>\n",
       "      <td>d4_anonymized_market_sector</td>\n",
       "      <td>object</td>\n",
       "      <td>17</td>\n",
       "      <td>243</td>\n",
       "    </tr>\n",
       "    <tr>\n",
       "      <td>d5_anonymized_manager_level</td>\n",
       "      <td>object</td>\n",
       "      <td>8</td>\n",
       "      <td>1460</td>\n",
       "    </tr>\n",
       "    <tr>\n",
       "      <td>d6_anonymized_role</td>\n",
       "      <td>object</td>\n",
       "      <td>14</td>\n",
       "      <td>514</td>\n",
       "    </tr>\n",
       "  </tbody>\n",
       "</table>\n",
       "<p>170 rows × 3 columns</p>\n",
       "</div>"
      ],
      "text/plain": [
       "                                tipo  unicos    na\n",
       "p0_id                         object    1765     0\n",
       "p1_age                       float64      33    24\n",
       "p2_gender                     object       2     3\n",
       "p3_living_in_brasil            int64       2     0\n",
       "p5_living_state               object       7   337\n",
       "...                              ...     ...   ...\n",
       "d2_origin_macroregion         object       5  1440\n",
       "d3_anonymized_degree_area     object       8    35\n",
       "d4_anonymized_market_sector   object      17   243\n",
       "d5_anonymized_manager_level   object       8  1460\n",
       "d6_anonymized_role            object      14   514\n",
       "\n",
       "[170 rows x 3 columns]"
      ]
     },
     "execution_count": 78,
     "metadata": {},
     "output_type": "execute_result"
    }
   ],
   "source": [
    "# cria data frame auxiliar\n",
    "aux = pd.DataFrame({'tipo': dados.dtypes,\n",
    "                    'unicos': dados.nunique(),\n",
    "                    'na': dados.isna().sum()})\n",
    "aux"
   ]
  },
  {
   "cell_type": "markdown",
   "metadata": {},
   "source": [
    "Algumas colunas contém NAs. Vamos tratar de cada caso separadamente."
   ]
  },
  {
   "cell_type": "markdown",
   "metadata": {},
   "source": [
    "### Análise descritiva"
   ]
  },
  {
   "cell_type": "markdown",
   "metadata": {},
   "source": [
    "Primeiro vamos analisar as características sociodemográficas dos respondentes."
   ]
  },
  {
   "cell_type": "markdown",
   "metadata": {},
   "source": [
    "#### Idade"
   ]
  },
  {
   "cell_type": "code",
   "execution_count": 82,
   "metadata": {},
   "outputs": [
    {
     "data": {
      "text/plain": [
       "tipo      float64\n",
       "unicos         33\n",
       "na             24\n",
       "Name: p1_age, dtype: object"
      ]
     },
     "execution_count": 82,
     "metadata": {},
     "output_type": "execute_result"
    }
   ],
   "source": [
    "# número de NAs\n",
    "aux.loc['p1_age']"
   ]
  },
  {
   "cell_type": "markdown",
   "metadata": {},
   "source": [
    "Essa variável contém 24 valores NA que serão removidos da descrição."
   ]
  },
  {
   "cell_type": "code",
   "execution_count": 23,
   "metadata": {},
   "outputs": [
    {
     "data": {
      "text/plain": [
       "count    1741.000000\n",
       "mean       29.800689\n",
       "std         6.595795\n",
       "min        18.000000\n",
       "25%        25.000000\n",
       "50%        29.000000\n",
       "75%        34.000000\n",
       "max        50.000000\n",
       "Name: p1_age, dtype: float64"
      ]
     },
     "execution_count": 23,
     "metadata": {},
     "output_type": "execute_result"
    }
   ],
   "source": [
    "# distribuição da idade dos respondentes\n",
    "dados['p1_age'].describe()"
   ]
  },
  {
   "cell_type": "code",
   "execution_count": 31,
   "metadata": {},
   "outputs": [
    {
     "data": {
      "text/plain": [
       "Text(0.5, 0, 'Idade')"
      ]
     },
     "execution_count": 31,
     "metadata": {},
     "output_type": "execute_result"
    },
    {
     "data": {
      "image/png": "[encoded data removed]",
      "text/plain": [
       "<Figure size 720x432 with 1 Axes>"
      ]
     },
     "metadata": {
      "needs_background": "light"
     },
     "output_type": "display_data"
    }
   ],
   "source": [
    "# histograma\n",
    "plt.figure(figsize=(10,6))\n",
    "sns.distplot(dados['p1_age'].dropna(), bins=30)\n",
    "plt.title('Histograma da Idade dos Respondentes')\n",
    "plt.xlabel('Idade')"
   ]
  },
  {
   "cell_type": "markdown",
   "metadata": {},
   "source": [
    "A distribuição etária dos participantes é levemente assimétrica à direita, com uma média de 29,8 anos e desvio padrão de 6,6 anos. A mediana é levemente menor (29 anos), mostrando a leve assimetria dos dados."
   ]
  },
  {
   "cell_type": "markdown",
   "metadata": {},
   "source": [
    "#### Sexo"
   ]
  },
  {
   "cell_type": "code",
   "execution_count": 83,
   "metadata": {},
   "outputs": [
    {
     "data": {
      "text/plain": [
       "tipo      object\n",
       "unicos         2\n",
       "na             3\n",
       "Name: p2_gender, dtype: object"
      ]
     },
     "execution_count": 83,
     "metadata": {},
     "output_type": "execute_result"
    }
   ],
   "source": [
    "# número de NAs\n",
    "aux.loc['p2_gender']"
   ]
  },
  {
   "cell_type": "markdown",
   "metadata": {},
   "source": [
    "Essa variável contém apenas 3 entradas NA, que também serão removidas da análise descritiva."
   ]
  },
  {
   "cell_type": "code",
   "execution_count": 56,
   "metadata": {},
   "outputs": [
    {
     "data": {
      "text/html": [
       "<div>\n",
       "<style scoped>\n",
       "    .dataframe tbody tr th:only-of-type {\n",
       "        vertical-align: middle;\n",
       "    }\n",
       "\n",
       "    .dataframe tbody tr th {\n",
       "        vertical-align: top;\n",
       "    }\n",
       "\n",
       "    .dataframe thead th {\n",
       "        text-align: right;\n",
       "    }\n",
       "</style>\n",
       "<table border=\"1\" class=\"dataframe\">\n",
       "  <thead>\n",
       "    <tr style=\"text-align: right;\">\n",
       "      <th></th>\n",
       "      <th>p2_gender</th>\n",
       "      <th>prop</th>\n",
       "    </tr>\n",
       "  </thead>\n",
       "  <tbody>\n",
       "    <tr>\n",
       "      <td>Masculino</td>\n",
       "      <td>1436</td>\n",
       "      <td>0.814983</td>\n",
       "    </tr>\n",
       "    <tr>\n",
       "      <td>Feminino</td>\n",
       "      <td>326</td>\n",
       "      <td>0.185017</td>\n",
       "    </tr>\n",
       "  </tbody>\n",
       "</table>\n",
       "</div>"
      ],
      "text/plain": [
       "           p2_gender      prop\n",
       "Masculino       1436  0.814983\n",
       "Feminino         326  0.185017"
      ]
     },
     "execution_count": 56,
     "metadata": {},
     "output_type": "execute_result"
    }
   ],
   "source": [
    "# quantidades\n",
    "sexo = dados['p2_gender'].dropna().value_counts().to_frame()\n",
    "sexo['prop'] = sexo['p2_gender']/dados['p2_gender'].dropna().count()\n",
    "sexo"
   ]
  },
  {
   "cell_type": "markdown",
   "metadata": {},
   "source": [
    "Cerca de 81% dos respondentes informaram ser do sexo masculino. Esse era um comportamento esperado, dada a pequena participação de mulheres nas áreas de dados e programação."
   ]
  },
  {
   "cell_type": "code",
   "execution_count": 58,
   "metadata": {},
   "outputs": [
    {
     "data": {
      "text/plain": [
       "Text(0, 0.5, 'Nº de respondentes')"
      ]
     },
     "execution_count": 58,
     "metadata": {},
     "output_type": "execute_result"
    },
    {
     "data": {
      "image/png": "[encoded data removed]",
      "text/plain": [
       "<Figure size 432x288 with 1 Axes>"
      ]
     },
     "metadata": {
      "needs_background": "light"
     },
     "output_type": "display_data"
    }
   ],
   "source": [
    "# barplot\n",
    "sns.barplot(x=sexo.index, y=sexo.p2_gender, color='lightblue')\n",
    "plt.title('Sexo dos Respondentes')\n",
    "plt.ylabel('Nº de respondentes')"
   ]
  },
  {
   "cell_type": "code",
   "execution_count": 64,
   "metadata": {},
   "outputs": [
    {
     "data": {
      "text/plain": [
       "(1738, 2)"
      ]
     },
     "execution_count": 64,
     "metadata": {},
     "output_type": "execute_result"
    }
   ],
   "source": [
    "# comparando idade e sexo\n",
    "df_age_gender = dados[['p1_age', 'p2_gender']].dropna()\n",
    "df_age_gender.shape"
   ]
  },
  {
   "cell_type": "markdown",
   "metadata": {},
   "source": [
    "Podemos comparar a distribuição etária pelo sexo informado. Removendo os dados ausentes, temos dados de 1.738 respondentes."
   ]
  },
  {
   "cell_type": "code",
   "execution_count": 63,
   "metadata": {},
   "outputs": [
    {
     "data": {
      "text/plain": [
       "Text(0, 0.5, 'Idade')"
      ]
     },
     "execution_count": 63,
     "metadata": {},
     "output_type": "execute_result"
    },
    {
     "data": {
      "image/png": "[encoded data removed]",
      "text/plain": [
       "<Figure size 432x288 with 1 Axes>"
      ]
     },
     "metadata": {
      "needs_background": "light"
     },
     "output_type": "display_data"
    }
   ],
   "source": [
    "# boxplot por sexo\n",
    "sns.boxplot(x=df_age_gender['p2_gender'], y=df_age_gender['p1_age'],\n",
    "            palette={'Masculino': 'lightblue', 'Feminino': 'coral'})\n",
    "plt.title('Histograma da Idade dos Respondentes')\n",
    "plt.xlabel('Sexo')\n",
    "plt.ylabel('Idade')"
   ]
  },
  {
   "cell_type": "code",
   "execution_count": 65,
   "metadata": {},
   "outputs": [
    {
     "data": {
      "text/html": [
       "<div>\n",
       "<style scoped>\n",
       "    .dataframe tbody tr th:only-of-type {\n",
       "        vertical-align: middle;\n",
       "    }\n",
       "\n",
       "    .dataframe tbody tr th {\n",
       "        vertical-align: top;\n",
       "    }\n",
       "\n",
       "    .dataframe thead tr th {\n",
       "        text-align: left;\n",
       "    }\n",
       "\n",
       "    .dataframe thead tr:last-of-type th {\n",
       "        text-align: right;\n",
       "    }\n",
       "</style>\n",
       "<table border=\"1\" class=\"dataframe\">\n",
       "  <thead>\n",
       "    <tr>\n",
       "      <th></th>\n",
       "      <th colspan=\"8\" halign=\"left\">p1_age</th>\n",
       "    </tr>\n",
       "    <tr>\n",
       "      <th></th>\n",
       "      <th>count</th>\n",
       "      <th>mean</th>\n",
       "      <th>std</th>\n",
       "      <th>min</th>\n",
       "      <th>25%</th>\n",
       "      <th>50%</th>\n",
       "      <th>75%</th>\n",
       "      <th>max</th>\n",
       "    </tr>\n",
       "    <tr>\n",
       "      <th>p2_gender</th>\n",
       "      <th></th>\n",
       "      <th></th>\n",
       "      <th></th>\n",
       "      <th></th>\n",
       "      <th></th>\n",
       "      <th></th>\n",
       "      <th></th>\n",
       "      <th></th>\n",
       "    </tr>\n",
       "  </thead>\n",
       "  <tbody>\n",
       "    <tr>\n",
       "      <td>Feminino</td>\n",
       "      <td>319.0</td>\n",
       "      <td>29.090909</td>\n",
       "      <td>6.231479</td>\n",
       "      <td>18.0</td>\n",
       "      <td>24.0</td>\n",
       "      <td>28.0</td>\n",
       "      <td>32.0</td>\n",
       "      <td>50.0</td>\n",
       "    </tr>\n",
       "    <tr>\n",
       "      <td>Masculino</td>\n",
       "      <td>1419.0</td>\n",
       "      <td>29.976039</td>\n",
       "      <td>6.663649</td>\n",
       "      <td>18.0</td>\n",
       "      <td>25.0</td>\n",
       "      <td>29.0</td>\n",
       "      <td>34.0</td>\n",
       "      <td>50.0</td>\n",
       "    </tr>\n",
       "  </tbody>\n",
       "</table>\n",
       "</div>"
      ],
      "text/plain": [
       "           p1_age                                                   \n",
       "            count       mean       std   min   25%   50%   75%   max\n",
       "p2_gender                                                           \n",
       "Feminino    319.0  29.090909  6.231479  18.0  24.0  28.0  32.0  50.0\n",
       "Masculino  1419.0  29.976039  6.663649  18.0  25.0  29.0  34.0  50.0"
      ]
     },
     "execution_count": 65,
     "metadata": {},
     "output_type": "execute_result"
    }
   ],
   "source": [
    "# medidas resumo\n",
    "df_age_gender.groupby('p2_gender').describe()"
   ]
  },
  {
   "cell_type": "markdown",
   "metadata": {},
   "source": [
    "A distribuição da idade é muito similar comparando homens e mulheres. É possível perceber que a distribuição das mulheres é menos dispersa e mais assimétrica à direita."
   ]
  },
  {
   "cell_type": "markdown",
   "metadata": {},
   "source": [
    "#### Estado de moradia"
   ]
  },
  {
   "cell_type": "code",
   "execution_count": 86,
   "metadata": {},
   "outputs": [
    {
     "data": {
      "text/plain": [
       "tipo      int64\n",
       "unicos        2\n",
       "na            0\n",
       "Name: p3_living_in_brasil, dtype: object"
      ]
     },
     "execution_count": 86,
     "metadata": {},
     "output_type": "execute_result"
    }
   ],
   "source": [
    "# moram no brasil\n",
    "aux.loc['p3_living_in_brasil']"
   ]
  },
  {
   "cell_type": "code",
   "execution_count": 77,
   "metadata": {},
   "outputs": [
    {
     "data": {
      "text/plain": [
       "1    1731\n",
       "0      34\n",
       "Name: p3_living_in_brasil, dtype: int64"
      ]
     },
     "execution_count": 77,
     "metadata": {},
     "output_type": "execute_result"
    }
   ],
   "source": [
    "dados['p3_living_in_brasil'].value_counts()"
   ]
  },
  {
   "cell_type": "markdown",
   "metadata": {},
   "source": [
    "Apenas 34 respondentes (2%) da amostra informou viver fora do Brasil."
   ]
  },
  {
   "cell_type": "code",
   "execution_count": 87,
   "metadata": {},
   "outputs": [
    {
     "data": {
      "text/plain": [
       "tipo      object\n",
       "unicos         7\n",
       "na           337\n",
       "Name: p5_living_state, dtype: object"
      ]
     },
     "execution_count": 87,
     "metadata": {},
     "output_type": "execute_result"
    }
   ],
   "source": [
    "# estado de moradia\n",
    "aux.loc['p5_living_state']"
   ]
  },
  {
   "cell_type": "markdown",
   "metadata": {},
   "source": [
    "Essa variável tem um número considerável de NAs. Portanto, vamos contar o NA como uma categoria a parte."
   ]
  },
  {
   "cell_type": "code",
   "execution_count": 99,
   "metadata": {},
   "outputs": [
    {
     "data": {
      "text/html": [
       "<div>\n",
       "<style scoped>\n",
       "    .dataframe tbody tr th:only-of-type {\n",
       "        vertical-align: middle;\n",
       "    }\n",
       "\n",
       "    .dataframe tbody tr th {\n",
       "        vertical-align: top;\n",
       "    }\n",
       "\n",
       "    .dataframe thead th {\n",
       "        text-align: right;\n",
       "    }\n",
       "</style>\n",
       "<table border=\"1\" class=\"dataframe\">\n",
       "  <thead>\n",
       "    <tr style=\"text-align: right;\">\n",
       "      <th></th>\n",
       "      <th>p5_living_state</th>\n",
       "      <th>prop</th>\n",
       "    </tr>\n",
       "  </thead>\n",
       "  <tbody>\n",
       "    <tr>\n",
       "      <td>São Paulo (SP)</td>\n",
       "      <td>669</td>\n",
       "      <td>0.468487</td>\n",
       "    </tr>\n",
       "    <tr>\n",
       "      <td>NR</td>\n",
       "      <td>337</td>\n",
       "      <td>0.235994</td>\n",
       "    </tr>\n",
       "    <tr>\n",
       "      <td>Minas Gerais (MG)</td>\n",
       "      <td>316</td>\n",
       "      <td>0.221289</td>\n",
       "    </tr>\n",
       "    <tr>\n",
       "      <td>Rio de Janeiro (RJ)</td>\n",
       "      <td>147</td>\n",
       "      <td>0.102941</td>\n",
       "    </tr>\n",
       "    <tr>\n",
       "      <td>Paraná (PR)</td>\n",
       "      <td>117</td>\n",
       "      <td>0.081933</td>\n",
       "    </tr>\n",
       "    <tr>\n",
       "      <td>Santa Catarina (SC)</td>\n",
       "      <td>83</td>\n",
       "      <td>0.058123</td>\n",
       "    </tr>\n",
       "    <tr>\n",
       "      <td>Rio Grande do Sul (RS)</td>\n",
       "      <td>69</td>\n",
       "      <td>0.048319</td>\n",
       "    </tr>\n",
       "    <tr>\n",
       "      <td>Espírito Santo (ES)</td>\n",
       "      <td>27</td>\n",
       "      <td>0.018908</td>\n",
       "    </tr>\n",
       "  </tbody>\n",
       "</table>\n",
       "</div>"
      ],
      "text/plain": [
       "                        p5_living_state      prop\n",
       "São Paulo (SP)                      669  0.468487\n",
       "NR                                  337  0.235994\n",
       "Minas Gerais (MG)                   316  0.221289\n",
       "Rio de Janeiro (RJ)                 147  0.102941\n",
       "Paraná (PR)                         117  0.081933\n",
       "Santa Catarina (SC)                  83  0.058123\n",
       "Rio Grande do Sul (RS)               69  0.048319\n",
       "Espírito Santo (ES)                  27  0.018908"
      ]
     },
     "execution_count": 99,
     "metadata": {},
     "output_type": "execute_result"
    }
   ],
   "source": [
    "moradia = dados['p5_living_state'].fillna('NR').value_counts().to_frame()\n",
    "moradia['prop'] = moradia['p5_living_state']/dados['p5_living_state'].count()\n",
    "moradia"
   ]
  },
  {
   "cell_type": "code",
   "execution_count": 100,
   "metadata": {},
   "outputs": [
    {
     "data": {
      "text/plain": [
       "Text(0, 0.5, 'Nº de respondentes')"
      ]
     },
     "execution_count": 100,
     "metadata": {},
     "output_type": "execute_result"
    },
    {
     "data": {
      "image/png": "[encoded data removed]",
      "text/plain": [
       "<Figure size 1080x360 with 1 Axes>"
      ]
     },
     "metadata": {
      "needs_background": "light"
     },
     "output_type": "display_data"
    }
   ],
   "source": [
    "# barplot\n",
    "plt.figure(figsize=(15,5))\n",
    "sns.barplot(x=moradia.index, y=moradia.p5_living_state, color='lightblue')\n",
    "plt.title('Estado de Moradia dos Respondentes')\n",
    "plt.ylabel('Nº de respondentes')"
   ]
  },
  {
   "cell_type": "markdown",
   "metadata": {},
   "source": [
    "O estado com maior número de respondentes é São Paulo (46,8%), seguido por Minas Gerais (22,1%) e Rio de Janeiro (10,3%). As pessoas que não responderam o estado de moradia são 23,6% da amostra."
   ]
  },
  {
   "cell_type": "code",
   "execution_count": 102,
   "metadata": {},
   "outputs": [
    {
     "data": {
      "text/plain": [
       "tipo      float64\n",
       "unicos          2\n",
       "na             34\n",
       "Name: p6_born_or_graduated, dtype: object"
      ]
     },
     "execution_count": 102,
     "metadata": {},
     "output_type": "execute_result"
    }
   ],
   "source": [
    "# estado de origem\n",
    "aux.loc['p6_born_or_graduated']"
   ]
  },
  {
   "cell_type": "code",
   "execution_count": 101,
   "metadata": {},
   "outputs": [
    {
     "data": {
      "text/plain": [
       "1.0    1403\n",
       "0.0     328\n",
       "Name: p6_born_or_graduated, dtype: int64"
      ]
     },
     "execution_count": 101,
     "metadata": {},
     "output_type": "execute_result"
    }
   ],
   "source": [
    "# é o estado de origem?\n",
    "dados['p6_born_or_graduated'].value_counts()"
   ]
  },
  {
   "cell_type": "markdown",
   "metadata": {},
   "source": [
    "18,6% dos respondentes informaram que o estado de moradia não é o mesmo de origem ou graduação."
   ]
  },
  {
   "cell_type": "markdown",
   "metadata": {},
   "source": [
    "#### Nível de escolaridade"
   ]
  },
  {
   "cell_type": "code",
   "execution_count": 103,
   "metadata": {},
   "outputs": [
    {
     "data": {
      "text/plain": [
       "tipo      object\n",
       "unicos         7\n",
       "na             0\n",
       "Name: p8_degreee_level, dtype: object"
      ]
     },
     "execution_count": 103,
     "metadata": {},
     "output_type": "execute_result"
    }
   ],
   "source": [
    "# número de ausentes\n",
    "aux.loc['p8_degreee_level']"
   ]
  },
  {
   "cell_type": "code",
   "execution_count": 106,
   "metadata": {},
   "outputs": [
    {
     "data": {
      "text/html": [
       "<div>\n",
       "<style scoped>\n",
       "    .dataframe tbody tr th:only-of-type {\n",
       "        vertical-align: middle;\n",
       "    }\n",
       "\n",
       "    .dataframe tbody tr th {\n",
       "        vertical-align: top;\n",
       "    }\n",
       "\n",
       "    .dataframe thead th {\n",
       "        text-align: right;\n",
       "    }\n",
       "</style>\n",
       "<table border=\"1\" class=\"dataframe\">\n",
       "  <thead>\n",
       "    <tr style=\"text-align: right;\">\n",
       "      <th></th>\n",
       "      <th>p8_degreee_level</th>\n",
       "      <th>prop</th>\n",
       "    </tr>\n",
       "  </thead>\n",
       "  <tbody>\n",
       "    <tr>\n",
       "      <td>Graduação/Bacharelado</td>\n",
       "      <td>578</td>\n",
       "      <td>0.327479</td>\n",
       "    </tr>\n",
       "    <tr>\n",
       "      <td>Pós-graduação</td>\n",
       "      <td>527</td>\n",
       "      <td>0.298584</td>\n",
       "    </tr>\n",
       "    <tr>\n",
       "      <td>Estudante de Graduação</td>\n",
       "      <td>374</td>\n",
       "      <td>0.211898</td>\n",
       "    </tr>\n",
       "    <tr>\n",
       "      <td>Mestrado</td>\n",
       "      <td>201</td>\n",
       "      <td>0.113881</td>\n",
       "    </tr>\n",
       "    <tr>\n",
       "      <td>Doutorado ou Phd</td>\n",
       "      <td>50</td>\n",
       "      <td>0.028329</td>\n",
       "    </tr>\n",
       "    <tr>\n",
       "      <td>Não tenho graduação formal</td>\n",
       "      <td>34</td>\n",
       "      <td>0.019263</td>\n",
       "    </tr>\n",
       "    <tr>\n",
       "      <td>Prefiro não informar</td>\n",
       "      <td>1</td>\n",
       "      <td>0.000567</td>\n",
       "    </tr>\n",
       "  </tbody>\n",
       "</table>\n",
       "</div>"
      ],
      "text/plain": [
       "                            p8_degreee_level      prop\n",
       "Graduação/Bacharelado                    578  0.327479\n",
       "Pós-graduação                            527  0.298584\n",
       "Estudante de Graduação                   374  0.211898\n",
       "Mestrado                                 201  0.113881\n",
       "Doutorado ou Phd                          50  0.028329\n",
       "Não tenho graduação formal                34  0.019263\n",
       "Prefiro não informar                       1  0.000567"
      ]
     },
     "execution_count": 106,
     "metadata": {},
     "output_type": "execute_result"
    }
   ],
   "source": [
    "educacao = dados['p8_degreee_level'].value_counts().to_frame()\n",
    "educacao['prop'] = educacao['p8_degreee_level']/dados['p8_degreee_level'].count()\n",
    "educacao"
   ]
  },
  {
   "cell_type": "code",
   "execution_count": 109,
   "metadata": {},
   "outputs": [
    {
     "data": {
      "text/plain": [
       "Text(0.5, 0, 'Nº de respondentes')"
      ]
     },
     "execution_count": 109,
     "metadata": {},
     "output_type": "execute_result"
    },
    {
     "data": {
      "image/png": "[encoded data removed]",
      "text/plain": [
       "<Figure size 360x720 with 1 Axes>"
      ]
     },
     "metadata": {
      "needs_background": "light"
     },
     "output_type": "display_data"
    }
   ],
   "source": [
    "# barplot\n",
    "plt.figure(figsize=(5,10))\n",
    "sns.barplot(y=educacao.index, x=educacao.p8_degreee_level, color='lightblue', orient='h')\n",
    "plt.title('Escolaridade dos Respondentes')\n",
    "plt.xlabel('Nº de respondentes')"
   ]
  },
  {
   "cell_type": "code",
   "execution_count": null,
   "metadata": {},
   "outputs": [],
   "source": []
  }
 ],
 "metadata": {
  "kernelspec": {
   "display_name": "Python 3",
   "language": "python",
   "name": "python3"
  },
  "language_info": {
   "codemirror_mode": {
    "name": "ipython",
    "version": 3
   },
   "file_extension": ".py",
   "mimetype": "text/x-python",
   "name": "python",
   "nbconvert_exporter": "python",
   "pygments_lexer": "ipython3",
   "version": "3.6.9"
  }
 },
 "nbformat": 4,
 "nbformat_minor": 4
}
